{
  "nbformat": 4,
  "nbformat_minor": 0,
  "metadata": {
    "colab": {
      "name": "Warsztat_1.ipynb",
      "provenance": [],
      "authorship_tag": "ABX9TyNmiJMx9D/DTcpe2qFnG36G",
      "include_colab_link": true
    },
    "kernelspec": {
      "name": "python3",
      "display_name": "Python 3"
    }
  },
  "cells": [
    {
      "cell_type": "markdown",
      "metadata": {
        "id": "view-in-github",
        "colab_type": "text"
      },
      "source": [
        "<a href=\"https://colab.research.google.com/github/KatBotkowska/WiT_workshops/blob/main/Warsztat_1.ipynb\" target=\"_parent\"><img src=\"https://colab.research.google.com/assets/colab-badge.svg\" alt=\"Open In Colab\"/></a>"
      ]
    },
    {
      "cell_type": "markdown",
      "metadata": {
        "id": "xg4XOfwdvsgY"
      },
      "source": [
        "#WARSZTAT NR 1\n",
        "\n",
        "\n",
        "\n",
        "\n",
        "\n",
        "GIT\n",
        "https://git-scm.com/download/ // download\n",
        "\n",
        "https://github.com/\n",
        "\n",
        "Różnice pomiędzy Gitem a innymi systemami kontroli wersji\n",
        "Trzy stany plików:\n",
        "\n",
        "modified\n",
        "staged\n",
        "committed\n",
        "Projekt w Gicie dzieli się na:\n",
        "\n",
        "working directory\n",
        "\"index\"\n",
        ".git directory\n",
        "Workflow\n",
        "modify -> working directory -> stage -> index -> commit -> .git repository\n",
        "\n",
        "Git config:\n",
        "\n",
        "$ git config [--global] user.name \"X Y\"\n",
        "$ git config [--global] user.email xy@xy.com\n",
        "$ git config --list\n",
        "Tworzenie i używanie repozytorium:\n",
        "\n",
        "$ cd *\n",
        "$ git init\n",
        "$ git add *\n",
        "$ git status\n",
        "$ git diff\n",
        "$ git commit -m \"tell everyone why do you want to commit these files\"\n",
        "Kopiowanie repozytorium z serwera:\n",
        "\n",
        "$ git clone https://* new_dir\n",
        "lub\n",
        "\n",
        "git clone user@server:/pathtorepo.git\n",
        "Omówienie najważniejszych komend (spróbuj przećwiczyć je w ramach zadania domowego!)\n",
        "\n",
        "$ git branch nazwa_brancha\n",
        "$ git checkout nazwa_brancha\n",
        "$ git merge nazwa_brancha\n",
        "$ git branch -a\n",
        "\n",
        "$ git branch --move nazwa_brancha nowa_nazwa_brancha\n",
        "$ git push --set-upstream origin nowa_nazwa_brancha\n",
        "$ git push origin --delete nazwa_brancha\n",
        "\n",
        "$ git pull [origin master]\n",
        "$ git fetch\n",
        "$ git remote show origin\n",
        "\n",
        "$ git diff > *.patch\n",
        "\n",
        "$ git log"
      ]
    },
    {
      "cell_type": "markdown",
      "metadata": {
        "id": "fdTGP4pDwF_X"
      },
      "source": [
        "#Jupyter Notebook\n",
        "Projekt open source, interfejs do tworzenia notatnika z obliczeniami, wizualizacją wyników, fragmentami kodu itp.\n",
        "\n",
        "https://jupyter.org/\n",
        "\n",
        "Python może być jednym z wielu jąder obliczeniowych Jupytera.\n",
        "\n"
      ]
    },
    {
      "cell_type": "code",
      "metadata": {
        "id": "5nG44Xk_1aVC"
      },
      "source": [
        "$ pip install jupyter\n",
        "$ cd *\n",
        "$ jupyter notebook"
      ],
      "execution_count": null,
      "outputs": []
    },
    {
      "cell_type": "markdown",
      "metadata": {
        "id": "-eTXoNXl1Osw"
      },
      "source": [
        "#Kaggle\n",
        "https://www.kaggle.com/competitions //zadania i zawody\n",
        "\n",
        "https://www.kaggle.com/learn/intro-to-machine-learning //podstawy ML\n",
        "\n",
        "https://www.kaggle.com/kernels //notebooks\n",
        "\n",
        "https://www.kaggle.com/datasets //zbiory danych\n",
        "\n",
        "https://www.kaggle.com/learn/overview //kursy - także Python\n",
        "\n",
        "https://www.kaggle.com/dansbecker/getting-started-with-sql-and-bigquery //jak połączyć się z bazą danych na podstawie Big Query Google (więcej na ten temat tu: https://googleapis.dev/python/bigquery/latest/magics.html)\n",
        "\n",
        "Nasz zbiór danych - Beijing PM2.5: https://www.kaggle.com/sid321axn/beijing-multisite-airquality-data-set?select=PRSA_Data_Gucheng_20130301-20170228.csv\n",
        "\n",
        "Oryginalne źródło danych i opis: https://archive.ics.uci.edu/ml/datasets/Beijing+Multi-Site+Air-Quality+Data"
      ]
    },
    {
      "cell_type": "markdown",
      "metadata": {
        "id": "C2BIRo6x115c"
      },
      "source": [
        "#Markdown\n",
        "Jak formatować komórki z tekstem? https://github.com/adam-p/markdown-here/wiki/Markdown-Cheatsheet"
      ]
    },
    {
      "cell_type": "markdown",
      "metadata": {
        "id": "wOSp28xf16rC"
      },
      "source": [
        "## **Biblioteki**\n",
        "\n",
        "Biblioteki znacząco usprawniają proces programowania i poprawiają jakość kodu.\n",
        "\n",
        "Python oferuje wiele bibliotek dla specjalistów z dziedziny Data Science i ML.\n",
        "Wiele z nich to \"must have\" dla programisty Pythona. Wśród nich można wymienić:\n",
        "\n",
        "- TensorFlow: biblioteka do ML rozwijana przez Google, https://www.tensorflow.org/\n",
        "- Scikit-Learn: jedna z najlepszych bibliotek do pracy ze złożonymi danymi, powiązana z Numpy i Scipy, https://scikit-learn.org/stable/\n",
        "- Numpy: biblioteka do analizy danych, z interfejsem macierzowym, https://numpy.org/\n",
        "- Keras: modele sieci neuronowych, https://keras.io/\n",
        "- PyTorch: biblioteka ML, https://pytorch.org/\n",
        "- SciPy: biblioteka ML, wykorzystywana przez inżynierów i developerów, zawiera moduły do optymalizacji, algebry liniowej, statystyki, https://www.scipy.org/\n",
        "- Pandas: biblioteka do grupowania i filtrowania danych, upraszcza proces analizy danych, https://pandas.pydata.org/"
      ]
    },
    {
      "cell_type": "markdown",
      "metadata": {
        "id": "ELSfZfgB1_BT"
      },
      "source": [
        "#Podstawy programowania w Pythonie\n",
        "\n",
        "Python jest językiem interpretowanym, nie kompilowanym.\n",
        "\n",
        "Wcięcia w kodzie są bardzo ważne. Musi to być min. 1 spacja, aby uniknąć błędów.\n",
        "\n",
        "Uruchamianie kodu: linia po linii w konsoli lub program w pliku *.py\n",
        "\n"
      ]
    },
    {
      "cell_type": "code",
      "metadata": {
        "id": "883o1f4a2LvQ"
      },
      "source": [
        "$ python\n",
        "$ >>> linia kodu...\n",
        "$ >>> exit()"
      ],
      "execution_count": null,
      "outputs": []
    },
    {
      "cell_type": "code",
      "metadata": {
        "id": "C5eaDJxr2O00"
      },
      "source": [
        "$ python plik.py"
      ],
      "execution_count": null,
      "outputs": []
    },
    {
      "cell_type": "markdown",
      "metadata": {
        "id": "smn_FdCn2SmL"
      },
      "source": [
        "Komentowanie kodu: # komentarz\n",
        "\n",
        "#Typy danych - przykłady\n",
        "Text: str\n",
        "\n",
        "Numeric: int, float, complex\n",
        "\n",
        "Sequence: list, tuple, range\n",
        "\n",
        "Mapping: dict\n",
        "\n",
        "Set: set\n",
        "\n",
        "Boolean: bool\n",
        "\n",
        "Binary: bytes\n",
        "\n",
        "Casting: np. x = str(100)"
      ]
    },
    {
      "cell_type": "code",
      "metadata": {
        "id": "QMk89ElG2fc9"
      },
      "source": [
        "x = \"hello world\"\n",
        "print(x, type(x))\n",
        "x = 2\n",
        "print(x, type(x))\n",
        "x = 2.0\n",
        "print(x, type(x))\n",
        "x = 10j\n",
        "print(x, type(x))\n",
        "x = [1, 2, 3]\n",
        "print(x, type(x))\n",
        "x = (\"x\", \"y\")\n",
        "print(x, type(x))\n",
        "x = range(5) # from 0 to n-1\n",
        "print(x, type(x))\n",
        "x = {\"users\": 20}\n",
        "print(x, type(x))\n",
        "x = {\"set1\", \"set2\"}\n",
        "print(x, type(x))\n",
        "x = True\n",
        "print(x, type(x))\n",
        "x = b\"Bytes\"\n",
        "print(x, type(x))"
      ],
      "execution_count": null,
      "outputs": []
    },
    {
      "cell_type": "markdown",
      "metadata": {
        "id": "MvkeOOYC2hQA"
      },
      "source": [
        "Nazwy zmiennych\n",
        "\n",
        "Początek nazw zmiennych: zawsze litera lub _\n",
        "\n",
        "Camel/Pascal/Snake Case: myName, MyName, my_name"
      ]
    },
    {
      "cell_type": "markdown",
      "metadata": {
        "id": "AtKny9sD2s_8"
      },
      "source": [
        "Wczytywanie danych z plików\n",
        "\n",
        "https://docs.python.org/3/library/functions.html#open\n",
        "\n",
        "Używamy wbudowanej funkcji open, w której wymaganym argumentem jest path, a opcjonalnym mode.\n",
        "\n"
      ]
    },
    {
      "cell_type": "code",
      "metadata": {
        "id": "YYAi6dM52oJx"
      },
      "source": [
        "f = open(path, mode)"
      ],
      "execution_count": null,
      "outputs": []
    },
    {
      "cell_type": "markdown",
      "metadata": {
        "id": "KuH1EH6R2xh5"
      },
      "source": [
        "<code>mode</code> to tryb, w którym otwarty jest plik, np. \n",
        "- <code>r</code> - open for reading,\n",
        "```\n",
        "f.read()\n",
        "```\n",
        "- <code>w</code> - open for writing. \n",
        "```\n",
        "f.write(something)\n",
        "```\n",
        "\n",
        "Obowiązkiem programującego jest dopilnować późniejszego zamknięcia pliku. Można to zrobić na 2 sposoby: za pomocą <code>try/finally</code> lub za pomocą <code>with</code>. Druga z tych opcji jest bardziej eleganckim rozwiązaniem i pozwala uzyskać lepszą kontrolę nad obsługą wyjątków.\n",
        "\n",
        "- metoda z <code>try/finally</code>\n",
        "\n",
        "```\n",
        "f = open(path)\n",
        "try:\n",
        "    # dalsze przetwarzanie danych z pliku\n",
        "finally:\n",
        "    f.close()\n",
        "```\n",
        "\n",
        "- metoda z <code>with</code>\n",
        "\n",
        "```\n",
        "with open(path, mode) as f:\n",
        "    # dalsze przetwarzanie danych z pliku\n",
        "```"
      ]
    },
    {
      "cell_type": "code",
      "metadata": {
        "id": "dn-FC_DL3D7Z"
      },
      "source": [
        "with open('helloworld.txt', 'r') as f:\n",
        "    # dalsze przetwarzanie danych z pliku\n",
        "    print(f.readline())\n",
        "    #print(f.read())\n",
        "    #print(f.readlines())"
      ],
      "execution_count": null,
      "outputs": []
    },
    {
      "cell_type": "code",
      "metadata": {
        "id": "k_Lr6Oz43GhW"
      },
      "source": [
        "print(f.readline())"
      ],
      "execution_count": null,
      "outputs": []
    },
    {
      "cell_type": "markdown",
      "metadata": {
        "id": "6a1bfbUd28yY"
      },
      "source": [
        "**Podstawowe funkcje i rekurencja**\n",
        "\n",
        "Definicję funkcji zaczyna się od słowa kluczowego <code>def</code>.\n",
        "\n",
        "Ważne, aby pamiętać o wcięciach. W przypadku Pythona jest to nie tylko kwestia 'kosmetyczna', ale też konieczna, aby kod nie zwrócił błędu."
      ]
    },
    {
      "cell_type": "code",
      "metadata": {
        "id": "dJSs5oes3MCb"
      },
      "source": [
        "def funkcja():\n",
        "    pass # statement używany w celu uniknięcia błędu, gdy nie mamy jeszcze zdefiniowanej treści funkcji\n",
        "\n",
        "funkcja()"
      ],
      "execution_count": null,
      "outputs": []
    },
    {
      "cell_type": "markdown",
      "metadata": {
        "id": "370QlcjV3RfP"
      },
      "source": [
        "**Argumenty i parametry**\n",
        "\n",
        "Parametry to zmienne wewnątrz nawiasów w definicji funkcji.\n",
        "Argumenty to wartości zmiennych przesyłane w momencie wywoływania funkcji."
      ]
    },
    {
      "cell_type": "code",
      "metadata": {
        "colab": {
          "base_uri": "https://localhost:8080/"
        },
        "id": "R8X9BHHd3SpO",
        "outputId": "310a9e43-a33d-46f0-ee66-54970d014e78"
      },
      "source": [
        "def funkcja(arg1, arg2): # parametry\n",
        "    return(arg1 + arg2)\n",
        "\n",
        "funkcja(1, 5) # argumenty"
      ],
      "execution_count": 1,
      "outputs": [
        {
          "output_type": "execute_result",
          "data": {
            "text/plain": [
              "6"
            ]
          },
          "metadata": {
            "tags": []
          },
          "execution_count": 1
        }
      ]
    },
    {
      "cell_type": "markdown",
      "metadata": {
        "id": "rv5zdkyj3XbV"
      },
      "source": [
        "Jeżeli liczba argumentów nie jest zdefiniowana z góry, należy użyć * przed nazwą parametru."
      ]
    },
    {
      "cell_type": "code",
      "metadata": {
        "colab": {
          "base_uri": "https://localhost:8080/"
        },
        "id": "jzlV1haS3bOa",
        "outputId": "cbdbec41-0dc3-4568-bf10-c8a884bffc2b"
      },
      "source": [
        "def funkcja(*args): # parametry\n",
        "    return(sum(args))\n",
        "\n",
        "funkcja(1, 5, 8, 9) # argumenty"
      ],
      "execution_count": 2,
      "outputs": [
        {
          "output_type": "execute_result",
          "data": {
            "text/plain": [
              "23"
            ]
          },
          "metadata": {
            "tags": []
          },
          "execution_count": 2
        }
      ]
    },
    {
      "cell_type": "code",
      "metadata": {
        "colab": {
          "base_uri": "https://localhost:8080/"
        },
        "id": "N5nWKNBv3dnh",
        "outputId": "150ae2d9-c237-4ac3-9522-70de0b63bbcf"
      },
      "source": [
        "funkcja(1, 3) # argumenty"
      ],
      "execution_count": 3,
      "outputs": [
        {
          "output_type": "execute_result",
          "data": {
            "text/plain": [
              "4"
            ]
          },
          "metadata": {
            "tags": []
          },
          "execution_count": 3
        }
      ]
    },
    {
      "cell_type": "markdown",
      "metadata": {
        "id": "PGySiRqN3nS6"
      },
      "source": [
        "Jeżeli liczba nazwanych argumentów nie jest zdefiniowana z góry, należy użyć ** przed nazwą parametru."
      ]
    },
    {
      "cell_type": "code",
      "metadata": {
        "id": "jk1ob-u13sMv"
      },
      "source": [
        "def funkcja(**args): # parametry\n",
        "    return(print(args))\n",
        "\n",
        "funkcja(no1=1, no2=5, no3=8, no4=9) # argumenty"
      ],
      "execution_count": null,
      "outputs": []
    },
    {
      "cell_type": "code",
      "metadata": {
        "id": "kGW3l1hN3s37"
      },
      "source": [
        "funkcja(no1=1, no2=0, no3=4, no4=5, no5=20) # argumenty"
      ],
      "execution_count": null,
      "outputs": []
    },
    {
      "cell_type": "markdown",
      "metadata": {
        "id": "3Gd-mIFN3zn-"
      },
      "source": [
        "Rekurencja jest powszechnie stosowana w matematyce i programowaniu. \n",
        "\n",
        "Zdefiniowana funkcja wywołuje samą siebie, więc należy uważać na to, by nie zaprogramować funkcji 'nigdy nie kończącej się' lub obciążającej nadmiernie procesor.\n",
        "\n",
        "Aby zdefiniować funkcję rekurencyjnie, należy znać przypadek bazowy/początkowy oraz regułę.\n",
        "\n",
        "Jednym z popularnych przykładów funkcji zdefiniowanych rekurencyjnie jest silnia.\n",
        "\n",
        "- przypadek bazowy: 0! = 1\n",
        "- reguła: n! = (n - 1)! * n, dla n > 1"
      ]
    },
    {
      "cell_type": "code",
      "metadata": {
        "id": "I3nsJSN635KE"
      },
      "source": [
        "def factorial(n):\n",
        "   if n == 0:\n",
        "       return 1\n",
        "   else:\n",
        "       return n*factorial(n-1)\n",
        "\n",
        "factorial(3)"
      ],
      "execution_count": null,
      "outputs": []
    },
    {
      "cell_type": "code",
      "metadata": {
        "id": "DsR9gXhM37za"
      },
      "source": [
        "factorial(0)"
      ],
      "execution_count": null,
      "outputs": []
    },
    {
      "cell_type": "code",
      "metadata": {
        "id": "uvmtJr5P38Zt"
      },
      "source": [
        "factorial(1)"
      ],
      "execution_count": null,
      "outputs": []
    },
    {
      "cell_type": "markdown",
      "metadata": {
        "id": "Jo0G-nQQ4C9o"
      },
      "source": [
        "**Zadanie do realizacji w domu**\n",
        "\n",
        "http://algorytmy.ency.pl/artykul/quicksort"
      ]
    },
    {
      "cell_type": "markdown",
      "metadata": {
        "id": "ayQ9NVPU4IQJ"
      },
      "source": [
        "**Klasy i obiekty**\n",
        "\n",
        "Python jest językiem zorientowanym obiektowo. Tego rodzaju języki programowania bazują na obiektach w przeciwieństwie do programowania proceduralnego, gdzie nacisk kładziony jest na funkcje.\n",
        "\n",
        "Klasa stanowi 'projekt' obiektu. Obiekt jest instancją klasy. Na bazie jednej klasy można utworzyć wiele obiektów.\n",
        "\n",
        "Definicję klasy zaczyna się od słowa kluczowego <code>class</code>. Jednocześnie zostaje utworzony obiekt danej klasy o tej samej nazwie. Atrybutami klasy mogą być dane lub funkcje."
      ]
    },
    {
      "cell_type": "code",
      "metadata": {
        "id": "0w9KM8yr4KES"
      },
      "source": [
        "class NowaKlasa:\n",
        "    \"Docstring\"\n",
        "    def __init__(self, attr = 0):\n",
        "        self.atrybut = attr # atrybuty klasy\n",
        "\n",
        "    def przedstaw_atrybut(self): # metody wewnątrz klasy\n",
        "        print(\"Wartosc atrybutu wynosi: \" + str(self.atrybut))\n",
        "\n",
        "print(NowaKlasa.__doc__)\n",
        "print(NowaKlasa.przedstaw_atrybut)\n",
        "\n",
        "Instancja = NowaKlasa(0)\n",
        "Instancja.przedstaw_atrybut()\n",
        "\n",
        "Instancja2 = NowaKlasa(5)\n",
        "Instancja2.attr2 = 28\n",
        "Instancja2.przedstaw_atrybut()\n",
        "print(Instancja2)\n",
        "print(Instancja2.attr2)"
      ],
      "execution_count": null,
      "outputs": []
    },
    {
      "cell_type": "code",
      "metadata": {
        "id": "Y3Dfy-wx4Ohh"
      },
      "source": [
        "Usuwanie atrybutu:"
      ],
      "execution_count": null,
      "outputs": []
    },
    {
      "cell_type": "code",
      "metadata": {
        "id": "U57zeASo4QsQ"
      },
      "source": [
        "del Instancja2.attr2\n",
        "print(Instancja2.attr2)"
      ],
      "execution_count": null,
      "outputs": []
    },
    {
      "cell_type": "markdown",
      "metadata": {
        "id": "tXC_96bC4T6g"
      },
      "source": [
        "Usuwanie instancji:"
      ]
    },
    {
      "cell_type": "code",
      "metadata": {
        "id": "7zryEdoT4VsZ"
      },
      "source": [
        "del Instancja2\n",
        "print(Instancja2)"
      ],
      "execution_count": null,
      "outputs": []
    }
  ]
}