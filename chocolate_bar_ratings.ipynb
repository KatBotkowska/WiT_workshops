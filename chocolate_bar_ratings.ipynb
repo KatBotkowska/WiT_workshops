{
  "nbformat": 4,
  "nbformat_minor": 0,
  "metadata": {
    "colab": {
      "name": "chocolate_bar_ratings.ipynb",
      "provenance": [],
      "collapsed_sections": [
        "wvaK4gCBz4l4"
      ],
      "toc_visible": true,
      "authorship_tag": "ABX9TyOg0+M5svcW4oYRpS8Emr1B",
      "include_colab_link": true
    },
    "kernelspec": {
      "name": "python3",
      "display_name": "Python 3"
    }
  },
  "cells": [
    {
      "cell_type": "markdown",
      "metadata": {
        "id": "view-in-github",
        "colab_type": "text"
      },
      "source": [
        "<a href=\"https://colab.research.google.com/github/KatBotkowska/WiT_workshops/blob/main/chocolate_bar_ratings.ipynb\" target=\"_parent\"><img src=\"https://colab.research.google.com/assets/colab-badge.svg\" alt=\"Open In Colab\"/></a>"
      ]
    },
    {
      "cell_type": "markdown",
      "metadata": {
        "id": "2ekROKyDJoEa"
      },
      "source": [
        "#Imports"
      ]
    },
    {
      "cell_type": "code",
      "metadata": {
        "id": "a709fZDUFMfc",
        "colab": {
          "base_uri": "https://localhost:8080/"
        },
        "outputId": "227950ef-adb5-4401-88a2-45c210a314de"
      },
      "source": [
        "import pandas as pd\n",
        "import numpy as np\n",
        "import io\n",
        "from unicodedata import normalize\n",
        "from scipy.stats import pearsonr\n",
        "import seaborn as sns\n",
        "import matplotlib.pyplot as plt\n",
        "from sklearn.preprocessing import StandardScaler\n",
        "import scipy.stats as stats\n",
        "import statsmodels.api as sm\n",
        "from statsmodels.formula.api import ols\n"
      ],
      "execution_count": 1,
      "outputs": [
        {
          "output_type": "stream",
          "text": [
            "/usr/local/lib/python3.7/dist-packages/statsmodels/tools/_testing.py:19: FutureWarning: pandas.util.testing is deprecated. Use the functions in the public API at pandas.testing instead.\n",
            "  import pandas.util.testing as tm\n"
          ],
          "name": "stderr"
        }
      ]
    },
    {
      "cell_type": "code",
      "metadata": {
        "colab": {
          "base_uri": "https://localhost:8080/"
        },
        "id": "FhjjgJEOQOU6",
        "outputId": "01e96ddf-6330-4bbe-e712-f0ae879e04c1"
      },
      "source": [
        "!pip install bioinfokit\n",
        "import bioinfokit"
      ],
      "execution_count": 2,
      "outputs": [
        {
          "output_type": "stream",
          "text": [
            "Collecting bioinfokit\n",
            "\u001b[?25l  Downloading https://files.pythonhosted.org/packages/33/23/e28f528e56cd34c9b4f29ae7fd1dce1fcc40d88abcf551d34651900f8be5/bioinfokit-2.0.2.tar.gz (82kB)\n",
            "\r\u001b[K     |████                            | 10kB 11.9MB/s eta 0:00:01\r\u001b[K     |████████                        | 20kB 16.8MB/s eta 0:00:01\r\u001b[K     |████████████                    | 30kB 9.7MB/s eta 0:00:01\r\u001b[K     |███████████████▉                | 40kB 7.9MB/s eta 0:00:01\r\u001b[K     |███████████████████▉            | 51kB 4.9MB/s eta 0:00:01\r\u001b[K     |███████████████████████▉        | 61kB 5.4MB/s eta 0:00:01\r\u001b[K     |███████████████████████████▊    | 71kB 5.3MB/s eta 0:00:01\r\u001b[K     |███████████████████████████████▊| 81kB 5.8MB/s eta 0:00:01\r\u001b[K     |████████████████████████████████| 92kB 3.7MB/s \n",
            "\u001b[?25hRequirement already satisfied: pandas in /usr/local/lib/python3.7/dist-packages (from bioinfokit) (1.1.5)\n",
            "Requirement already satisfied: numpy in /usr/local/lib/python3.7/dist-packages (from bioinfokit) (1.19.5)\n",
            "Requirement already satisfied: matplotlib in /usr/local/lib/python3.7/dist-packages (from bioinfokit) (3.2.2)\n",
            "Requirement already satisfied: scipy in /usr/local/lib/python3.7/dist-packages (from bioinfokit) (1.4.1)\n",
            "Requirement already satisfied: scikit-learn in /usr/local/lib/python3.7/dist-packages (from bioinfokit) (0.22.2.post1)\n",
            "Requirement already satisfied: seaborn in /usr/local/lib/python3.7/dist-packages (from bioinfokit) (0.11.1)\n",
            "Requirement already satisfied: matplotlib-venn in /usr/local/lib/python3.7/dist-packages (from bioinfokit) (0.11.6)\n",
            "Requirement already satisfied: tabulate in /usr/local/lib/python3.7/dist-packages (from bioinfokit) (0.8.9)\n",
            "Requirement already satisfied: statsmodels in /usr/local/lib/python3.7/dist-packages (from bioinfokit) (0.10.2)\n",
            "Collecting textwrap3\n",
            "  Downloading https://files.pythonhosted.org/packages/77/9c/a53e561d496ee5866bbeea4d3a850b3b545ed854f8a21007c1e0d872e94d/textwrap3-0.9.2-py2.py3-none-any.whl\n",
            "Collecting adjustText\n",
            "  Downloading https://files.pythonhosted.org/packages/9e/15/4157718bf323fd5f5b81c891c660d0f388e042d2689a558bf1389632dc44/adjustText-0.7.3.tar.gz\n",
            "Requirement already satisfied: pytz>=2017.2 in /usr/local/lib/python3.7/dist-packages (from pandas->bioinfokit) (2018.9)\n",
            "Requirement already satisfied: python-dateutil>=2.7.3 in /usr/local/lib/python3.7/dist-packages (from pandas->bioinfokit) (2.8.1)\n",
            "Requirement already satisfied: cycler>=0.10 in /usr/local/lib/python3.7/dist-packages (from matplotlib->bioinfokit) (0.10.0)\n",
            "Requirement already satisfied: kiwisolver>=1.0.1 in /usr/local/lib/python3.7/dist-packages (from matplotlib->bioinfokit) (1.3.1)\n",
            "Requirement already satisfied: pyparsing!=2.0.4,!=2.1.2,!=2.1.6,>=2.0.1 in /usr/local/lib/python3.7/dist-packages (from matplotlib->bioinfokit) (2.4.7)\n",
            "Requirement already satisfied: joblib>=0.11 in /usr/local/lib/python3.7/dist-packages (from scikit-learn->bioinfokit) (1.0.1)\n",
            "Requirement already satisfied: patsy>=0.4.0 in /usr/local/lib/python3.7/dist-packages (from statsmodels->bioinfokit) (0.5.1)\n",
            "Requirement already satisfied: six>=1.5 in /usr/local/lib/python3.7/dist-packages (from python-dateutil>=2.7.3->pandas->bioinfokit) (1.15.0)\n",
            "Building wheels for collected packages: bioinfokit, adjustText\n",
            "  Building wheel for bioinfokit (setup.py) ... \u001b[?25l\u001b[?25hdone\n",
            "  Created wheel for bioinfokit: filename=bioinfokit-2.0.2-cp37-none-any.whl size=56174 sha256=1e3e50b6058fdc86c383ab0ff57a882ec00ac957406b6b3ff98a5731a58c64bc\n",
            "  Stored in directory: /root/.cache/pip/wheels/8e/3c/1d/369f28890a2139410deef43f69444d49bea2c37d3c3904a0fe\n",
            "  Building wheel for adjustText (setup.py) ... \u001b[?25l\u001b[?25hdone\n",
            "  Created wheel for adjustText: filename=adjustText-0.7.3-cp37-none-any.whl size=7100 sha256=b0975635e5894b9d3efd5c1e2d75ee9ef334c7a482d36059e45c34638ba76f07\n",
            "  Stored in directory: /root/.cache/pip/wheels/41/95/74/7d347e136d672f8bc28e937032bc92baf4f80856763a7e7b72\n",
            "Successfully built bioinfokit adjustText\n",
            "Installing collected packages: textwrap3, adjustText, bioinfokit\n",
            "Successfully installed adjustText-0.7.3 bioinfokit-2.0.2 textwrap3-0.9.2\n"
          ],
          "name": "stdout"
        }
      ]
    },
    {
      "cell_type": "code",
      "metadata": {
        "colab": {
          "base_uri": "https://localhost:8080/"
        },
        "id": "hqDwSSzWplTI",
        "outputId": "7a65dd89-fd69-45a9-eb4a-ca97ff2822d2"
      },
      "source": [
        "#Mount google drive\n",
        "from google.colab import drive\n",
        "drive.mount('/content/gdrive')"
      ],
      "execution_count": 3,
      "outputs": [
        {
          "output_type": "stream",
          "text": [
            "Mounted at /content/gdrive\n"
          ],
          "name": "stdout"
        }
      ]
    },
    {
      "cell_type": "markdown",
      "metadata": {
        "id": "wvaK4gCBz4l4"
      },
      "source": [
        "#Getting data from Kaggle - not to run (only once at the beggining to download data from Kaggle to gdrive)"
      ]
    },
    {
      "cell_type": "code",
      "metadata": {
        "id": "pezF5SSlqJLm"
      },
      "source": [
        "root_path = 'gdrive/My Drive/WiT_workshops/'"
      ],
      "execution_count": null,
      "outputs": []
    },
    {
      "cell_type": "code",
      "metadata": {
        "colab": {
          "base_uri": "https://localhost:8080/"
        },
        "id": "H5oM72gnFvKg",
        "outputId": "002a9480-0932-4799-ff37-b65d3f01dca7"
      },
      "source": [
        "cd 'gdrive/My Drive/WiT_workshops/'"
      ],
      "execution_count": null,
      "outputs": [
        {
          "output_type": "stream",
          "text": [
            "/content/gdrive/My Drive/WiT_workshops\n"
          ],
          "name": "stdout"
        }
      ]
    },
    {
      "cell_type": "code",
      "metadata": {
        "colab": {
          "resources": {
            "http://localhost:8080/nbextensions/google.colab/files.js": {
              "data": "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",
              "ok": true,
              "headers": [
                [
                  "content-type",
                  "application/javascript"
                ]
              ],
              "status": 200,
              "status_text": ""
            }
          },
          "base_uri": "https://localhost:8080/",
          "height": 89
        },
        "id": "gRka04f8qzYk",
        "outputId": "0af8cc7e-5b59-4a66-e5eb-b0c10ef6e338"
      },
      "source": [
        "from google.colab import files\n",
        "files.upload()  #this will prompt you to upload the kaggle.json"
      ],
      "execution_count": null,
      "outputs": [
        {
          "output_type": "display_data",
          "data": {
            "text/html": [
              "\n",
              "     <input type=\"file\" id=\"files-fbace32b-bb6c-470c-91b5-a5dba1cb6ece\" name=\"files[]\" multiple disabled\n",
              "        style=\"border:none\" />\n",
              "     <output id=\"result-fbace32b-bb6c-470c-91b5-a5dba1cb6ece\">\n",
              "      Upload widget is only available when the cell has been executed in the\n",
              "      current browser session. Please rerun this cell to enable.\n",
              "      </output>\n",
              "      <script src=\"/nbextensions/google.colab/files.js\"></script> "
            ],
            "text/plain": [
              "<IPython.core.display.HTML object>"
            ]
          },
          "metadata": {
            "tags": []
          }
        },
        {
          "output_type": "stream",
          "text": [
            "Saving kaggle.json to kaggle (1).json\n"
          ],
          "name": "stdout"
        },
        {
          "output_type": "execute_result",
          "data": {
            "text/plain": [
              "{'kaggle.json': b'{\"username\":\"kbotkowska\",\"key\":\"90ebb11108c952959800f5549af3472d\"}'}"
            ]
          },
          "metadata": {
            "tags": []
          },
          "execution_count": 5
        }
      ]
    },
    {
      "cell_type": "code",
      "metadata": {
        "colab": {
          "base_uri": "https://localhost:8080/"
        },
        "id": "QKw8uL2brD0I",
        "outputId": "239ca919-c063-4714-93e7-bbe464c1025d"
      },
      "source": [
        "!pip install -q kaggle\n",
        "!mkdir -p ~/.kaggle\n",
        "!cp kaggle.json ~/.kaggle/\n",
        "!ls ~/.kaggle\n",
        "!chmod 600 /root/.kaggle/kaggle.json  # set permission"
      ],
      "execution_count": null,
      "outputs": [
        {
          "output_type": "stream",
          "text": [
            "kaggle.json\n"
          ],
          "name": "stdout"
        }
      ]
    },
    {
      "cell_type": "code",
      "metadata": {
        "colab": {
          "base_uri": "https://localhost:8080/"
        },
        "id": "ge55_sAA7Mvt",
        "outputId": "fb228aec-9895-4b68-f410-2b221d0e2a72"
      },
      "source": [
        "!kaggle datasets download -d rtatman/chocolate-bar-ratings\n",
        "# !kaggle datasets download -d sid321axn/beijing-multisite-airquality-data-set"
      ],
      "execution_count": null,
      "outputs": [
        {
          "output_type": "stream",
          "text": [
            "chocolate-bar-ratings.zip: Skipping, found more recently modified local copy (use --force to force download)\n"
          ],
          "name": "stdout"
        }
      ]
    },
    {
      "cell_type": "code",
      "metadata": {
        "id": "lPoPJQ06a-0w",
        "colab": {
          "base_uri": "https://localhost:8080/"
        },
        "outputId": "91894100-815c-4d42-a178-1cafab6d04b1"
      },
      "source": [
        "!unzip -q chocolate-bar-ratings.zip -d [datasets]"
      ],
      "execution_count": null,
      "outputs": [
        {
          "output_type": "stream",
          "text": [
            "replace [datasets]/flavors_of_cacao.csv? [y]es, [n]o, [A]ll, [N]one, [r]ename: y\n"
          ],
          "name": "stdout"
        }
      ]
    },
    {
      "cell_type": "markdown",
      "metadata": {
        "id": "bYRAMt4vz_Nl"
      },
      "source": [
        "#Preprocessing"
      ]
    },
    {
      "cell_type": "code",
      "metadata": {
        "id": "dqqUSfiJQ-oQ"
      },
      "source": [
        "choco = pd.read_csv('/content/gdrive/MyDrive/WiT_workshops/[datasets]/flavors_of_cacao.csv', encoding='utf-8')"
      ],
      "execution_count": 4,
      "outputs": []
    },
    {
      "cell_type": "code",
      "metadata": {
        "colab": {
          "base_uri": "https://localhost:8080/",
          "height": 204
        },
        "id": "TbBBIK7u8wS4",
        "outputId": "5ae301ee-e733-480b-91b5-83365febf4dd"
      },
      "source": [
        "choco.head()"
      ],
      "execution_count": 5,
      "outputs": [
        {
          "output_type": "execute_result",
          "data": {
            "text/html": [
              "<div>\n",
              "<style scoped>\n",
              "    .dataframe tbody tr th:only-of-type {\n",
              "        vertical-align: middle;\n",
              "    }\n",
              "\n",
              "    .dataframe tbody tr th {\n",
              "        vertical-align: top;\n",
              "    }\n",
              "\n",
              "    .dataframe thead th {\n",
              "        text-align: right;\n",
              "    }\n",
              "</style>\n",
              "<table border=\"1\" class=\"dataframe\">\n",
              "  <thead>\n",
              "    <tr style=\"text-align: right;\">\n",
              "      <th></th>\n",
              "      <th>Company \\n(Maker-if known)</th>\n",
              "      <th>Specific Bean Origin\\nor Bar Name</th>\n",
              "      <th>REF</th>\n",
              "      <th>Review\\nDate</th>\n",
              "      <th>Cocoa\\nPercent</th>\n",
              "      <th>Company\\nLocation</th>\n",
              "      <th>Rating</th>\n",
              "      <th>Bean\\nType</th>\n",
              "      <th>Broad Bean\\nOrigin</th>\n",
              "    </tr>\n",
              "  </thead>\n",
              "  <tbody>\n",
              "    <tr>\n",
              "      <th>0</th>\n",
              "      <td>A. Morin</td>\n",
              "      <td>Agua Grande</td>\n",
              "      <td>1876</td>\n",
              "      <td>2016</td>\n",
              "      <td>63%</td>\n",
              "      <td>France</td>\n",
              "      <td>3.75</td>\n",
              "      <td></td>\n",
              "      <td>Sao Tome</td>\n",
              "    </tr>\n",
              "    <tr>\n",
              "      <th>1</th>\n",
              "      <td>A. Morin</td>\n",
              "      <td>Kpime</td>\n",
              "      <td>1676</td>\n",
              "      <td>2015</td>\n",
              "      <td>70%</td>\n",
              "      <td>France</td>\n",
              "      <td>2.75</td>\n",
              "      <td></td>\n",
              "      <td>Togo</td>\n",
              "    </tr>\n",
              "    <tr>\n",
              "      <th>2</th>\n",
              "      <td>A. Morin</td>\n",
              "      <td>Atsane</td>\n",
              "      <td>1676</td>\n",
              "      <td>2015</td>\n",
              "      <td>70%</td>\n",
              "      <td>France</td>\n",
              "      <td>3.00</td>\n",
              "      <td></td>\n",
              "      <td>Togo</td>\n",
              "    </tr>\n",
              "    <tr>\n",
              "      <th>3</th>\n",
              "      <td>A. Morin</td>\n",
              "      <td>Akata</td>\n",
              "      <td>1680</td>\n",
              "      <td>2015</td>\n",
              "      <td>70%</td>\n",
              "      <td>France</td>\n",
              "      <td>3.50</td>\n",
              "      <td></td>\n",
              "      <td>Togo</td>\n",
              "    </tr>\n",
              "    <tr>\n",
              "      <th>4</th>\n",
              "      <td>A. Morin</td>\n",
              "      <td>Quilla</td>\n",
              "      <td>1704</td>\n",
              "      <td>2015</td>\n",
              "      <td>70%</td>\n",
              "      <td>France</td>\n",
              "      <td>3.50</td>\n",
              "      <td></td>\n",
              "      <td>Peru</td>\n",
              "    </tr>\n",
              "  </tbody>\n",
              "</table>\n",
              "</div>"
            ],
            "text/plain": [
              "  Company \\n(Maker-if known)  ... Broad Bean\\nOrigin\n",
              "0                   A. Morin  ...           Sao Tome\n",
              "1                   A. Morin  ...               Togo\n",
              "2                   A. Morin  ...               Togo\n",
              "3                   A. Morin  ...               Togo\n",
              "4                   A. Morin  ...               Peru\n",
              "\n",
              "[5 rows x 9 columns]"
            ]
          },
          "metadata": {
            "tags": []
          },
          "execution_count": 5
        }
      ]
    },
    {
      "cell_type": "code",
      "metadata": {
        "colab": {
          "base_uri": "https://localhost:8080/"
        },
        "id": "UTZQL8DEs6HM",
        "outputId": "a77d0dda-8207-484e-c524-fc758cd1dab7"
      },
      "source": [
        "choco.columns"
      ],
      "execution_count": 6,
      "outputs": [
        {
          "output_type": "execute_result",
          "data": {
            "text/plain": [
              "Index(['Company \\n(Maker-if known)', 'Specific Bean Origin\\nor Bar Name',\n",
              "       'REF', 'Review\\nDate', 'Cocoa\\nPercent', 'Company\\nLocation', 'Rating',\n",
              "       'Bean\\nType', 'Broad Bean\\nOrigin'],\n",
              "      dtype='object')"
            ]
          },
          "metadata": {
            "tags": []
          },
          "execution_count": 6
        }
      ]
    },
    {
      "cell_type": "code",
      "metadata": {
        "colab": {
          "base_uri": "https://localhost:8080/"
        },
        "id": "kzGy0n_9nj7B",
        "outputId": "d6476ec5-f07c-4a66-969b-754d9dc8310e"
      },
      "source": [
        "#remove \\n -new line sing from columns name\n",
        "choco.columns = [column.replace('\\n', '') for column in choco.columns.values]\n",
        "choco.columns"
      ],
      "execution_count": 7,
      "outputs": [
        {
          "output_type": "execute_result",
          "data": {
            "text/plain": [
              "Index(['Company (Maker-if known)', 'Specific Bean Originor Bar Name', 'REF',\n",
              "       'ReviewDate', 'CocoaPercent', 'CompanyLocation', 'Rating', 'BeanType',\n",
              "       'Broad BeanOrigin'],\n",
              "      dtype='object')"
            ]
          },
          "metadata": {
            "tags": []
          },
          "execution_count": 7
        }
      ]
    },
    {
      "cell_type": "code",
      "metadata": {
        "id": "Wo3DO-DPoAZg"
      },
      "source": [
        "#change columns name\n",
        "choco.columns = ['Company', 'Name', 'ReviewDataReference',\n",
        "       'ReviewDate', 'CocoaPercent', 'Country', 'Rating', 'BeanType',\n",
        "       'BroadBeanOrigin']"
      ],
      "execution_count": 8,
      "outputs": []
    },
    {
      "cell_type": "code",
      "metadata": {
        "colab": {
          "base_uri": "https://localhost:8080/"
        },
        "id": "sBhM0L5foUp0",
        "outputId": "b08c5813-a9f5-4970-a82c-d4294eeb0012"
      },
      "source": [
        "choco.columns"
      ],
      "execution_count": 9,
      "outputs": [
        {
          "output_type": "execute_result",
          "data": {
            "text/plain": [
              "Index(['Company', 'Name', 'ReviewDataReference', 'ReviewDate', 'CocoaPercent',\n",
              "       'Country', 'Rating', 'BeanType', 'BroadBeanOrigin'],\n",
              "      dtype='object')"
            ]
          },
          "metadata": {
            "tags": []
          },
          "execution_count": 9
        }
      ]
    },
    {
      "cell_type": "code",
      "metadata": {
        "id": "iplh6x3kAOrJ"
      },
      "source": [
        "#remvoe % from CocoaPercent column\n",
        "choco['CocoaPercent'] = choco['CocoaPercent'].apply(lambda x: float(x.replace('%', ''))/100)"
      ],
      "execution_count": 10,
      "outputs": []
    },
    {
      "cell_type": "code",
      "metadata": {
        "colab": {
          "base_uri": "https://localhost:8080/"
        },
        "id": "1OuS_xIVA8hK",
        "outputId": "a17612ec-4ddb-4e87-9761-c66bb63914e4"
      },
      "source": [
        "choco['CocoaPercent']"
      ],
      "execution_count": 11,
      "outputs": [
        {
          "output_type": "execute_result",
          "data": {
            "text/plain": [
              "0       0.63\n",
              "1       0.70\n",
              "2       0.70\n",
              "3       0.70\n",
              "4       0.70\n",
              "        ... \n",
              "1790    0.70\n",
              "1791    0.65\n",
              "1792    0.65\n",
              "1793    0.62\n",
              "1794    0.65\n",
              "Name: CocoaPercent, Length: 1795, dtype: float64"
            ]
          },
          "metadata": {
            "tags": []
          },
          "execution_count": 11
        }
      ]
    },
    {
      "cell_type": "code",
      "metadata": {
        "colab": {
          "base_uri": "https://localhost:8080/"
        },
        "id": "ns703VCZq5Rr",
        "outputId": "3053e14a-9b47-4cfc-bb07-653d7b0ae7c6"
      },
      "source": [
        " #check isnull\n",
        "choco.isnull().sum()"
      ],
      "execution_count": 12,
      "outputs": [
        {
          "output_type": "execute_result",
          "data": {
            "text/plain": [
              "Company                0\n",
              "Name                   0\n",
              "ReviewDataReference    0\n",
              "ReviewDate             0\n",
              "CocoaPercent           0\n",
              "Country                0\n",
              "Rating                 0\n",
              "BeanType               1\n",
              "BroadBeanOrigin        1\n",
              "dtype: int64"
            ]
          },
          "metadata": {
            "tags": []
          },
          "execution_count": 12
        }
      ]
    },
    {
      "cell_type": "code",
      "metadata": {
        "id": "hvxeozG3q2ez"
      },
      "source": [
        "#remove empty rows \n",
        "choco.dropna(inplace=True)"
      ],
      "execution_count": 13,
      "outputs": []
    },
    {
      "cell_type": "code",
      "metadata": {
        "colab": {
          "base_uri": "https://localhost:8080/"
        },
        "id": "Gh5olzl1rFC0",
        "outputId": "c0b4d8b1-5a17-4668-99c7-9fee273b3593"
      },
      "source": [
        "choco.isnull().sum()"
      ],
      "execution_count": 14,
      "outputs": [
        {
          "output_type": "execute_result",
          "data": {
            "text/plain": [
              "Company                0\n",
              "Name                   0\n",
              "ReviewDataReference    0\n",
              "ReviewDate             0\n",
              "CocoaPercent           0\n",
              "Country                0\n",
              "Rating                 0\n",
              "BeanType               0\n",
              "BroadBeanOrigin        0\n",
              "dtype: int64"
            ]
          },
          "metadata": {
            "tags": []
          },
          "execution_count": 14
        }
      ]
    },
    {
      "cell_type": "code",
      "metadata": {
        "colab": {
          "base_uri": "https://localhost:8080/",
          "height": 35
        },
        "id": "_KqJEPyGr5dj",
        "outputId": "e578f86c-a8da-4e63-c255-5718bea95e47"
      },
      "source": [
        "#there are space sing in column 'BeanType'\n",
        "choco.loc[1427]['BeanType']"
      ],
      "execution_count": 15,
      "outputs": [
        {
          "output_type": "execute_result",
          "data": {
            "application/vnd.google.colaboratory.intrinsic+json": {
              "type": "string"
            },
            "text/plain": [
              "'\\xa0'"
            ]
          },
          "metadata": {
            "tags": []
          },
          "execution_count": 15
        }
      ]
    },
    {
      "cell_type": "code",
      "metadata": {
        "id": "Ni4iASVatR-N"
      },
      "source": [
        "remove_space = lambda x: x.replace(u'\\xa0', u'')\n",
        "choco['BeanType'] = choco['BeanType'].apply(remove_space)"
      ],
      "execution_count": 16,
      "outputs": []
    },
    {
      "cell_type": "code",
      "metadata": {
        "colab": {
          "base_uri": "https://localhost:8080/",
          "height": 35
        },
        "id": "75I5J9AIte91",
        "outputId": "bbebcb5d-14e1-417b-e470-8ed8bb8eb16a"
      },
      "source": [
        "choco.loc[1427]['BeanType']"
      ],
      "execution_count": 17,
      "outputs": [
        {
          "output_type": "execute_result",
          "data": {
            "application/vnd.google.colaboratory.intrinsic+json": {
              "type": "string"
            },
            "text/plain": [
              "''"
            ]
          },
          "metadata": {
            "tags": []
          },
          "execution_count": 17
        }
      ]
    },
    {
      "cell_type": "code",
      "metadata": {
        "colab": {
          "base_uri": "https://localhost:8080/"
        },
        "id": "1W9CJP1bzpII",
        "outputId": "ebb71d66-4892-4619-cc63-95491b841677"
      },
      "source": [
        "choco.isnull().sum()"
      ],
      "execution_count": 18,
      "outputs": [
        {
          "output_type": "execute_result",
          "data": {
            "text/plain": [
              "Company                0\n",
              "Name                   0\n",
              "ReviewDataReference    0\n",
              "ReviewDate             0\n",
              "CocoaPercent           0\n",
              "Country                0\n",
              "Rating                 0\n",
              "BeanType               0\n",
              "BroadBeanOrigin        0\n",
              "dtype: int64"
            ]
          },
          "metadata": {
            "tags": []
          },
          "execution_count": 18
        }
      ]
    },
    {
      "cell_type": "code",
      "metadata": {
        "colab": {
          "base_uri": "https://localhost:8080/"
        },
        "id": "VF1NIBC40iy7",
        "outputId": "24c3817b-ca68-465b-85e5-4e0a6df31960"
      },
      "source": [
        "choco.isna().sum()"
      ],
      "execution_count": 19,
      "outputs": [
        {
          "output_type": "execute_result",
          "data": {
            "text/plain": [
              "Company                0\n",
              "Name                   0\n",
              "ReviewDataReference    0\n",
              "ReviewDate             0\n",
              "CocoaPercent           0\n",
              "Country                0\n",
              "Rating                 0\n",
              "BeanType               0\n",
              "BroadBeanOrigin        0\n",
              "dtype: int64"
            ]
          },
          "metadata": {
            "tags": []
          },
          "execution_count": 19
        }
      ]
    },
    {
      "cell_type": "code",
      "metadata": {
        "colab": {
          "base_uri": "https://localhost:8080/"
        },
        "id": "Ze6q5uCi0ZqL",
        "outputId": "f4d35cd0-9409-454d-8e59-e3441f16a553"
      },
      "source": [
        "choco['BeanType']"
      ],
      "execution_count": 20,
      "outputs": [
        {
          "output_type": "execute_result",
          "data": {
            "text/plain": [
              "0                \n",
              "1                \n",
              "2                \n",
              "3                \n",
              "4                \n",
              "          ...    \n",
              "1790             \n",
              "1791    Forastero\n",
              "1792    Forastero\n",
              "1793             \n",
              "1794             \n",
              "Name: BeanType, Length: 1793, dtype: object"
            ]
          },
          "metadata": {
            "tags": []
          },
          "execution_count": 20
        }
      ]
    },
    {
      "cell_type": "markdown",
      "metadata": {
        "id": "t5RHTaUHCDSm"
      },
      "source": [
        "##Dataset profie"
      ]
    },
    {
      "cell_type": "code",
      "metadata": {
        "colab": {
          "base_uri": "https://localhost:8080/"
        },
        "id": "x8fZlClzsYz5",
        "outputId": "873d2438-2806-4f77-e1be-252552f3ec81"
      },
      "source": [
        "choco.shape"
      ],
      "execution_count": 21,
      "outputs": [
        {
          "output_type": "execute_result",
          "data": {
            "text/plain": [
              "(1793, 9)"
            ]
          },
          "metadata": {
            "tags": []
          },
          "execution_count": 21
        }
      ]
    },
    {
      "cell_type": "code",
      "metadata": {
        "colab": {
          "base_uri": "https://localhost:8080/"
        },
        "id": "vA7tpWidsmNQ",
        "outputId": "53fbfd59-7ca5-425e-ee3a-6b5e13f724d2"
      },
      "source": [
        "choco.dtypes"
      ],
      "execution_count": 22,
      "outputs": [
        {
          "output_type": "execute_result",
          "data": {
            "text/plain": [
              "Company                 object\n",
              "Name                    object\n",
              "ReviewDataReference      int64\n",
              "ReviewDate               int64\n",
              "CocoaPercent           float64\n",
              "Country                 object\n",
              "Rating                 float64\n",
              "BeanType                object\n",
              "BroadBeanOrigin         object\n",
              "dtype: object"
            ]
          },
          "metadata": {
            "tags": []
          },
          "execution_count": 22
        }
      ]
    },
    {
      "cell_type": "code",
      "metadata": {
        "colab": {
          "base_uri": "https://localhost:8080/",
          "height": 297
        },
        "id": "dP43fDAdsde9",
        "outputId": "df1a513a-d6d9-46f1-f447-2f59442b3471"
      },
      "source": [
        "choco.describe()"
      ],
      "execution_count": 23,
      "outputs": [
        {
          "output_type": "execute_result",
          "data": {
            "text/html": [
              "<div>\n",
              "<style scoped>\n",
              "    .dataframe tbody tr th:only-of-type {\n",
              "        vertical-align: middle;\n",
              "    }\n",
              "\n",
              "    .dataframe tbody tr th {\n",
              "        vertical-align: top;\n",
              "    }\n",
              "\n",
              "    .dataframe thead th {\n",
              "        text-align: right;\n",
              "    }\n",
              "</style>\n",
              "<table border=\"1\" class=\"dataframe\">\n",
              "  <thead>\n",
              "    <tr style=\"text-align: right;\">\n",
              "      <th></th>\n",
              "      <th>ReviewDataReference</th>\n",
              "      <th>ReviewDate</th>\n",
              "      <th>CocoaPercent</th>\n",
              "      <th>Rating</th>\n",
              "    </tr>\n",
              "  </thead>\n",
              "  <tbody>\n",
              "    <tr>\n",
              "      <th>count</th>\n",
              "      <td>1793.000000</td>\n",
              "      <td>1793.000000</td>\n",
              "      <td>1793.000000</td>\n",
              "      <td>1793.000000</td>\n",
              "    </tr>\n",
              "    <tr>\n",
              "      <th>mean</th>\n",
              "      <td>1036.126046</td>\n",
              "      <td>2012.326269</td>\n",
              "      <td>0.716991</td>\n",
              "      <td>3.185862</td>\n",
              "    </tr>\n",
              "    <tr>\n",
              "      <th>std</th>\n",
              "      <td>553.128742</td>\n",
              "      <td>2.928666</td>\n",
              "      <td>0.063265</td>\n",
              "      <td>0.477668</td>\n",
              "    </tr>\n",
              "    <tr>\n",
              "      <th>min</th>\n",
              "      <td>5.000000</td>\n",
              "      <td>2006.000000</td>\n",
              "      <td>0.420000</td>\n",
              "      <td>1.000000</td>\n",
              "    </tr>\n",
              "    <tr>\n",
              "      <th>25%</th>\n",
              "      <td>576.000000</td>\n",
              "      <td>2010.000000</td>\n",
              "      <td>0.700000</td>\n",
              "      <td>3.000000</td>\n",
              "    </tr>\n",
              "    <tr>\n",
              "      <th>50%</th>\n",
              "      <td>1073.000000</td>\n",
              "      <td>2013.000000</td>\n",
              "      <td>0.700000</td>\n",
              "      <td>3.250000</td>\n",
              "    </tr>\n",
              "    <tr>\n",
              "      <th>75%</th>\n",
              "      <td>1502.000000</td>\n",
              "      <td>2015.000000</td>\n",
              "      <td>0.750000</td>\n",
              "      <td>3.500000</td>\n",
              "    </tr>\n",
              "    <tr>\n",
              "      <th>max</th>\n",
              "      <td>1952.000000</td>\n",
              "      <td>2017.000000</td>\n",
              "      <td>1.000000</td>\n",
              "      <td>5.000000</td>\n",
              "    </tr>\n",
              "  </tbody>\n",
              "</table>\n",
              "</div>"
            ],
            "text/plain": [
              "       ReviewDataReference   ReviewDate  CocoaPercent       Rating\n",
              "count          1793.000000  1793.000000   1793.000000  1793.000000\n",
              "mean           1036.126046  2012.326269      0.716991     3.185862\n",
              "std             553.128742     2.928666      0.063265     0.477668\n",
              "min               5.000000  2006.000000      0.420000     1.000000\n",
              "25%             576.000000  2010.000000      0.700000     3.000000\n",
              "50%            1073.000000  2013.000000      0.700000     3.250000\n",
              "75%            1502.000000  2015.000000      0.750000     3.500000\n",
              "max            1952.000000  2017.000000      1.000000     5.000000"
            ]
          },
          "metadata": {
            "tags": []
          },
          "execution_count": 23
        }
      ]
    },
    {
      "cell_type": "code",
      "metadata": {
        "colab": {
          "base_uri": "https://localhost:8080/"
        },
        "id": "3yiyZ9N7syXT",
        "outputId": "580da8b4-66d3-4bc0-8a2c-714e8a2ca26c"
      },
      "source": [
        "choco.info()"
      ],
      "execution_count": 24,
      "outputs": [
        {
          "output_type": "stream",
          "text": [
            "<class 'pandas.core.frame.DataFrame'>\n",
            "Int64Index: 1793 entries, 0 to 1794\n",
            "Data columns (total 9 columns):\n",
            " #   Column               Non-Null Count  Dtype  \n",
            "---  ------               --------------  -----  \n",
            " 0   Company              1793 non-null   object \n",
            " 1   Name                 1793 non-null   object \n",
            " 2   ReviewDataReference  1793 non-null   int64  \n",
            " 3   ReviewDate           1793 non-null   int64  \n",
            " 4   CocoaPercent         1793 non-null   float64\n",
            " 5   Country              1793 non-null   object \n",
            " 6   Rating               1793 non-null   float64\n",
            " 7   BeanType             1793 non-null   object \n",
            " 8   BroadBeanOrigin      1793 non-null   object \n",
            "dtypes: float64(2), int64(2), object(5)\n",
            "memory usage: 220.1+ KB\n"
          ],
          "name": "stdout"
        }
      ]
    },
    {
      "cell_type": "code",
      "metadata": {
        "colab": {
          "base_uri": "https://localhost:8080/",
          "height": 359
        },
        "id": "djITudNmrc-U",
        "outputId": "46e33e1e-c330-455b-ac3b-8623fb030dce"
      },
      "source": [
        "#sorting data\n",
        "choco.sort_values(['Rating', 'CocoaPercent'], ascending=False).head(10)"
      ],
      "execution_count": 25,
      "outputs": [
        {
          "output_type": "execute_result",
          "data": {
            "text/html": [
              "<div>\n",
              "<style scoped>\n",
              "    .dataframe tbody tr th:only-of-type {\n",
              "        vertical-align: middle;\n",
              "    }\n",
              "\n",
              "    .dataframe tbody tr th {\n",
              "        vertical-align: top;\n",
              "    }\n",
              "\n",
              "    .dataframe thead th {\n",
              "        text-align: right;\n",
              "    }\n",
              "</style>\n",
              "<table border=\"1\" class=\"dataframe\">\n",
              "  <thead>\n",
              "    <tr style=\"text-align: right;\">\n",
              "      <th></th>\n",
              "      <th>Company</th>\n",
              "      <th>Name</th>\n",
              "      <th>ReviewDataReference</th>\n",
              "      <th>ReviewDate</th>\n",
              "      <th>CocoaPercent</th>\n",
              "      <th>Country</th>\n",
              "      <th>Rating</th>\n",
              "      <th>BeanType</th>\n",
              "      <th>BroadBeanOrigin</th>\n",
              "    </tr>\n",
              "  </thead>\n",
              "  <tbody>\n",
              "    <tr>\n",
              "      <th>78</th>\n",
              "      <td>Amedei</td>\n",
              "      <td>Chuao</td>\n",
              "      <td>111</td>\n",
              "      <td>2007</td>\n",
              "      <td>0.70</td>\n",
              "      <td>Italy</td>\n",
              "      <td>5.0</td>\n",
              "      <td>Trinitario</td>\n",
              "      <td>Venezuela</td>\n",
              "    </tr>\n",
              "    <tr>\n",
              "      <th>86</th>\n",
              "      <td>Amedei</td>\n",
              "      <td>Toscano Black</td>\n",
              "      <td>40</td>\n",
              "      <td>2006</td>\n",
              "      <td>0.70</td>\n",
              "      <td>Italy</td>\n",
              "      <td>5.0</td>\n",
              "      <td>Blend</td>\n",
              "      <td></td>\n",
              "    </tr>\n",
              "    <tr>\n",
              "      <th>1528</th>\n",
              "      <td>Soma</td>\n",
              "      <td>Crazy 88</td>\n",
              "      <td>1077</td>\n",
              "      <td>2013</td>\n",
              "      <td>0.88</td>\n",
              "      <td>Canada</td>\n",
              "      <td>4.0</td>\n",
              "      <td></td>\n",
              "      <td>Guat., D.R., Peru, Mad., PNG</td>\n",
              "    </tr>\n",
              "    <tr>\n",
              "      <th>1335</th>\n",
              "      <td>Pralus</td>\n",
              "      <td>Fortissima</td>\n",
              "      <td>93</td>\n",
              "      <td>2006</td>\n",
              "      <td>0.80</td>\n",
              "      <td>France</td>\n",
              "      <td>4.0</td>\n",
              "      <td>Criollo, Trinitario</td>\n",
              "      <td>Ecuador</td>\n",
              "    </tr>\n",
              "    <tr>\n",
              "      <th>1427</th>\n",
              "      <td>Scharffen Berger</td>\n",
              "      <td>San Juan de Cheni</td>\n",
              "      <td>959</td>\n",
              "      <td>2012</td>\n",
              "      <td>0.78</td>\n",
              "      <td>U.S.A.</td>\n",
              "      <td>4.0</td>\n",
              "      <td></td>\n",
              "      <td>Peru</td>\n",
              "    </tr>\n",
              "    <tr>\n",
              "      <th>77</th>\n",
              "      <td>Amedei</td>\n",
              "      <td>Nine</td>\n",
              "      <td>111</td>\n",
              "      <td>2007</td>\n",
              "      <td>0.75</td>\n",
              "      <td>Italy</td>\n",
              "      <td>4.0</td>\n",
              "      <td>Blend</td>\n",
              "      <td></td>\n",
              "    </tr>\n",
              "    <tr>\n",
              "      <th>222</th>\n",
              "      <td>Bonnat</td>\n",
              "      <td>Kaori</td>\n",
              "      <td>1339</td>\n",
              "      <td>2014</td>\n",
              "      <td>0.75</td>\n",
              "      <td>France</td>\n",
              "      <td>4.0</td>\n",
              "      <td></td>\n",
              "      <td>Brazil</td>\n",
              "    </tr>\n",
              "    <tr>\n",
              "      <th>231</th>\n",
              "      <td>Bonnat</td>\n",
              "      <td>Haiti</td>\n",
              "      <td>629</td>\n",
              "      <td>2011</td>\n",
              "      <td>0.75</td>\n",
              "      <td>France</td>\n",
              "      <td>4.0</td>\n",
              "      <td></td>\n",
              "      <td>Haiti</td>\n",
              "    </tr>\n",
              "    <tr>\n",
              "      <th>232</th>\n",
              "      <td>Bonnat</td>\n",
              "      <td>Madagascar, 100% criollo</td>\n",
              "      <td>629</td>\n",
              "      <td>2011</td>\n",
              "      <td>0.75</td>\n",
              "      <td>France</td>\n",
              "      <td>4.0</td>\n",
              "      <td>Criollo</td>\n",
              "      <td>Madagascar</td>\n",
              "    </tr>\n",
              "    <tr>\n",
              "      <th>239</th>\n",
              "      <td>Bonnat</td>\n",
              "      <td>Porcelana, Venezuela</td>\n",
              "      <td>199</td>\n",
              "      <td>2008</td>\n",
              "      <td>0.75</td>\n",
              "      <td>France</td>\n",
              "      <td>4.0</td>\n",
              "      <td>Criollo (Porcelana)</td>\n",
              "      <td>Venezuela</td>\n",
              "    </tr>\n",
              "  </tbody>\n",
              "</table>\n",
              "</div>"
            ],
            "text/plain": [
              "               Company  ...               BroadBeanOrigin\n",
              "78              Amedei  ...                     Venezuela\n",
              "86              Amedei  ...                              \n",
              "1528              Soma  ...  Guat., D.R., Peru, Mad., PNG\n",
              "1335            Pralus  ...                       Ecuador\n",
              "1427  Scharffen Berger  ...                          Peru\n",
              "77              Amedei  ...                              \n",
              "222             Bonnat  ...                        Brazil\n",
              "231             Bonnat  ...                         Haiti\n",
              "232             Bonnat  ...                    Madagascar\n",
              "239             Bonnat  ...                     Venezuela\n",
              "\n",
              "[10 rows x 9 columns]"
            ]
          },
          "metadata": {
            "tags": []
          },
          "execution_count": 25
        }
      ]
    },
    {
      "cell_type": "code",
      "metadata": {
        "colab": {
          "base_uri": "https://localhost:8080/",
          "height": 359
        },
        "id": "7JUfQH8XNYE1",
        "outputId": "8fe655af-d352-42a7-be96-7982e0abe39b"
      },
      "source": [
        "choco[choco['CocoaPercent']>=0.7].head(10)"
      ],
      "execution_count": 26,
      "outputs": [
        {
          "output_type": "execute_result",
          "data": {
            "text/html": [
              "<div>\n",
              "<style scoped>\n",
              "    .dataframe tbody tr th:only-of-type {\n",
              "        vertical-align: middle;\n",
              "    }\n",
              "\n",
              "    .dataframe tbody tr th {\n",
              "        vertical-align: top;\n",
              "    }\n",
              "\n",
              "    .dataframe thead th {\n",
              "        text-align: right;\n",
              "    }\n",
              "</style>\n",
              "<table border=\"1\" class=\"dataframe\">\n",
              "  <thead>\n",
              "    <tr style=\"text-align: right;\">\n",
              "      <th></th>\n",
              "      <th>Company</th>\n",
              "      <th>Name</th>\n",
              "      <th>ReviewDataReference</th>\n",
              "      <th>ReviewDate</th>\n",
              "      <th>CocoaPercent</th>\n",
              "      <th>Country</th>\n",
              "      <th>Rating</th>\n",
              "      <th>BeanType</th>\n",
              "      <th>BroadBeanOrigin</th>\n",
              "    </tr>\n",
              "  </thead>\n",
              "  <tbody>\n",
              "    <tr>\n",
              "      <th>1</th>\n",
              "      <td>A. Morin</td>\n",
              "      <td>Kpime</td>\n",
              "      <td>1676</td>\n",
              "      <td>2015</td>\n",
              "      <td>0.7</td>\n",
              "      <td>France</td>\n",
              "      <td>2.75</td>\n",
              "      <td></td>\n",
              "      <td>Togo</td>\n",
              "    </tr>\n",
              "    <tr>\n",
              "      <th>2</th>\n",
              "      <td>A. Morin</td>\n",
              "      <td>Atsane</td>\n",
              "      <td>1676</td>\n",
              "      <td>2015</td>\n",
              "      <td>0.7</td>\n",
              "      <td>France</td>\n",
              "      <td>3.00</td>\n",
              "      <td></td>\n",
              "      <td>Togo</td>\n",
              "    </tr>\n",
              "    <tr>\n",
              "      <th>3</th>\n",
              "      <td>A. Morin</td>\n",
              "      <td>Akata</td>\n",
              "      <td>1680</td>\n",
              "      <td>2015</td>\n",
              "      <td>0.7</td>\n",
              "      <td>France</td>\n",
              "      <td>3.50</td>\n",
              "      <td></td>\n",
              "      <td>Togo</td>\n",
              "    </tr>\n",
              "    <tr>\n",
              "      <th>4</th>\n",
              "      <td>A. Morin</td>\n",
              "      <td>Quilla</td>\n",
              "      <td>1704</td>\n",
              "      <td>2015</td>\n",
              "      <td>0.7</td>\n",
              "      <td>France</td>\n",
              "      <td>3.50</td>\n",
              "      <td></td>\n",
              "      <td>Peru</td>\n",
              "    </tr>\n",
              "    <tr>\n",
              "      <th>5</th>\n",
              "      <td>A. Morin</td>\n",
              "      <td>Carenero</td>\n",
              "      <td>1315</td>\n",
              "      <td>2014</td>\n",
              "      <td>0.7</td>\n",
              "      <td>France</td>\n",
              "      <td>2.75</td>\n",
              "      <td>Criollo</td>\n",
              "      <td>Venezuela</td>\n",
              "    </tr>\n",
              "    <tr>\n",
              "      <th>6</th>\n",
              "      <td>A. Morin</td>\n",
              "      <td>Cuba</td>\n",
              "      <td>1315</td>\n",
              "      <td>2014</td>\n",
              "      <td>0.7</td>\n",
              "      <td>France</td>\n",
              "      <td>3.50</td>\n",
              "      <td></td>\n",
              "      <td>Cuba</td>\n",
              "    </tr>\n",
              "    <tr>\n",
              "      <th>7</th>\n",
              "      <td>A. Morin</td>\n",
              "      <td>Sur del Lago</td>\n",
              "      <td>1315</td>\n",
              "      <td>2014</td>\n",
              "      <td>0.7</td>\n",
              "      <td>France</td>\n",
              "      <td>3.50</td>\n",
              "      <td>Criollo</td>\n",
              "      <td>Venezuela</td>\n",
              "    </tr>\n",
              "    <tr>\n",
              "      <th>8</th>\n",
              "      <td>A. Morin</td>\n",
              "      <td>Puerto Cabello</td>\n",
              "      <td>1319</td>\n",
              "      <td>2014</td>\n",
              "      <td>0.7</td>\n",
              "      <td>France</td>\n",
              "      <td>3.75</td>\n",
              "      <td>Criollo</td>\n",
              "      <td>Venezuela</td>\n",
              "    </tr>\n",
              "    <tr>\n",
              "      <th>9</th>\n",
              "      <td>A. Morin</td>\n",
              "      <td>Pablino</td>\n",
              "      <td>1319</td>\n",
              "      <td>2014</td>\n",
              "      <td>0.7</td>\n",
              "      <td>France</td>\n",
              "      <td>4.00</td>\n",
              "      <td></td>\n",
              "      <td>Peru</td>\n",
              "    </tr>\n",
              "    <tr>\n",
              "      <th>10</th>\n",
              "      <td>A. Morin</td>\n",
              "      <td>Panama</td>\n",
              "      <td>1011</td>\n",
              "      <td>2013</td>\n",
              "      <td>0.7</td>\n",
              "      <td>France</td>\n",
              "      <td>2.75</td>\n",
              "      <td></td>\n",
              "      <td>Panama</td>\n",
              "    </tr>\n",
              "  </tbody>\n",
              "</table>\n",
              "</div>"
            ],
            "text/plain": [
              "     Company            Name  ...  BeanType  BroadBeanOrigin\n",
              "1   A. Morin           Kpime  ...                       Togo\n",
              "2   A. Morin          Atsane  ...                       Togo\n",
              "3   A. Morin           Akata  ...                       Togo\n",
              "4   A. Morin          Quilla  ...                       Peru\n",
              "5   A. Morin        Carenero  ...   Criollo        Venezuela\n",
              "6   A. Morin            Cuba  ...                       Cuba\n",
              "7   A. Morin    Sur del Lago  ...   Criollo        Venezuela\n",
              "8   A. Morin  Puerto Cabello  ...   Criollo        Venezuela\n",
              "9   A. Morin         Pablino  ...                       Peru\n",
              "10  A. Morin          Panama  ...                     Panama\n",
              "\n",
              "[10 rows x 9 columns]"
            ]
          },
          "metadata": {
            "tags": []
          },
          "execution_count": 26
        }
      ]
    },
    {
      "cell_type": "code",
      "metadata": {
        "colab": {
          "base_uri": "https://localhost:8080/",
          "height": 359
        },
        "id": "1e77c8_pNrRN",
        "outputId": "4ee8f494-77b9-4c25-e10d-57d2b70b25fe"
      },
      "source": [
        "choco[choco['Rating']>=3.5].head(10)"
      ],
      "execution_count": 27,
      "outputs": [
        {
          "output_type": "execute_result",
          "data": {
            "text/html": [
              "<div>\n",
              "<style scoped>\n",
              "    .dataframe tbody tr th:only-of-type {\n",
              "        vertical-align: middle;\n",
              "    }\n",
              "\n",
              "    .dataframe tbody tr th {\n",
              "        vertical-align: top;\n",
              "    }\n",
              "\n",
              "    .dataframe thead th {\n",
              "        text-align: right;\n",
              "    }\n",
              "</style>\n",
              "<table border=\"1\" class=\"dataframe\">\n",
              "  <thead>\n",
              "    <tr style=\"text-align: right;\">\n",
              "      <th></th>\n",
              "      <th>Company</th>\n",
              "      <th>Name</th>\n",
              "      <th>ReviewDataReference</th>\n",
              "      <th>ReviewDate</th>\n",
              "      <th>CocoaPercent</th>\n",
              "      <th>Country</th>\n",
              "      <th>Rating</th>\n",
              "      <th>BeanType</th>\n",
              "      <th>BroadBeanOrigin</th>\n",
              "    </tr>\n",
              "  </thead>\n",
              "  <tbody>\n",
              "    <tr>\n",
              "      <th>0</th>\n",
              "      <td>A. Morin</td>\n",
              "      <td>Agua Grande</td>\n",
              "      <td>1876</td>\n",
              "      <td>2016</td>\n",
              "      <td>0.63</td>\n",
              "      <td>France</td>\n",
              "      <td>3.75</td>\n",
              "      <td></td>\n",
              "      <td>Sao Tome</td>\n",
              "    </tr>\n",
              "    <tr>\n",
              "      <th>3</th>\n",
              "      <td>A. Morin</td>\n",
              "      <td>Akata</td>\n",
              "      <td>1680</td>\n",
              "      <td>2015</td>\n",
              "      <td>0.70</td>\n",
              "      <td>France</td>\n",
              "      <td>3.50</td>\n",
              "      <td></td>\n",
              "      <td>Togo</td>\n",
              "    </tr>\n",
              "    <tr>\n",
              "      <th>4</th>\n",
              "      <td>A. Morin</td>\n",
              "      <td>Quilla</td>\n",
              "      <td>1704</td>\n",
              "      <td>2015</td>\n",
              "      <td>0.70</td>\n",
              "      <td>France</td>\n",
              "      <td>3.50</td>\n",
              "      <td></td>\n",
              "      <td>Peru</td>\n",
              "    </tr>\n",
              "    <tr>\n",
              "      <th>6</th>\n",
              "      <td>A. Morin</td>\n",
              "      <td>Cuba</td>\n",
              "      <td>1315</td>\n",
              "      <td>2014</td>\n",
              "      <td>0.70</td>\n",
              "      <td>France</td>\n",
              "      <td>3.50</td>\n",
              "      <td></td>\n",
              "      <td>Cuba</td>\n",
              "    </tr>\n",
              "    <tr>\n",
              "      <th>7</th>\n",
              "      <td>A. Morin</td>\n",
              "      <td>Sur del Lago</td>\n",
              "      <td>1315</td>\n",
              "      <td>2014</td>\n",
              "      <td>0.70</td>\n",
              "      <td>France</td>\n",
              "      <td>3.50</td>\n",
              "      <td>Criollo</td>\n",
              "      <td>Venezuela</td>\n",
              "    </tr>\n",
              "    <tr>\n",
              "      <th>8</th>\n",
              "      <td>A. Morin</td>\n",
              "      <td>Puerto Cabello</td>\n",
              "      <td>1319</td>\n",
              "      <td>2014</td>\n",
              "      <td>0.70</td>\n",
              "      <td>France</td>\n",
              "      <td>3.75</td>\n",
              "      <td>Criollo</td>\n",
              "      <td>Venezuela</td>\n",
              "    </tr>\n",
              "    <tr>\n",
              "      <th>9</th>\n",
              "      <td>A. Morin</td>\n",
              "      <td>Pablino</td>\n",
              "      <td>1319</td>\n",
              "      <td>2014</td>\n",
              "      <td>0.70</td>\n",
              "      <td>France</td>\n",
              "      <td>4.00</td>\n",
              "      <td></td>\n",
              "      <td>Peru</td>\n",
              "    </tr>\n",
              "    <tr>\n",
              "      <th>13</th>\n",
              "      <td>A. Morin</td>\n",
              "      <td>Equateur</td>\n",
              "      <td>1011</td>\n",
              "      <td>2013</td>\n",
              "      <td>0.70</td>\n",
              "      <td>France</td>\n",
              "      <td>3.75</td>\n",
              "      <td></td>\n",
              "      <td>Ecuador</td>\n",
              "    </tr>\n",
              "    <tr>\n",
              "      <th>17</th>\n",
              "      <td>A. Morin</td>\n",
              "      <td>Chuao</td>\n",
              "      <td>1015</td>\n",
              "      <td>2013</td>\n",
              "      <td>0.70</td>\n",
              "      <td>France</td>\n",
              "      <td>4.00</td>\n",
              "      <td>Trinitario</td>\n",
              "      <td>Venezuela</td>\n",
              "    </tr>\n",
              "    <tr>\n",
              "      <th>19</th>\n",
              "      <td>A. Morin</td>\n",
              "      <td>Chanchamayo Province</td>\n",
              "      <td>1019</td>\n",
              "      <td>2013</td>\n",
              "      <td>0.70</td>\n",
              "      <td>France</td>\n",
              "      <td>3.50</td>\n",
              "      <td></td>\n",
              "      <td>Peru</td>\n",
              "    </tr>\n",
              "  </tbody>\n",
              "</table>\n",
              "</div>"
            ],
            "text/plain": [
              "     Company                  Name  ...    BeanType  BroadBeanOrigin\n",
              "0   A. Morin           Agua Grande  ...                     Sao Tome\n",
              "3   A. Morin                 Akata  ...                         Togo\n",
              "4   A. Morin                Quilla  ...                         Peru\n",
              "6   A. Morin                  Cuba  ...                         Cuba\n",
              "7   A. Morin          Sur del Lago  ...     Criollo        Venezuela\n",
              "8   A. Morin        Puerto Cabello  ...     Criollo        Venezuela\n",
              "9   A. Morin               Pablino  ...                         Peru\n",
              "13  A. Morin              Equateur  ...                      Ecuador\n",
              "17  A. Morin                 Chuao  ...  Trinitario        Venezuela\n",
              "19  A. Morin  Chanchamayo Province  ...                         Peru\n",
              "\n",
              "[10 rows x 9 columns]"
            ]
          },
          "metadata": {
            "tags": []
          },
          "execution_count": 27
        }
      ]
    },
    {
      "cell_type": "code",
      "metadata": {
        "colab": {
          "base_uri": "https://localhost:8080/",
          "height": 359
        },
        "id": "uLteeOu-ip-h",
        "outputId": "b63387b8-710a-42d5-c413-d89f4519561b"
      },
      "source": [
        "chocoMelt = choco.melt(id_vars=['Country','Company', 'Name'])  #zmiana kolumn na wiersze - tworzy nową zmienną variable zawierającą nazwy kolumn, id_vars - wartości które są bez zmian, value - wartości dla zmiennej variable\n",
        "chocoMelt.sort_values(['Country'], ascending=False).head(10)"
      ],
      "execution_count": 28,
      "outputs": [
        {
          "output_type": "execute_result",
          "data": {
            "text/html": [
              "<div>\n",
              "<style scoped>\n",
              "    .dataframe tbody tr th:only-of-type {\n",
              "        vertical-align: middle;\n",
              "    }\n",
              "\n",
              "    .dataframe tbody tr th {\n",
              "        vertical-align: top;\n",
              "    }\n",
              "\n",
              "    .dataframe thead th {\n",
              "        text-align: right;\n",
              "    }\n",
              "</style>\n",
              "<table border=\"1\" class=\"dataframe\">\n",
              "  <thead>\n",
              "    <tr style=\"text-align: right;\">\n",
              "      <th></th>\n",
              "      <th>Country</th>\n",
              "      <th>Company</th>\n",
              "      <th>Name</th>\n",
              "      <th>variable</th>\n",
              "      <th>value</th>\n",
              "    </tr>\n",
              "  </thead>\n",
              "  <tbody>\n",
              "    <tr>\n",
              "      <th>9121</th>\n",
              "      <td>Wales</td>\n",
              "      <td>Baravelli's</td>\n",
              "      <td>single estate</td>\n",
              "      <td>BroadBeanOrigin</td>\n",
              "      <td>Costa Rica</td>\n",
              "    </tr>\n",
              "    <tr>\n",
              "      <th>5535</th>\n",
              "      <td>Wales</td>\n",
              "      <td>Baravelli's</td>\n",
              "      <td>single estate</td>\n",
              "      <td>Rating</td>\n",
              "      <td>2.75</td>\n",
              "    </tr>\n",
              "    <tr>\n",
              "      <th>3742</th>\n",
              "      <td>Wales</td>\n",
              "      <td>Baravelli's</td>\n",
              "      <td>single estate</td>\n",
              "      <td>CocoaPercent</td>\n",
              "      <td>0.8</td>\n",
              "    </tr>\n",
              "    <tr>\n",
              "      <th>156</th>\n",
              "      <td>Wales</td>\n",
              "      <td>Baravelli's</td>\n",
              "      <td>single estate</td>\n",
              "      <td>ReviewDataReference</td>\n",
              "      <td>955</td>\n",
              "    </tr>\n",
              "    <tr>\n",
              "      <th>1949</th>\n",
              "      <td>Wales</td>\n",
              "      <td>Baravelli's</td>\n",
              "      <td>single estate</td>\n",
              "      <td>ReviewDate</td>\n",
              "      <td>2012</td>\n",
              "    </tr>\n",
              "    <tr>\n",
              "      <th>7328</th>\n",
              "      <td>Wales</td>\n",
              "      <td>Baravelli's</td>\n",
              "      <td>single estate</td>\n",
              "      <td>BeanType</td>\n",
              "      <td></td>\n",
              "    </tr>\n",
              "    <tr>\n",
              "      <th>1054</th>\n",
              "      <td>Vietnam</td>\n",
              "      <td>Marou</td>\n",
              "      <td>Dong Nai</td>\n",
              "      <td>ReviewDataReference</td>\n",
              "      <td>845</td>\n",
              "    </tr>\n",
              "    <tr>\n",
              "      <th>1051</th>\n",
              "      <td>Vietnam</td>\n",
              "      <td>Marou</td>\n",
              "      <td>Dak Lak, Batch 2451</td>\n",
              "      <td>ReviewDataReference</td>\n",
              "      <td>1650</td>\n",
              "    </tr>\n",
              "    <tr>\n",
              "      <th>1052</th>\n",
              "      <td>Vietnam</td>\n",
              "      <td>Marou</td>\n",
              "      <td>Tan Phu Dong, Treasure Island</td>\n",
              "      <td>ReviewDataReference</td>\n",
              "      <td>1149</td>\n",
              "    </tr>\n",
              "    <tr>\n",
              "      <th>1053</th>\n",
              "      <td>Vietnam</td>\n",
              "      <td>Marou</td>\n",
              "      <td>Ba Ria</td>\n",
              "      <td>ReviewDataReference</td>\n",
              "      <td>845</td>\n",
              "    </tr>\n",
              "  </tbody>\n",
              "</table>\n",
              "</div>"
            ],
            "text/plain": [
              "      Country      Company  ...             variable       value\n",
              "9121    Wales  Baravelli's  ...      BroadBeanOrigin  Costa Rica\n",
              "5535    Wales  Baravelli's  ...               Rating        2.75\n",
              "3742    Wales  Baravelli's  ...         CocoaPercent         0.8\n",
              "156     Wales  Baravelli's  ...  ReviewDataReference         955\n",
              "1949    Wales  Baravelli's  ...           ReviewDate        2012\n",
              "7328    Wales  Baravelli's  ...             BeanType            \n",
              "1054  Vietnam        Marou  ...  ReviewDataReference         845\n",
              "1051  Vietnam        Marou  ...  ReviewDataReference        1650\n",
              "1052  Vietnam        Marou  ...  ReviewDataReference        1149\n",
              "1053  Vietnam        Marou  ...  ReviewDataReference         845\n",
              "\n",
              "[10 rows x 5 columns]"
            ]
          },
          "metadata": {
            "tags": []
          },
          "execution_count": 28
        }
      ]
    },
    {
      "cell_type": "code",
      "metadata": {
        "colab": {
          "base_uri": "https://localhost:8080/",
          "height": 390
        },
        "id": "EaydMrn4F2u3",
        "outputId": "8aba010b-5a64-4d45-b50b-0f21ec32d4b5"
      },
      "source": [
        "countries = choco.groupby('Country').agg({\n",
        "    'Rating': 'mean',\n",
        "    'Name': 'count'\n",
        "})\n",
        "countries.sort_values(by='Rating', ascending=False).head(10)"
      ],
      "execution_count": 29,
      "outputs": [
        {
          "output_type": "execute_result",
          "data": {
            "text/html": [
              "<div>\n",
              "<style scoped>\n",
              "    .dataframe tbody tr th:only-of-type {\n",
              "        vertical-align: middle;\n",
              "    }\n",
              "\n",
              "    .dataframe tbody tr th {\n",
              "        vertical-align: top;\n",
              "    }\n",
              "\n",
              "    .dataframe thead th {\n",
              "        text-align: right;\n",
              "    }\n",
              "</style>\n",
              "<table border=\"1\" class=\"dataframe\">\n",
              "  <thead>\n",
              "    <tr style=\"text-align: right;\">\n",
              "      <th></th>\n",
              "      <th>Rating</th>\n",
              "      <th>Name</th>\n",
              "    </tr>\n",
              "    <tr>\n",
              "      <th>Country</th>\n",
              "      <th></th>\n",
              "      <th></th>\n",
              "    </tr>\n",
              "  </thead>\n",
              "  <tbody>\n",
              "    <tr>\n",
              "      <th>Chile</th>\n",
              "      <td>3.750000</td>\n",
              "      <td>2</td>\n",
              "    </tr>\n",
              "    <tr>\n",
              "      <th>Amsterdam</th>\n",
              "      <td>3.500000</td>\n",
              "      <td>4</td>\n",
              "    </tr>\n",
              "    <tr>\n",
              "      <th>Netherlands</th>\n",
              "      <td>3.500000</td>\n",
              "      <td>4</td>\n",
              "    </tr>\n",
              "    <tr>\n",
              "      <th>Philippines</th>\n",
              "      <td>3.500000</td>\n",
              "      <td>1</td>\n",
              "    </tr>\n",
              "    <tr>\n",
              "      <th>Iceland</th>\n",
              "      <td>3.416667</td>\n",
              "      <td>3</td>\n",
              "    </tr>\n",
              "    <tr>\n",
              "      <th>Vietnam</th>\n",
              "      <td>3.409091</td>\n",
              "      <td>11</td>\n",
              "    </tr>\n",
              "    <tr>\n",
              "      <th>Brazil</th>\n",
              "      <td>3.397059</td>\n",
              "      <td>17</td>\n",
              "    </tr>\n",
              "    <tr>\n",
              "      <th>Poland</th>\n",
              "      <td>3.375000</td>\n",
              "      <td>8</td>\n",
              "    </tr>\n",
              "    <tr>\n",
              "      <th>Australia</th>\n",
              "      <td>3.357143</td>\n",
              "      <td>49</td>\n",
              "    </tr>\n",
              "    <tr>\n",
              "      <th>Guatemala</th>\n",
              "      <td>3.350000</td>\n",
              "      <td>10</td>\n",
              "    </tr>\n",
              "  </tbody>\n",
              "</table>\n",
              "</div>"
            ],
            "text/plain": [
              "               Rating  Name\n",
              "Country                    \n",
              "Chile        3.750000     2\n",
              "Amsterdam    3.500000     4\n",
              "Netherlands  3.500000     4\n",
              "Philippines  3.500000     1\n",
              "Iceland      3.416667     3\n",
              "Vietnam      3.409091    11\n",
              "Brazil       3.397059    17\n",
              "Poland       3.375000     8\n",
              "Australia    3.357143    49\n",
              "Guatemala    3.350000    10"
            ]
          },
          "metadata": {
            "tags": []
          },
          "execution_count": 29
        }
      ]
    },
    {
      "cell_type": "code",
      "metadata": {
        "colab": {
          "base_uri": "https://localhost:8080/",
          "height": 390
        },
        "id": "FQjqXHZmJdpd",
        "outputId": "f4d7d913-d2b1-4be2-b124-957191839258"
      },
      "source": [
        "countries_with_cocoapercent = choco.groupby('Country').agg({\n",
        "    'Rating': 'mean',\n",
        "    'CocoaPercent': 'mean'\n",
        "})\n",
        "countries_with_cocoapercent.sort_values(by='Rating', ascending=False).head(10)"
      ],
      "execution_count": 30,
      "outputs": [
        {
          "output_type": "execute_result",
          "data": {
            "text/html": [
              "<div>\n",
              "<style scoped>\n",
              "    .dataframe tbody tr th:only-of-type {\n",
              "        vertical-align: middle;\n",
              "    }\n",
              "\n",
              "    .dataframe tbody tr th {\n",
              "        vertical-align: top;\n",
              "    }\n",
              "\n",
              "    .dataframe thead th {\n",
              "        text-align: right;\n",
              "    }\n",
              "</style>\n",
              "<table border=\"1\" class=\"dataframe\">\n",
              "  <thead>\n",
              "    <tr style=\"text-align: right;\">\n",
              "      <th></th>\n",
              "      <th>Rating</th>\n",
              "      <th>CocoaPercent</th>\n",
              "    </tr>\n",
              "    <tr>\n",
              "      <th>Country</th>\n",
              "      <th></th>\n",
              "      <th></th>\n",
              "    </tr>\n",
              "  </thead>\n",
              "  <tbody>\n",
              "    <tr>\n",
              "      <th>Chile</th>\n",
              "      <td>3.750000</td>\n",
              "      <td>0.700000</td>\n",
              "    </tr>\n",
              "    <tr>\n",
              "      <th>Amsterdam</th>\n",
              "      <td>3.500000</td>\n",
              "      <td>0.732500</td>\n",
              "    </tr>\n",
              "    <tr>\n",
              "      <th>Netherlands</th>\n",
              "      <td>3.500000</td>\n",
              "      <td>0.700000</td>\n",
              "    </tr>\n",
              "    <tr>\n",
              "      <th>Philippines</th>\n",
              "      <td>3.500000</td>\n",
              "      <td>0.650000</td>\n",
              "    </tr>\n",
              "    <tr>\n",
              "      <th>Iceland</th>\n",
              "      <td>3.416667</td>\n",
              "      <td>0.686667</td>\n",
              "    </tr>\n",
              "    <tr>\n",
              "      <th>Vietnam</th>\n",
              "      <td>3.409091</td>\n",
              "      <td>0.745455</td>\n",
              "    </tr>\n",
              "    <tr>\n",
              "      <th>Brazil</th>\n",
              "      <td>3.397059</td>\n",
              "      <td>0.698235</td>\n",
              "    </tr>\n",
              "    <tr>\n",
              "      <th>Poland</th>\n",
              "      <td>3.375000</td>\n",
              "      <td>0.718750</td>\n",
              "    </tr>\n",
              "    <tr>\n",
              "      <th>Australia</th>\n",
              "      <td>3.357143</td>\n",
              "      <td>0.702245</td>\n",
              "    </tr>\n",
              "    <tr>\n",
              "      <th>Guatemala</th>\n",
              "      <td>3.350000</td>\n",
              "      <td>0.702000</td>\n",
              "    </tr>\n",
              "  </tbody>\n",
              "</table>\n",
              "</div>"
            ],
            "text/plain": [
              "               Rating  CocoaPercent\n",
              "Country                            \n",
              "Chile        3.750000      0.700000\n",
              "Amsterdam    3.500000      0.732500\n",
              "Netherlands  3.500000      0.700000\n",
              "Philippines  3.500000      0.650000\n",
              "Iceland      3.416667      0.686667\n",
              "Vietnam      3.409091      0.745455\n",
              "Brazil       3.397059      0.698235\n",
              "Poland       3.375000      0.718750\n",
              "Australia    3.357143      0.702245\n",
              "Guatemala    3.350000      0.702000"
            ]
          },
          "metadata": {
            "tags": []
          },
          "execution_count": 30
        }
      ]
    },
    {
      "cell_type": "code",
      "metadata": {
        "colab": {
          "base_uri": "https://localhost:8080/",
          "height": 390
        },
        "id": "MW9HIobAIQqc",
        "outputId": "115344fc-a575-4040-afaf-70e2305de826"
      },
      "source": [
        "countries_with_cocoapercent.sort_values(by='CocoaPercent', ascending=False).head(10)"
      ],
      "execution_count": 31,
      "outputs": [
        {
          "output_type": "execute_result",
          "data": {
            "text/html": [
              "<div>\n",
              "<style scoped>\n",
              "    .dataframe tbody tr th:only-of-type {\n",
              "        vertical-align: middle;\n",
              "    }\n",
              "\n",
              "    .dataframe tbody tr th {\n",
              "        vertical-align: top;\n",
              "    }\n",
              "\n",
              "    .dataframe thead th {\n",
              "        text-align: right;\n",
              "    }\n",
              "</style>\n",
              "<table border=\"1\" class=\"dataframe\">\n",
              "  <thead>\n",
              "    <tr style=\"text-align: right;\">\n",
              "      <th></th>\n",
              "      <th>Rating</th>\n",
              "      <th>CocoaPercent</th>\n",
              "    </tr>\n",
              "    <tr>\n",
              "      <th>Country</th>\n",
              "      <th></th>\n",
              "      <th></th>\n",
              "    </tr>\n",
              "  </thead>\n",
              "  <tbody>\n",
              "    <tr>\n",
              "      <th>Sao Tome</th>\n",
              "      <td>2.937500</td>\n",
              "      <td>0.821250</td>\n",
              "    </tr>\n",
              "    <tr>\n",
              "      <th>Wales</th>\n",
              "      <td>2.750000</td>\n",
              "      <td>0.800000</td>\n",
              "    </tr>\n",
              "    <tr>\n",
              "      <th>Ghana</th>\n",
              "      <td>2.750000</td>\n",
              "      <td>0.800000</td>\n",
              "    </tr>\n",
              "    <tr>\n",
              "      <th>Ireland</th>\n",
              "      <td>2.812500</td>\n",
              "      <td>0.785000</td>\n",
              "    </tr>\n",
              "    <tr>\n",
              "      <th>Portugal</th>\n",
              "      <td>2.750000</td>\n",
              "      <td>0.760000</td>\n",
              "    </tr>\n",
              "    <tr>\n",
              "      <th>Eucador</th>\n",
              "      <td>3.000000</td>\n",
              "      <td>0.750000</td>\n",
              "    </tr>\n",
              "    <tr>\n",
              "      <th>Niacragua</th>\n",
              "      <td>2.750000</td>\n",
              "      <td>0.750000</td>\n",
              "    </tr>\n",
              "    <tr>\n",
              "      <th>Honduras</th>\n",
              "      <td>3.208333</td>\n",
              "      <td>0.750000</td>\n",
              "    </tr>\n",
              "    <tr>\n",
              "      <th>Fiji</th>\n",
              "      <td>3.250000</td>\n",
              "      <td>0.750000</td>\n",
              "    </tr>\n",
              "    <tr>\n",
              "      <th>Vietnam</th>\n",
              "      <td>3.409091</td>\n",
              "      <td>0.745455</td>\n",
              "    </tr>\n",
              "  </tbody>\n",
              "</table>\n",
              "</div>"
            ],
            "text/plain": [
              "             Rating  CocoaPercent\n",
              "Country                          \n",
              "Sao Tome   2.937500      0.821250\n",
              "Wales      2.750000      0.800000\n",
              "Ghana      2.750000      0.800000\n",
              "Ireland    2.812500      0.785000\n",
              "Portugal   2.750000      0.760000\n",
              "Eucador    3.000000      0.750000\n",
              "Niacragua  2.750000      0.750000\n",
              "Honduras   3.208333      0.750000\n",
              "Fiji       3.250000      0.750000\n",
              "Vietnam    3.409091      0.745455"
            ]
          },
          "metadata": {
            "tags": []
          },
          "execution_count": 31
        }
      ]
    },
    {
      "cell_type": "code",
      "metadata": {
        "colab": {
          "base_uri": "https://localhost:8080/",
          "height": 369
        },
        "id": "Em4mbZZFKq63",
        "outputId": "8d8187a6-4866-4696-81c0-cb04f07b6250"
      },
      "source": [
        "df = choco[['Rating','CocoaPercent']].groupby([\"CocoaPercent\"]).median().reset_index()\n",
        "sns.displot(x='Rating', y='CocoaPercent', data=df, legend=['Average Rating', 'Average CocoaPercent'])\n",
        "plt.legend(labels=['Average Rating', 'Average CocoaPercent'])\n",
        "plt.xlabel = 'Average Rating'"
      ],
      "execution_count": 32,
      "outputs": [
        {
          "output_type": "display_data",
          "data": {
            "image/png": "[encoded data removed]",
            "text/plain": [
              "<Figure size 360x360 with 1 Axes>"
            ]
          },
          "metadata": {
            "tags": [],
            "needs_background": "light"
          }
        }
      ]
    },
    {
      "cell_type": "code",
      "metadata": {
        "colab": {
          "base_uri": "https://localhost:8080/",
          "height": 111
        },
        "id": "Hnm5izxNNebX",
        "outputId": "50f0560a-2679-4b0c-8a88-e361726b2325"
      },
      "source": [
        "choco[['CocoaPercent', 'Rating']].corr()\n",
        "\n",
        "#The correlation is negative - but weak (only -0.16). \n",
        "#In the case of 'CocoaPercent' column the data is continuous, so it has to be checked by ANOVA (in the case of normal distribution and variance homogeneity) or with a non-parametric test."
      ],
      "execution_count": 33,
      "outputs": [
        {
          "output_type": "execute_result",
          "data": {
            "text/html": [
              "<div>\n",
              "<style scoped>\n",
              "    .dataframe tbody tr th:only-of-type {\n",
              "        vertical-align: middle;\n",
              "    }\n",
              "\n",
              "    .dataframe tbody tr th {\n",
              "        vertical-align: top;\n",
              "    }\n",
              "\n",
              "    .dataframe thead th {\n",
              "        text-align: right;\n",
              "    }\n",
              "</style>\n",
              "<table border=\"1\" class=\"dataframe\">\n",
              "  <thead>\n",
              "    <tr style=\"text-align: right;\">\n",
              "      <th></th>\n",
              "      <th>CocoaPercent</th>\n",
              "      <th>Rating</th>\n",
              "    </tr>\n",
              "  </thead>\n",
              "  <tbody>\n",
              "    <tr>\n",
              "      <th>CocoaPercent</th>\n",
              "      <td>1.000000</td>\n",
              "      <td>-0.164758</td>\n",
              "    </tr>\n",
              "    <tr>\n",
              "      <th>Rating</th>\n",
              "      <td>-0.164758</td>\n",
              "      <td>1.000000</td>\n",
              "    </tr>\n",
              "  </tbody>\n",
              "</table>\n",
              "</div>"
            ],
            "text/plain": [
              "              CocoaPercent    Rating\n",
              "CocoaPercent      1.000000 -0.164758\n",
              "Rating           -0.164758  1.000000"
            ]
          },
          "metadata": {
            "tags": []
          },
          "execution_count": 33
        }
      ]
    },
    {
      "cell_type": "code",
      "metadata": {
        "colab": {
          "base_uri": "https://localhost:8080/"
        },
        "id": "BUHGjw3LOT55",
        "outputId": "250be598-3b1e-4302-9641-be6c1797bdb5"
      },
      "source": [
        "p_value=pearsonr(choco['Rating'], choco['CocoaPercent'])[1]\n",
        "p_value.round(10)\n",
        "#P_value is 0.0 - Reject null hypotese so there is a correlation between those columns."
      ],
      "execution_count": 34,
      "outputs": [
        {
          "output_type": "execute_result",
          "data": {
            "text/plain": [
              "0.0"
            ]
          },
          "metadata": {
            "tags": []
          },
          "execution_count": 34
        }
      ]
    },
    {
      "cell_type": "code",
      "metadata": {
        "colab": {
          "base_uri": "https://localhost:8080/"
        },
        "id": "1q8wH3M-Ql1v",
        "outputId": "3a8c571a-d385-4d42-84fd-d3ee8b590b55"
      },
      "source": [
        "choco['Rating'].unique()\n"
      ],
      "execution_count": 35,
      "outputs": [
        {
          "output_type": "execute_result",
          "data": {
            "text/plain": [
              "array([3.75, 2.75, 3.  , 3.5 , 4.  , 3.25, 2.5 , 5.  , 1.75, 1.5 , 2.25,\n",
              "       2.  , 1.  ])"
            ]
          },
          "metadata": {
            "tags": []
          },
          "execution_count": 35
        }
      ]
    },
    {
      "cell_type": "code",
      "metadata": {
        "colab": {
          "base_uri": "https://localhost:8080/"
        },
        "id": "VYKdyBP-QzXa",
        "outputId": "6240d619-0e3a-49b2-d734-4971ee453e76"
      },
      "source": [
        "choco['CocoaPercent'].unique()\n",
        "#data is continous"
      ],
      "execution_count": 36,
      "outputs": [
        {
          "output_type": "execute_result",
          "data": {
            "text/plain": [
              "array([0.63 , 0.7  , 0.6  , 0.8  , 0.88 , 0.72 , 0.55 , 0.75 , 0.65 ,\n",
              "       0.85 , 0.73 , 0.64 , 0.66 , 0.68 , 0.5  , 1.   , 0.77 , 0.9  ,\n",
              "       0.71 , 0.83 , 0.78 , 0.74 , 0.76 , 0.86 , 0.82 , 0.69 , 0.91 ,\n",
              "       0.42 , 0.61 , 0.735, 0.62 , 0.67 , 0.58 , 0.605, 0.79 , 0.81 ,\n",
              "       0.57 , 0.725, 0.56 , 0.46 , 0.89 , 0.99 , 0.84 , 0.53 , 0.87 ])"
            ]
          },
          "metadata": {
            "tags": []
          },
          "execution_count": 36
        }
      ]
    },
    {
      "cell_type": "markdown",
      "metadata": {
        "id": "iy4nhJaJMfwi"
      },
      "source": [
        "#check ANOVA test - normal distribution and homogeneity of samples\n",
        "Anova test can be used under 2 conditions: homogeneity of variances and normal distribution\n"
      ]
    },
    {
      "cell_type": "code",
      "metadata": {
        "id": "5SdwPOXNa9br"
      },
      "source": [
        "choco_anova = choco[['Rating', 'CocoaPercent']].groupby('Rating')\n",
        "choco_anova=choco_anova.apply(lambda x:x)\n",
        "choco_anova=choco_anova.set_index('Rating')\n",
        "\n",
        "\n",
        "# choco_anova.reset_index(level=['Rating',\"CocoaPercent\"]).head()"
      ],
      "execution_count": 37,
      "outputs": []
    },
    {
      "cell_type": "code",
      "metadata": {
        "colab": {
          "base_uri": "https://localhost:8080/",
          "height": 129
        },
        "id": "fqWEYWR5BUN7",
        "outputId": "db3323f6-93df-416e-f820-9678e03a3108"
      },
      "source": [
        "choco_anova = choco_anova.T\n",
        "choco_anova"
      ],
      "execution_count": 38,
      "outputs": [
        {
          "output_type": "execute_result",
          "data": {
            "text/html": [
              "<div>\n",
              "<style scoped>\n",
              "    .dataframe tbody tr th:only-of-type {\n",
              "        vertical-align: middle;\n",
              "    }\n",
              "\n",
              "    .dataframe tbody tr th {\n",
              "        vertical-align: top;\n",
              "    }\n",
              "\n",
              "    .dataframe thead th {\n",
              "        text-align: right;\n",
              "    }\n",
              "</style>\n",
              "<table border=\"1\" class=\"dataframe\">\n",
              "  <thead>\n",
              "    <tr style=\"text-align: right;\">\n",
              "      <th>Rating</th>\n",
              "      <th>3.75</th>\n",
              "      <th>2.75</th>\n",
              "      <th>3.00</th>\n",
              "      <th>3.50</th>\n",
              "      <th>3.50</th>\n",
              "      <th>2.75</th>\n",
              "      <th>3.50</th>\n",
              "      <th>3.50</th>\n",
              "      <th>3.75</th>\n",
              "      <th>4.00</th>\n",
              "      <th>2.75</th>\n",
              "      <th>3.00</th>\n",
              "      <th>3.25</th>\n",
              "      <th>3.75</th>\n",
              "      <th>2.75</th>\n",
              "      <th>3.00</th>\n",
              "      <th>3.25</th>\n",
              "      <th>4.00</th>\n",
              "      <th>3.25</th>\n",
              "      <th>3.50</th>\n",
              "      <th>4.00</th>\n",
              "      <th>3.50</th>\n",
              "      <th>3.75</th>\n",
              "      <th>3.75</th>\n",
              "      <th>3.75</th>\n",
              "      <th>2.75</th>\n",
              "      <th>3.25</th>\n",
              "      <th>3.50</th>\n",
              "      <th>3.50</th>\n",
              "      <th>2.75</th>\n",
              "      <th>3.00</th>\n",
              "      <th>3.00</th>\n",
              "      <th>3.75</th>\n",
              "      <th>2.75</th>\n",
              "      <th>2.75</th>\n",
              "      <th>2.75</th>\n",
              "      <th>2.75</th>\n",
              "      <th>3.00</th>\n",
              "      <th>2.50</th>\n",
              "      <th>2.50</th>\n",
              "      <th>...</th>\n",
              "      <th>3.25</th>\n",
              "      <th>4.00</th>\n",
              "      <th>3.50</th>\n",
              "      <th>3.00</th>\n",
              "      <th>2.75</th>\n",
              "      <th>2.50</th>\n",
              "      <th>3.00</th>\n",
              "      <th>3.25</th>\n",
              "      <th>3.25</th>\n",
              "      <th>3.25</th>\n",
              "      <th>3.50</th>\n",
              "      <th>3.00</th>\n",
              "      <th>3.50</th>\n",
              "      <th>2.75</th>\n",
              "      <th>2.75</th>\n",
              "      <th>3.00</th>\n",
              "      <th>3.50</th>\n",
              "      <th>3.50</th>\n",
              "      <th>3.75</th>\n",
              "      <th>3.25</th>\n",
              "      <th>3.50</th>\n",
              "      <th>3.50</th>\n",
              "      <th>3.75</th>\n",
              "      <th>2.75</th>\n",
              "      <th>3.50</th>\n",
              "      <th>3.50</th>\n",
              "      <th>3.00</th>\n",
              "      <th>3.50</th>\n",
              "      <th>3.75</th>\n",
              "      <th>3.00</th>\n",
              "      <th>3.00</th>\n",
              "      <th>3.25</th>\n",
              "      <th>3.75</th>\n",
              "      <th>3.25</th>\n",
              "      <th>3.50</th>\n",
              "      <th>3.75</th>\n",
              "      <th>3.00</th>\n",
              "      <th>3.50</th>\n",
              "      <th>3.25</th>\n",
              "      <th>3.00</th>\n",
              "    </tr>\n",
              "  </thead>\n",
              "  <tbody>\n",
              "    <tr>\n",
              "      <th>CocoaPercent</th>\n",
              "      <td>0.63</td>\n",
              "      <td>0.7</td>\n",
              "      <td>0.7</td>\n",
              "      <td>0.7</td>\n",
              "      <td>0.7</td>\n",
              "      <td>0.7</td>\n",
              "      <td>0.7</td>\n",
              "      <td>0.7</td>\n",
              "      <td>0.7</td>\n",
              "      <td>0.7</td>\n",
              "      <td>0.7</td>\n",
              "      <td>0.7</td>\n",
              "      <td>0.7</td>\n",
              "      <td>0.7</td>\n",
              "      <td>0.7</td>\n",
              "      <td>0.7</td>\n",
              "      <td>0.7</td>\n",
              "      <td>0.7</td>\n",
              "      <td>0.7</td>\n",
              "      <td>0.7</td>\n",
              "      <td>0.63</td>\n",
              "      <td>0.7</td>\n",
              "      <td>0.63</td>\n",
              "      <td>0.7</td>\n",
              "      <td>0.7</td>\n",
              "      <td>0.6</td>\n",
              "      <td>0.8</td>\n",
              "      <td>0.88</td>\n",
              "      <td>0.72</td>\n",
              "      <td>0.55</td>\n",
              "      <td>0.7</td>\n",
              "      <td>0.7</td>\n",
              "      <td>0.75</td>\n",
              "      <td>0.75</td>\n",
              "      <td>0.75</td>\n",
              "      <td>0.65</td>\n",
              "      <td>0.75</td>\n",
              "      <td>0.75</td>\n",
              "      <td>0.75</td>\n",
              "      <td>0.75</td>\n",
              "      <td>...</td>\n",
              "      <td>0.7</td>\n",
              "      <td>0.7</td>\n",
              "      <td>0.7</td>\n",
              "      <td>0.66</td>\n",
              "      <td>0.7</td>\n",
              "      <td>0.7</td>\n",
              "      <td>0.7</td>\n",
              "      <td>0.7</td>\n",
              "      <td>0.7</td>\n",
              "      <td>0.7</td>\n",
              "      <td>0.7</td>\n",
              "      <td>0.6</td>\n",
              "      <td>0.7</td>\n",
              "      <td>0.7</td>\n",
              "      <td>0.85</td>\n",
              "      <td>0.85</td>\n",
              "      <td>0.7</td>\n",
              "      <td>0.78</td>\n",
              "      <td>0.78</td>\n",
              "      <td>0.65</td>\n",
              "      <td>0.68</td>\n",
              "      <td>0.66</td>\n",
              "      <td>0.72</td>\n",
              "      <td>0.8</td>\n",
              "      <td>0.72</td>\n",
              "      <td>0.65</td>\n",
              "      <td>0.7</td>\n",
              "      <td>0.7</td>\n",
              "      <td>0.62</td>\n",
              "      <td>0.75</td>\n",
              "      <td>0.75</td>\n",
              "      <td>0.9</td>\n",
              "      <td>0.7</td>\n",
              "      <td>0.68</td>\n",
              "      <td>0.58</td>\n",
              "      <td>0.7</td>\n",
              "      <td>0.65</td>\n",
              "      <td>0.65</td>\n",
              "      <td>0.62</td>\n",
              "      <td>0.65</td>\n",
              "    </tr>\n",
              "  </tbody>\n",
              "</table>\n",
              "<p>1 rows × 1793 columns</p>\n",
              "</div>"
            ],
            "text/plain": [
              "Rating        3.75  2.75  3.00  3.50  3.50  ...  3.75  3.00  3.50  3.25  3.00\n",
              "CocoaPercent  0.63   0.7   0.7   0.7   0.7  ...   0.7  0.65  0.65  0.62  0.65\n",
              "\n",
              "[1 rows x 1793 columns]"
            ]
          },
          "metadata": {
            "tags": []
          },
          "execution_count": 38
        }
      ]
    },
    {
      "cell_type": "code",
      "metadata": {
        "colab": {
          "base_uri": "https://localhost:8080/",
          "height": 592
        },
        "id": "rWTZSfZQKaRR",
        "outputId": "eaa8afc5-c399-42be-de06-93b052a48bf7"
      },
      "source": [
        "plt.figure(figsize=(10,10))\n",
        "ax = sns.boxplot( data=choco['Rating'], color='#99c2a2')\n",
        "#ax = sns.swarmplot(x=\"CocoaPercent\", y=\"Rating\", data=choco_anova, color='#7d0013')\n",
        "plt.show()"
      ],
      "execution_count": 39,
      "outputs": [
        {
          "output_type": "display_data",
          "data": {
            "image/png": "[encoded data removed]",
            "text/plain": [
              "<Figure size 720x720 with 1 Axes>"
            ]
          },
          "metadata": {
            "tags": [],
            "needs_background": "light"
          }
        }
      ]
    },
    {
      "cell_type": "code",
      "metadata": {
        "colab": {
          "base_uri": "https://localhost:8080/",
          "height": 592
        },
        "id": "5SKagh8XiRjd",
        "outputId": "d8c51141-cf69-45c8-a880-630b3eeb723a"
      },
      "source": [
        "plt.figure(figsize=(10,10))\n",
        "ax = sns.boxplot( data=choco['CocoaPercent'], color='#99c2a2')\n",
        "#ax = sns.swarmplot(x=\"CocoaPercent\", y=\"Rating\", data=choco_anova, color='#7d0013')\n",
        "plt.show()"
      ],
      "execution_count": 40,
      "outputs": [
        {
          "output_type": "display_data",
          "data": {
            "image/png": "[encoded data removed]",
            "text/plain": [
              "<Figure size 720x720 with 1 Axes>"
            ]
          },
          "metadata": {
            "tags": [],
            "needs_background": "light"
          }
        }
      ]
    },
    {
      "cell_type": "markdown",
      "metadata": {
        "id": "7CLPEfiwkEjA"
      },
      "source": [
        "###P value"
      ]
    },
    {
      "cell_type": "code",
      "metadata": {
        "colab": {
          "base_uri": "https://localhost:8080/"
        },
        "id": "db1K9RAWOQaI",
        "outputId": "4ac3afbb-829c-472e-e10f-59ceeb5f629a"
      },
      "source": [
        "fvalue, pvalue = stats.f_oneway(choco['CocoaPercent'], choco['Rating'])\n",
        "#print(fvalue, pvalue)\n",
        "print(pvalue.round(10))"
      ],
      "execution_count": 41,
      "outputs": [
        {
          "output_type": "stream",
          "text": [
            "0.0\n"
          ],
          "name": "stdout"
        }
      ]
    },
    {
      "cell_type": "code",
      "metadata": {
        "id": "rxryRZ6zMu3Z"
      },
      "source": [
        "# I called the dictionary:last_try. I tried to prepare the data many times, it was the last attempt :)\n",
        "last_try={}\n",
        "keys = [key for key in set(choco['Rating'])]\n",
        "\n",
        "for elem in choco['Rating']:\n",
        "    if elem in last_try.keys():\n",
        "        last_try[elem].append(choco[choco.Rating==elem].CocoaPercent)\n",
        "    else:\n",
        "        last_try[elem] = choco[choco.Rating==elem].CocoaPercent"
      ],
      "execution_count": 42,
      "outputs": []
    },
    {
      "cell_type": "code",
      "metadata": {
        "colab": {
          "base_uri": "https://localhost:8080/"
        },
        "id": "G-cZJiqyRqs9",
        "outputId": "baee597c-1f07-4355-dd16-3c7fc21e4cbb"
      },
      "source": [
        "type(last_try)"
      ],
      "execution_count": 43,
      "outputs": [
        {
          "output_type": "execute_result",
          "data": {
            "text/plain": [
              "dict"
            ]
          },
          "metadata": {
            "tags": []
          },
          "execution_count": 43
        }
      ]
    },
    {
      "cell_type": "code",
      "metadata": {
        "colab": {
          "base_uri": "https://localhost:8080/",
          "height": 297
        },
        "id": "ndpObzJcRvKv",
        "outputId": "aafe4da4-5c30-4ad2-f86f-97b70815b884"
      },
      "source": [
        "pd.DataFrame(last_try).describe()"
      ],
      "execution_count": 44,
      "outputs": [
        {
          "output_type": "execute_result",
          "data": {
            "text/html": [
              "<div>\n",
              "<style scoped>\n",
              "    .dataframe tbody tr th:only-of-type {\n",
              "        vertical-align: middle;\n",
              "    }\n",
              "\n",
              "    .dataframe tbody tr th {\n",
              "        vertical-align: top;\n",
              "    }\n",
              "\n",
              "    .dataframe thead th {\n",
              "        text-align: right;\n",
              "    }\n",
              "</style>\n",
              "<table border=\"1\" class=\"dataframe\">\n",
              "  <thead>\n",
              "    <tr style=\"text-align: right;\">\n",
              "      <th></th>\n",
              "      <th>3.75</th>\n",
              "      <th>2.75</th>\n",
              "      <th>3.00</th>\n",
              "      <th>3.50</th>\n",
              "      <th>4.00</th>\n",
              "      <th>3.25</th>\n",
              "      <th>2.50</th>\n",
              "      <th>5.00</th>\n",
              "      <th>1.75</th>\n",
              "      <th>1.50</th>\n",
              "      <th>2.25</th>\n",
              "      <th>2.00</th>\n",
              "      <th>1.00</th>\n",
              "    </tr>\n",
              "  </thead>\n",
              "  <tbody>\n",
              "    <tr>\n",
              "      <th>count</th>\n",
              "      <td>210.000000</td>\n",
              "      <td>259.000000</td>\n",
              "      <td>341.000000</td>\n",
              "      <td>392.000000</td>\n",
              "      <td>97.000000</td>\n",
              "      <td>303.000000</td>\n",
              "      <td>126.000000</td>\n",
              "      <td>2.0</td>\n",
              "      <td>3.000000</td>\n",
              "      <td>10.000000</td>\n",
              "      <td>14.000000</td>\n",
              "      <td>32.000000</td>\n",
              "      <td>4.000000</td>\n",
              "    </tr>\n",
              "    <tr>\n",
              "      <th>mean</th>\n",
              "      <td>0.708500</td>\n",
              "      <td>0.721795</td>\n",
              "      <td>0.717742</td>\n",
              "      <td>0.711607</td>\n",
              "      <td>0.708144</td>\n",
              "      <td>0.714125</td>\n",
              "      <td>0.717897</td>\n",
              "      <td>0.7</td>\n",
              "      <td>0.906667</td>\n",
              "      <td>0.848000</td>\n",
              "      <td>0.740000</td>\n",
              "      <td>0.766250</td>\n",
              "      <td>0.782500</td>\n",
              "    </tr>\n",
              "    <tr>\n",
              "      <th>std</th>\n",
              "      <td>0.038173</td>\n",
              "      <td>0.072325</td>\n",
              "      <td>0.064323</td>\n",
              "      <td>0.050010</td>\n",
              "      <td>0.039007</td>\n",
              "      <td>0.058884</td>\n",
              "      <td>0.070564</td>\n",
              "      <td>0.0</td>\n",
              "      <td>0.161658</td>\n",
              "      <td>0.153101</td>\n",
              "      <td>0.099383</td>\n",
              "      <td>0.118805</td>\n",
              "      <td>0.145688</td>\n",
              "    </tr>\n",
              "    <tr>\n",
              "      <th>min</th>\n",
              "      <td>0.500000</td>\n",
              "      <td>0.420000</td>\n",
              "      <td>0.550000</td>\n",
              "      <td>0.550000</td>\n",
              "      <td>0.600000</td>\n",
              "      <td>0.550000</td>\n",
              "      <td>0.550000</td>\n",
              "      <td>0.7</td>\n",
              "      <td>0.720000</td>\n",
              "      <td>0.650000</td>\n",
              "      <td>0.550000</td>\n",
              "      <td>0.530000</td>\n",
              "      <td>0.700000</td>\n",
              "    </tr>\n",
              "    <tr>\n",
              "      <th>25%</th>\n",
              "      <td>0.700000</td>\n",
              "      <td>0.700000</td>\n",
              "      <td>0.700000</td>\n",
              "      <td>0.700000</td>\n",
              "      <td>0.700000</td>\n",
              "      <td>0.700000</td>\n",
              "      <td>0.700000</td>\n",
              "      <td>0.7</td>\n",
              "      <td>0.860000</td>\n",
              "      <td>0.700000</td>\n",
              "      <td>0.705000</td>\n",
              "      <td>0.700000</td>\n",
              "      <td>0.700000</td>\n",
              "    </tr>\n",
              "    <tr>\n",
              "      <th>50%</th>\n",
              "      <td>0.700000</td>\n",
              "      <td>0.700000</td>\n",
              "      <td>0.700000</td>\n",
              "      <td>0.700000</td>\n",
              "      <td>0.700000</td>\n",
              "      <td>0.700000</td>\n",
              "      <td>0.710000</td>\n",
              "      <td>0.7</td>\n",
              "      <td>1.000000</td>\n",
              "      <td>0.880000</td>\n",
              "      <td>0.725000</td>\n",
              "      <td>0.750000</td>\n",
              "      <td>0.715000</td>\n",
              "    </tr>\n",
              "    <tr>\n",
              "      <th>75%</th>\n",
              "      <td>0.720000</td>\n",
              "      <td>0.750000</td>\n",
              "      <td>0.750000</td>\n",
              "      <td>0.730000</td>\n",
              "      <td>0.730000</td>\n",
              "      <td>0.750000</td>\n",
              "      <td>0.750000</td>\n",
              "      <td>0.7</td>\n",
              "      <td>1.000000</td>\n",
              "      <td>1.000000</td>\n",
              "      <td>0.757500</td>\n",
              "      <td>0.812500</td>\n",
              "      <td>0.797500</td>\n",
              "    </tr>\n",
              "    <tr>\n",
              "      <th>max</th>\n",
              "      <td>0.900000</td>\n",
              "      <td>1.000000</td>\n",
              "      <td>1.000000</td>\n",
              "      <td>1.000000</td>\n",
              "      <td>0.880000</td>\n",
              "      <td>0.990000</td>\n",
              "      <td>1.000000</td>\n",
              "      <td>0.7</td>\n",
              "      <td>1.000000</td>\n",
              "      <td>1.000000</td>\n",
              "      <td>1.000000</td>\n",
              "      <td>1.000000</td>\n",
              "      <td>1.000000</td>\n",
              "    </tr>\n",
              "  </tbody>\n",
              "</table>\n",
              "</div>"
            ],
            "text/plain": [
              "             3.75        2.75        3.00  ...       2.25       2.00      1.00\n",
              "count  210.000000  259.000000  341.000000  ...  14.000000  32.000000  4.000000\n",
              "mean     0.708500    0.721795    0.717742  ...   0.740000   0.766250  0.782500\n",
              "std      0.038173    0.072325    0.064323  ...   0.099383   0.118805  0.145688\n",
              "min      0.500000    0.420000    0.550000  ...   0.550000   0.530000  0.700000\n",
              "25%      0.700000    0.700000    0.700000  ...   0.705000   0.700000  0.700000\n",
              "50%      0.700000    0.700000    0.700000  ...   0.725000   0.750000  0.715000\n",
              "75%      0.720000    0.750000    0.750000  ...   0.757500   0.812500  0.797500\n",
              "max      0.900000    1.000000    1.000000  ...   1.000000   1.000000  1.000000\n",
              "\n",
              "[8 rows x 13 columns]"
            ]
          },
          "metadata": {
            "tags": []
          },
          "execution_count": 44
        }
      ]
    },
    {
      "cell_type": "code",
      "metadata": {
        "colab": {
          "base_uri": "https://localhost:8080/"
        },
        "id": "36CdDuSiTFvg",
        "outputId": "ae825dfe-f338-4bfb-94c4-8e75a4894b5c"
      },
      "source": [
        "last_try.keys()"
      ],
      "execution_count": 45,
      "outputs": [
        {
          "output_type": "execute_result",
          "data": {
            "text/plain": [
              "dict_keys([3.75, 2.75, 3.0, 3.5, 4.0, 3.25, 2.5, 5.0, 1.75, 1.5, 2.25, 2.0, 1.0])"
            ]
          },
          "metadata": {
            "tags": []
          },
          "execution_count": 45
        }
      ]
    },
    {
      "cell_type": "markdown",
      "metadata": {
        "id": "1gz2DLDukJqP"
      },
      "source": [
        "###Bartlett test"
      ]
    },
    {
      "cell_type": "code",
      "metadata": {
        "colab": {
          "base_uri": "https://localhost:8080/"
        },
        "id": "kDM0wyxo9Zkt",
        "outputId": "42491fe1-15f9-460e-c84c-61cde8b86523"
      },
      "source": [
        "#bartlett test  \n",
        "p = stats.bartlett(last_try[1.0], last_try[1.5], last_try[1.75], last_try[3.75], last_try[2.75], last_try[3.0], last_try[3.5], last_try[4.0], last_try[3.25], last_try[2.5], last_try[5.0], last_try[2.25], last_try[2.0] )\n",
        "p"
      ],
      "execution_count": 46,
      "outputs": [
        {
          "output_type": "stream",
          "text": [
            "/usr/local/lib/python3.7/dist-packages/scipy/stats/morestats.py:2241: RuntimeWarning: divide by zero encountered in log\n",
            "  numer = (Ntot*1.0 - k) * log(spsq) - np.sum((Ni - 1.0)*log(ssq), axis=0)\n"
          ],
          "name": "stderr"
        },
        {
          "output_type": "execute_result",
          "data": {
            "text/plain": [
              "BartlettResult(statistic=inf, pvalue=0.0)"
            ]
          },
          "metadata": {
            "tags": []
          },
          "execution_count": 46
        }
      ]
    },
    {
      "cell_type": "markdown",
      "metadata": {
        "id": "5xQnunebUW-5"
      },
      "source": [
        "Bartlett’s test tests the null hypothesis that all input samples are from populations with equal variances. Null hypotesis is rejected because of p value."
      ]
    },
    {
      "cell_type": "markdown",
      "metadata": {
        "id": "F1s4y79bkOUL"
      },
      "source": [
        "###Levene test"
      ]
    },
    {
      "cell_type": "code",
      "metadata": {
        "colab": {
          "base_uri": "https://localhost:8080/"
        },
        "id": "cU2ZuFy3UjDS",
        "outputId": "8d31885a-1b65-4d7c-9d54-bce801d9016b"
      },
      "source": [
        "#Levene test  \n",
        "p = stats.levene(last_try[1.0], last_try[1.5], last_try[1.75], last_try[3.75], last_try[2.75], last_try[3.0], last_try[3.5], last_try[4.0], last_try[3.25], last_try[2.5], last_try[5.0], last_try[2.25], last_try[2.0] )\n",
        "p"
      ],
      "execution_count": 47,
      "outputs": [
        {
          "output_type": "execute_result",
          "data": {
            "text/plain": [
              "LeveneResult(statistic=11.584121196479193, pvalue=8.749007675742454e-23)"
            ]
          },
          "metadata": {
            "tags": []
          },
          "execution_count": 47
        }
      ]
    },
    {
      "cell_type": "code",
      "metadata": {
        "colab": {
          "base_uri": "https://localhost:8080/"
        },
        "id": "5ytY6b6yVpUA",
        "outputId": "74673b8f-a3ff-4eb9-e99e-5220aa3547e9"
      },
      "source": [
        "round(float(8.749007675742454e-23))"
      ],
      "execution_count": 48,
      "outputs": [
        {
          "output_type": "execute_result",
          "data": {
            "text/plain": [
              "0"
            ]
          },
          "metadata": {
            "tags": []
          },
          "execution_count": 48
        }
      ]
    },
    {
      "cell_type": "markdown",
      "metadata": {
        "id": "cdMDxXMQVDTe"
      },
      "source": [
        "The Levene test tests the null hypothesis that all input samples are from populations with equal variances. Levene’s test is an alternative to Bartlett’s test bartlett in the case where there are significant deviations from normality. Null hypotesis is rejected because of p value."
      ]
    },
    {
      "cell_type": "markdown",
      "metadata": {
        "id": "dsaG-l44jsDn"
      },
      "source": [
        "###Anderson - check normal distribution"
      ]
    },
    {
      "cell_type": "code",
      "metadata": {
        "id": "W8XjWBX7X944"
      },
      "source": [
        "data_anderson=(last_try[1.0], last_try[1.5], last_try[1.75], last_try[3.75], last_try[2.75], last_try[3.0], last_try[3.5], last_try[4.0], last_try[3.25], last_try[2.5], last_try[5.0], last_try[2.25], last_try[2.0] )"
      ],
      "execution_count": 49,
      "outputs": []
    },
    {
      "cell_type": "code",
      "metadata": {
        "colab": {
          "base_uri": "https://localhost:8080/"
        },
        "id": "QKUsjfABYC-w",
        "outputId": "fb8e5c70-e5b4-454b-d7e9-76e625078779"
      },
      "source": [
        "for elem in data_anderson:\n",
        "    result = stats.anderson(elem)\n",
        "    print('Statistic: %.3f' % result.statistic)\n",
        "    p = 0\n",
        "    for i in range(len(result.critical_values)):\n",
        "        sl, cv = result.significance_level[i], result.critical_values[i]\n",
        "        if result.statistic < result.critical_values[i]:\n",
        "            print('%.3f: %.3f, data looks normal (fail to reject H0)' % (sl, cv))\n",
        "        else:\n",
        "            print('%.3f: %.3f, data does not look normal (reject H0)' % (sl, cv))"
      ],
      "execution_count": 50,
      "outputs": [
        {
          "output_type": "stream",
          "text": [
            "Statistic: 0.671\n",
            "15.000: 1.317, data looks normal (fail to reject H0)\n",
            "10.000: 1.499, data looks normal (fail to reject H0)\n",
            "5.000: 1.799, data looks normal (fail to reject H0)\n",
            "2.500: 2.098, data looks normal (fail to reject H0)\n",
            "1.000: 2.496, data looks normal (fail to reject H0)\n",
            "Statistic: 0.801\n",
            "15.000: 0.501, data does not look normal (reject H0)\n",
            "10.000: 0.570, data does not look normal (reject H0)\n",
            "5.000: 0.684, data does not look normal (reject H0)\n",
            "2.500: 0.798, data does not look normal (reject H0)\n",
            "1.000: 0.950, data looks normal (fail to reject H0)\n",
            "Statistic: 0.488\n",
            "15.000: -1.296, data does not look normal (reject H0)\n",
            "10.000: -1.476, data does not look normal (reject H0)\n",
            "5.000: -1.771, data does not look normal (reject H0)\n",
            "2.500: -2.065, data does not look normal (reject H0)\n",
            "1.000: -2.457, data does not look normal (reject H0)\n",
            "Statistic: 11.341\n",
            "15.000: 0.566, data does not look normal (reject H0)\n",
            "10.000: 0.644, data does not look normal (reject H0)\n",
            "5.000: 0.773, data does not look normal (reject H0)\n",
            "2.500: 0.901, data does not look normal (reject H0)\n",
            "1.000: 1.072, data does not look normal (reject H0)\n",
            "Statistic: 7.868\n",
            "15.000: 0.567, data does not look normal (reject H0)\n",
            "10.000: 0.646, data does not look normal (reject H0)\n",
            "5.000: 0.775, data does not look normal (reject H0)\n",
            "2.500: 0.904, data does not look normal (reject H0)\n",
            "1.000: 1.076, data does not look normal (reject H0)\n",
            "Statistic: 11.957\n",
            "15.000: 0.569, data does not look normal (reject H0)\n",
            "10.000: 0.649, data does not look normal (reject H0)\n",
            "5.000: 0.778, data does not look normal (reject H0)\n",
            "2.500: 0.908, data does not look normal (reject H0)\n",
            "1.000: 1.080, data does not look normal (reject H0)\n",
            "Statistic: 18.094\n",
            "15.000: 0.570, data does not look normal (reject H0)\n",
            "10.000: 0.649, data does not look normal (reject H0)\n",
            "5.000: 0.779, data does not look normal (reject H0)\n",
            "2.500: 0.909, data does not look normal (reject H0)\n",
            "1.000: 1.081, data does not look normal (reject H0)\n",
            "Statistic: 4.165\n",
            "15.000: 0.555, data does not look normal (reject H0)\n",
            "10.000: 0.632, data does not look normal (reject H0)\n",
            "5.000: 0.758, data does not look normal (reject H0)\n",
            "2.500: 0.884, data does not look normal (reject H0)\n",
            "1.000: 1.051, data does not look normal (reject H0)\n",
            "Statistic: 11.868\n",
            "15.000: 0.569, data does not look normal (reject H0)\n",
            "10.000: 0.648, data does not look normal (reject H0)\n",
            "5.000: 0.777, data does not look normal (reject H0)\n",
            "2.500: 0.906, data does not look normal (reject H0)\n",
            "1.000: 1.078, data does not look normal (reject H0)\n",
            "Statistic: 3.346\n",
            "15.000: 0.559, data does not look normal (reject H0)\n",
            "10.000: 0.637, data does not look normal (reject H0)\n",
            "5.000: 0.764, data does not look normal (reject H0)\n",
            "2.500: 0.891, data does not look normal (reject H0)\n",
            "1.000: 1.060, data does not look normal (reject H0)\n",
            "Statistic: nan\n",
            "15.000: -0.177, data does not look normal (reject H0)\n",
            "10.000: -0.202, data does not look normal (reject H0)\n",
            "5.000: -0.242, data does not look normal (reject H0)\n",
            "2.500: -0.282, data does not look normal (reject H0)\n",
            "1.000: -0.336, data does not look normal (reject H0)\n",
            "Statistic: 0.850\n",
            "15.000: 0.497, data does not look normal (reject H0)\n",
            "10.000: 0.566, data does not look normal (reject H0)\n",
            "5.000: 0.680, data does not look normal (reject H0)\n",
            "2.500: 0.793, data does not look normal (reject H0)\n",
            "1.000: 0.943, data looks normal (fail to reject H0)\n",
            "Statistic: 0.984\n",
            "15.000: 0.523, data does not look normal (reject H0)\n",
            "10.000: 0.596, data does not look normal (reject H0)\n",
            "5.000: 0.715, data does not look normal (reject H0)\n",
            "2.500: 0.834, data does not look normal (reject H0)\n",
            "1.000: 0.992, data looks normal (fail to reject H0)\n"
          ],
          "name": "stdout"
        },
        {
          "output_type": "stream",
          "text": [
            "/usr/local/lib/python3.7/dist-packages/scipy/stats/morestats.py:1780: RuntimeWarning: invalid value encountered in true_divide\n",
            "  w = (y - xbar) / s\n"
          ],
          "name": "stderr"
        }
      ]
    },
    {
      "cell_type": "markdown",
      "metadata": {
        "id": "-_IqaL2aYgUW"
      },
      "source": [
        "The null hypotesis that the data comes from normal distribution is rejected."
      ]
    },
    {
      "cell_type": "markdown",
      "metadata": {
        "id": "gLfo_IZb2u6Z"
      },
      "source": [
        "Thus, the null hypothesis of equal variances and normal distribution are rejected and it is concluded that there is a difference between the variances in the population - the samples are not homogeneous and the distribution is not normal.\n"
      ]
    },
    {
      "cell_type": "markdown",
      "metadata": {
        "id": "ov3WCYcFlu7X"
      },
      "source": [
        "##Spearman test"
      ]
    },
    {
      "cell_type": "code",
      "metadata": {
        "colab": {
          "base_uri": "https://localhost:8080/"
        },
        "id": "vM8te3Fnlw_W",
        "outputId": "ac18bf48-c9cd-471d-cf3b-f2cb599ec47d"
      },
      "source": [
        "data1=choco['Rating']\n",
        "data2=choco['CocoaPercent']\n",
        "coef, p = stats.spearmanr(data1, data2)\n",
        "print('Spearmans correlation coefficient: %.3f' % coef)\n",
        "print('Spearmans pvalue: %.5f' % p)\n",
        "# interpret the significance\n",
        "alpha = 0.05\n",
        "if p > alpha:\n",
        "\tprint('Samples are uncorrelated (fail to reject H0) p=%.3f' % p)\n",
        "else:\n",
        "\tprint('Samples are correlated (reject H0) p=%.3f' % p)"
      ],
      "execution_count": 51,
      "outputs": [
        {
          "output_type": "stream",
          "text": [
            "Spearmans correlation coefficient: -0.123\n",
            "Spearmans pvalue: 0.00000\n",
            "Samples are correlated (reject H0) p=0.000\n"
          ],
          "name": "stdout"
        }
      ]
    },
    {
      "cell_type": "markdown",
      "metadata": {
        "id": "z09H2GVBnxeD"
      },
      "source": [
        "##Kendall Correlation Coefficient"
      ]
    },
    {
      "cell_type": "code",
      "metadata": {
        "colab": {
          "base_uri": "https://localhost:8080/"
        },
        "id": "ee7E67phn7PG",
        "outputId": "b4fb47b0-e54b-45d8-a069-b9ecd0064aa0"
      },
      "source": [
        "coef, p = stats.kendalltau(data1, data2)\n",
        "print('Kendall correlation coefficient: %.3f' % coef)\n",
        "# interpret the significance\n",
        "alpha = 0.05\n",
        "if p > alpha:\n",
        "\tprint('Samples are uncorrelated (fail to reject H0) p=%.3f' % p)\n",
        "else:\n",
        "\tprint('Samples are correlated (reject H0) p=%.3f' % p)"
      ],
      "execution_count": 52,
      "outputs": [
        {
          "output_type": "stream",
          "text": [
            "Kendall correlation coefficient: -0.094\n",
            "Samples are correlated (reject H0) p=0.000\n"
          ],
          "name": "stdout"
        }
      ]
    },
    {
      "cell_type": "markdown",
      "metadata": {
        "id": "a-O49hepqXzT"
      },
      "source": [
        "##Kruskal Wallis"
      ]
    },
    {
      "cell_type": "code",
      "metadata": {
        "colab": {
          "base_uri": "https://localhost:8080/"
        },
        "id": "HMX1Bm-NqkQ7",
        "outputId": "4a6fbbc2-07ac-4305-a554-ab6d38a195be"
      },
      "source": [
        "#Kruskal Wallis test  \n",
        "p = stats.kruskal(last_try[1.0], last_try[1.5], last_try[1.75], last_try[3.75], last_try[2.75], last_try[3.0], last_try[3.5], last_try[4.0], last_try[3.25], last_try[2.5], last_try[5.0], last_try[2.25], last_try[2.0] )\n",
        "p"
      ],
      "execution_count": 53,
      "outputs": [
        {
          "output_type": "execute_result",
          "data": {
            "text/plain": [
              "KruskalResult(statistic=39.65123708491793, pvalue=8.214790262355974e-05)"
            ]
          },
          "metadata": {
            "tags": []
          },
          "execution_count": 53
        }
      ]
    },
    {
      "cell_type": "code",
      "metadata": {
        "colab": {
          "base_uri": "https://localhost:8080/"
        },
        "id": "ZCG9pT8MqxX5",
        "outputId": "f79ab98b-bf4a-4c14-f2a3-c5ad67f1b5d1"
      },
      "source": [
        "round(float(8.214790262355974e-05))"
      ],
      "execution_count": 54,
      "outputs": [
        {
          "output_type": "execute_result",
          "data": {
            "text/plain": [
              "0"
            ]
          },
          "metadata": {
            "tags": []
          },
          "execution_count": 54
        }
      ]
    },
    {
      "cell_type": "markdown",
      "metadata": {
        "id": "MysihtAXDPC2"
      },
      "source": [
        "##Regression model - to do (?)"
      ]
    },
    {
      "cell_type": "code",
      "metadata": {
        "colab": {
          "base_uri": "https://localhost:8080/"
        },
        "id": "XyYOW_YkVhNg",
        "outputId": "444da2e4-d044-4106-b289-cbe331e48476"
      },
      "source": [
        "y = choco_anova['CocoaPercent']\n",
        "X=choco_anova['Rating']\n",
        "model = sm.OLS(y, X)\n",
        "results = model.fit()\n",
        "print(results.summary())"
      ],
      "execution_count": 165,
      "outputs": [
        {
          "output_type": "stream",
          "text": [
            "                                 OLS Regression Results                                \n",
            "=======================================================================================\n",
            "Dep. Variable:           CocoaPercent   R-squared (uncentered):                   0.966\n",
            "Model:                            OLS   Adj. R-squared (uncentered):              0.966\n",
            "Method:                 Least Squares   F-statistic:                          5.131e+04\n",
            "Date:                Sun, 04 Apr 2021   Prob (F-statistic):                        0.00\n",
            "Time:                        16:40:35   Log-Likelihood:                          1083.5\n",
            "No. Observations:                1793   AIC:                                     -2165.\n",
            "Df Residuals:                    1792   BIC:                                     -2159.\n",
            "Df Model:                           1                                                  \n",
            "Covariance Type:            nonrobust                                                  \n",
            "==============================================================================\n",
            "                 coef    std err          t      P>|t|      [0.025      0.975]\n",
            "------------------------------------------------------------------------------\n",
            "Rating         0.2196      0.001    226.507      0.000       0.218       0.222\n",
            "==============================================================================\n",
            "Omnibus:                      369.989   Durbin-Watson:                   1.521\n",
            "Prob(Omnibus):                  0.000   Jarque-Bera (JB):             1019.706\n",
            "Skew:                           1.073   Prob(JB):                    3.75e-222\n",
            "Kurtosis:                       6.007   Cond. No.                         1.00\n",
            "==============================================================================\n",
            "\n",
            "Warnings:\n",
            "[1] Standard Errors assume that the covariance matrix of the errors is correctly specified.\n"
          ],
          "name": "stdout"
        }
      ]
    },
    {
      "cell_type": "code",
      "metadata": {
        "colab": {
          "base_uri": "https://localhost:8080/",
          "height": 265
        },
        "id": "jaMU-E8otnwG",
        "outputId": "fd3524b0-262d-4b80-f26c-4bb4610f09be"
      },
      "source": [
        "# plotting the original values\n",
        "x = choco_anova['Rating'].tolist()\n",
        "y = choco_anova['CocoaPercent'].tolist()\n",
        "plt.scatter(x, y)\n",
        "  \n",
        "# finding the maximum and minimum\n",
        "# values of x, to get the\n",
        "# range of data\n",
        "max_x = choco_anova['Rating'].max()\n",
        "min_x = choco_anova['CocoaPercent'].min()\n",
        "  \n",
        "# range of values for plotting\n",
        "# the regression line\n",
        "x = np.arange(min_x, max_x, 1)\n",
        "  \n",
        "# the substituted equation\n",
        "y = 0.2196* x\n",
        "  \n",
        "# plotting the regression line\n",
        "plt.plot(y, 'r')\n",
        "plt.show()"
      ],
      "execution_count": 166,
      "outputs": [
        {
          "output_type": "display_data",
          "data": {
            "image/png": "[encoded data removed]",
            "text/plain": [
              "<Figure size 432x288 with 1 Axes>"
            ]
          },
          "metadata": {
            "tags": [],
            "needs_background": "light"
          }
        }
      ]
    },
    {
      "cell_type": "code",
      "metadata": {
        "colab": {
          "base_uri": "https://localhost:8080/",
          "height": 279
        },
        "id": "xXeHLsk7udqZ",
        "outputId": "174854ec-714a-49f1-a342-b043d363ff7f"
      },
      "source": [
        "ax = sns.regplot(x=\"Rating\", y=\"CocoaPercent\", data=choco_anova)\n"
      ],
      "execution_count": 159,
      "outputs": [
        {
          "output_type": "display_data",
          "data": {
            "image/png": "[encoded data removed]",
            "text/plain": [
              "<Figure size 432x288 with 1 Axes>"
            ]
          },
          "metadata": {
            "tags": [],
            "needs_background": "light"
          }
        }
      ]
    },
    {
      "cell_type": "code",
      "metadata": {
        "id": "LB4r9ZAZS18u"
      },
      "source": [
        ""
      ],
      "execution_count": null,
      "outputs": []
    }
  ]
}