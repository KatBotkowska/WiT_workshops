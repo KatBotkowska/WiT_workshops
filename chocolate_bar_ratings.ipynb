{
  "nbformat": 4,
  "nbformat_minor": 0,
  "metadata": {
    "colab": {
      "name": "chocolate_bar_ratings.ipynb",
      "provenance": [],
      "collapsed_sections": [
        "wvaK4gCBz4l4"
      ],
      "toc_visible": true,
      "authorship_tag": "ABX9TyOirwbWiOd1XAGxyZcrrxcq",
      "include_colab_link": true
    },
    "kernelspec": {
      "name": "python3",
      "display_name": "Python 3"
    }
  },
  "cells": [
    {
      "cell_type": "markdown",
      "metadata": {
        "id": "view-in-github",
        "colab_type": "text"
      },
      "source": [
        "<a href=\"https://colab.research.google.com/github/KatBotkowska/WiT_workshops/blob/main/chocolate_bar_ratings.ipynb\" target=\"_parent\"><img src=\"https://colab.research.google.com/assets/colab-badge.svg\" alt=\"Open In Colab\"/></a>"
      ]
    },
    {
      "cell_type": "markdown",
      "metadata": {
        "id": "2ekROKyDJoEa"
      },
      "source": [
        "#Imports"
      ]
    },
    {
      "cell_type": "code",
      "metadata": {
        "id": "a709fZDUFMfc",
        "colab": {
          "base_uri": "https://localhost:8080/"
        },
        "outputId": "1ee1be4e-e992-49ed-8864-404af5524a9e"
      },
      "source": [
        "import pandas as pd\n",
        "import numpy as np\n",
        "import io\n",
        "from unicodedata import normalize\n",
        "from scipy.stats import pearsonr\n",
        "import seaborn as sns\n",
        "import matplotlib.pyplot as plt\n",
        "from sklearn.preprocessing import StandardScaler\n",
        "import scipy.stats as stats\n",
        "import statsmodels.api as sm\n",
        "from statsmodels.formula.api import ols\n",
        "from sklearn.cluster import KMeans # K-means algorithm\n",
        "from sklearn.decomposition import PCA\n",
        "from sklearn.discriminant_analysis import LinearDiscriminantAnalysis\n",
        "from sklearn.metrics.pairwise import cosine_similarity\n",
        "from sklearn.feature_extraction.text import CountVectorizer"
      ],
      "execution_count": 1,
      "outputs": [
        {
          "output_type": "stream",
          "text": [
            "/usr/local/lib/python3.7/dist-packages/statsmodels/tools/_testing.py:19: FutureWarning: pandas.util.testing is deprecated. Use the functions in the public API at pandas.testing instead.\n",
            "  import pandas.util.testing as tm\n"
          ],
          "name": "stderr"
        }
      ]
    },
    {
      "cell_type": "code",
      "metadata": {
        "colab": {
          "base_uri": "https://localhost:8080/"
        },
        "id": "hqDwSSzWplTI",
        "outputId": "9690dce3-67e0-4f81-8578-5e95b1ae4e9e"
      },
      "source": [
        "#Mount google drive\n",
        "from google.colab import drive\n",
        "drive.mount('/content/gdrive')"
      ],
      "execution_count": 2,
      "outputs": [
        {
          "output_type": "stream",
          "text": [
            "Drive already mounted at /content/gdrive; to attempt to forcibly remount, call drive.mount(\"/content/gdrive\", force_remount=True).\n"
          ],
          "name": "stdout"
        }
      ]
    },
    {
      "cell_type": "code",
      "metadata": {
        "id": "yit_f-GwbPQa"
      },
      "source": [
        "plt.rcParams['figure.figsize'] = (20, 10)\n",
        "plt.rcParams.update({'font.size': 16})"
      ],
      "execution_count": 3,
      "outputs": []
    },
    {
      "cell_type": "markdown",
      "metadata": {
        "id": "wvaK4gCBz4l4"
      },
      "source": [
        "#Getting data from Kaggle - not to run (only once at the beggining to download data from Kaggle to gdrive)"
      ]
    },
    {
      "cell_type": "code",
      "metadata": {
        "id": "pezF5SSlqJLm"
      },
      "source": [
        "root_path = 'gdrive/My Drive/WiT_workshops/'"
      ],
      "execution_count": null,
      "outputs": []
    },
    {
      "cell_type": "code",
      "metadata": {
        "colab": {
          "base_uri": "https://localhost:8080/"
        },
        "id": "H5oM72gnFvKg",
        "outputId": "002a9480-0932-4799-ff37-b65d3f01dca7"
      },
      "source": [
        "cd 'gdrive/My Drive/WiT_workshops/'"
      ],
      "execution_count": null,
      "outputs": [
        {
          "output_type": "stream",
          "text": [
            "/content/gdrive/My Drive/WiT_workshops\n"
          ],
          "name": "stdout"
        }
      ]
    },
    {
      "cell_type": "code",
      "metadata": {
        "colab": {
          "resources": {
            "http://localhost:8080/nbextensions/google.colab/files.js": {
              "data": "Ly8gQ29weXJpZ2h0IDIwMTcgR29vZ2xlIExMQwovLwovLyBMaWNlbnNlZCB1bmRlciB0aGUgQXBhY2hlIExpY2Vuc2UsIFZlcnNpb24gMi4wICh0aGUgIkxpY2Vuc2UiKTsKLy8geW91IG1heSBub3QgdXNlIHRoaXMgZmlsZSBleGNlcHQgaW4gY29tcGxpYW5jZSB3aXRoIHRoZSBMaWNlbnNlLgovLyBZb3UgbWF5IG9idGFpbiBhIGNvcHkgb2YgdGhlIExpY2Vuc2UgYXQKLy8KLy8gICAgICBodHRwOi8vd3d3LmFwYWNoZS5vcmcvbGljZW5zZXMvTElDRU5TRS0yLjAKLy8KLy8gVW5sZXNzIHJlcXVpcmVkIGJ5IGFwcGxpY2FibGUgbGF3IG9yIGFncmVlZCB0byBpbiB3cml0aW5nLCBzb2Z0d2FyZQovLyBkaXN0cmlidXRlZCB1bmRlciB0aGUgTGljZW5zZSBpcyBkaXN0cmlidXRlZCBvbiBhbiAiQVMgSVMiIEJBU0lTLAovLyBXSVRIT1VUIFdBUlJBTlRJRVMgT1IgQ09ORElUSU9OUyBPRiBBTlkgS0lORCwgZWl0aGVyIGV4cHJlc3Mgb3IgaW1wbGllZC4KLy8gU2VlIHRoZSBMaWNlbnNlIGZvciB0aGUgc3BlY2lmaWMgbGFuZ3VhZ2UgZ292ZXJuaW5nIHBlcm1pc3Npb25zIGFuZAovLyBsaW1pdGF0aW9ucyB1bmRlciB0aGUgTGljZW5zZS4KCi8qKgogKiBAZmlsZW92ZXJ2aWV3IEhlbHBlcnMgZm9yIGdvb2dsZS5jb2xhYiBQeXRob24gbW9kdWxlLgogKi8KKGZ1bmN0aW9uKHNjb3BlKSB7CmZ1bmN0aW9uIHNwYW4odGV4dCwgc3R5bGVBdHRyaWJ1dGVzID0ge30pIHsKICBjb25zdCBlbGVtZW50ID0gZG9jdW1lbnQuY3JlYXRlRWxlbWVudCgnc3BhbicpOwogIGVsZW1lbnQudGV4dENvbnRlbnQgPSB0ZXh0OwogIGZvciAoY29uc3Qga2V5IG9mIE9iamVjdC5rZXlzKHN0eWxlQXR0cmlidXRlcykpIHsKICAgIGVsZW1lbnQuc3R5bGVba2V5XSA9IHN0eWxlQXR0cmlidXRlc1trZXldOwogIH0KICByZXR1cm4gZWxlbWVudDsKfQoKLy8gTWF4IG51bWJlciBvZiBieXRlcyB3aGljaCB3aWxsIGJlIHVwbG9hZGVkIGF0IGEgdGltZS4KY29uc3QgTUFYX1BBWUxPQURfU0laRSA9IDEwMCAqIDEwMjQ7CgpmdW5jdGlvbiBfdXBsb2FkRmlsZXMoaW5wdXRJZCwgb3V0cHV0SWQpIHsKICBjb25zdCBzdGVwcyA9IHVwbG9hZEZpbGVzU3RlcChpbnB1dElkLCBvdXRwdXRJZCk7CiAgY29uc3Qgb3V0cHV0RWxlbWVudCA9IGRvY3VtZW50LmdldEVsZW1lbnRCeUlkKG91dHB1dElkKTsKICAvLyBDYWNoZSBzdGVwcyBvbiB0aGUgb3V0cHV0RWxlbWVudCB0byBtYWtlIGl0IGF2YWlsYWJsZSBmb3IgdGhlIG5leHQgY2FsbAogIC8vIHRvIHVwbG9hZEZpbGVzQ29udGludWUgZnJvbSBQeXRob24uCiAgb3V0cHV0RWxlbWVudC5zdGVwcyA9IHN0ZXBzOwoKICByZXR1cm4gX3VwbG9hZEZpbGVzQ29udGludWUob3V0cHV0SWQpOwp9CgovLyBUaGlzIGlzIHJvdWdobHkgYW4gYXN5bmMgZ2VuZXJhdG9yIChub3Qgc3VwcG9ydGVkIGluIHRoZSBicm93c2VyIHlldCksCi8vIHdoZXJlIHRoZXJlIGFyZSBtdWx0aXBsZSBhc3luY2hyb25vdXMgc3RlcHMgYW5kIHRoZSBQeXRob24gc2lkZSBpcyBnb2luZwovLyB0byBwb2xsIGZvciBjb21wbGV0aW9uIG9mIGVhY2ggc3RlcC4KLy8gVGhpcyB1c2VzIGEgUHJvbWlzZSB0byBibG9jayB0aGUgcHl0aG9uIHNpZGUgb24gY29tcGxldGlvbiBvZiBlYWNoIHN0ZXAsCi8vIHRoZW4gcGFzc2VzIHRoZSByZXN1bHQgb2YgdGhlIHByZXZpb3VzIHN0ZXAgYXMgdGhlIGlucHV0IHRvIHRoZSBuZXh0IHN0ZXAuCmZ1bmN0aW9uIF91cGxvYWRGaWxlc0NvbnRpbnVlKG91dHB1dElkKSB7CiAgY29uc3Qgb3V0cHV0RWxlbWVudCA9IGRvY3VtZW50LmdldEVsZW1lbnRCeUlkKG91dHB1dElkKTsKICBjb25zdCBzdGVwcyA9IG91dHB1dEVsZW1lbnQuc3RlcHM7CgogIGNvbnN0IG5leHQgPSBzdGVwcy5uZXh0KG91dHB1dEVsZW1lbnQubGFzdFByb21pc2VWYWx1ZSk7CiAgcmV0dXJuIFByb21pc2UucmVzb2x2ZShuZXh0LnZhbHVlLnByb21pc2UpLnRoZW4oKHZhbHVlKSA9PiB7CiAgICAvLyBDYWNoZSB0aGUgbGFzdCBwcm9taXNlIHZhbHVlIHRvIG1ha2UgaXQgYXZhaWxhYmxlIHRvIHRoZSBuZXh0CiAgICAvLyBzdGVwIG9mIHRoZSBnZW5lcmF0b3IuCiAgICBvdXRwdXRFbGVtZW50Lmxhc3RQcm9taXNlVmFsdWUgPSB2YWx1ZTsKICAgIHJldHVybiBuZXh0LnZhbHVlLnJlc3BvbnNlOwogIH0pOwp9CgovKioKICogR2VuZXJhdG9yIGZ1bmN0aW9uIHdoaWNoIGlzIGNhbGxlZCBiZXR3ZWVuIGVhY2ggYXN5bmMgc3RlcCBvZiB0aGUgdXBsb2FkCiAqIHByb2Nlc3MuCiAqIEBwYXJhbSB7c3RyaW5nfSBpbnB1dElkIEVsZW1lbnQgSUQgb2YgdGhlIGlucHV0IGZpbGUgcGlja2VyIGVsZW1lbnQuCiAqIEBwYXJhbSB7c3RyaW5nfSBvdXRwdXRJZCBFbGVtZW50IElEIG9mIHRoZSBvdXRwdXQgZGlzcGxheS4KICogQHJldHVybiB7IUl0ZXJhYmxlPCFPYmplY3Q+fSBJdGVyYWJsZSBvZiBuZXh0IHN0ZXBzLgogKi8KZnVuY3Rpb24qIHVwbG9hZEZpbGVzU3RlcChpbnB1dElkLCBvdXRwdXRJZCkgewogIGNvbnN0IGlucHV0RWxlbWVudCA9IGRvY3VtZW50LmdldEVsZW1lbnRCeUlkKGlucHV0SWQpOwogIGlucHV0RWxlbWVudC5kaXNhYmxlZCA9IGZhbHNlOwoKICBjb25zdCBvdXRwdXRFbGVtZW50ID0gZG9jdW1lbnQuZ2V0RWxlbWVudEJ5SWQob3V0cHV0SWQpOwogIG91dHB1dEVsZW1lbnQuaW5uZXJIVE1MID0gJyc7CgogIGNvbnN0IHBpY2tlZFByb21pc2UgPSBuZXcgUHJvbWlzZSgocmVzb2x2ZSkgPT4gewogICAgaW5wdXRFbGVtZW50LmFkZEV2ZW50TGlzdGVuZXIoJ2NoYW5nZScsIChlKSA9PiB7CiAgICAgIHJlc29sdmUoZS50YXJnZXQuZmlsZXMpOwogICAgfSk7CiAgfSk7CgogIGNvbnN0IGNhbmNlbCA9IGRvY3VtZW50LmNyZWF0ZUVsZW1lbnQoJ2J1dHRvbicpOwogIGlucHV0RWxlbWVudC5wYXJlbnRFbGVtZW50LmFwcGVuZENoaWxkKGNhbmNlbCk7CiAgY2FuY2VsLnRleHRDb250ZW50ID0gJ0NhbmNlbCB1cGxvYWQnOwogIGNvbnN0IGNhbmNlbFByb21pc2UgPSBuZXcgUHJvbWlzZSgocmVzb2x2ZSkgPT4gewogICAgY2FuY2VsLm9uY2xpY2sgPSAoKSA9PiB7CiAgICAgIHJlc29sdmUobnVsbCk7CiAgICB9OwogIH0pOwoKICAvLyBXYWl0IGZvciB0aGUgdXNlciB0byBwaWNrIHRoZSBmaWxlcy4KICBjb25zdCBmaWxlcyA9IHlpZWxkIHsKICAgIHByb21pc2U6IFByb21pc2UucmFjZShbcGlja2VkUHJvbWlzZSwgY2FuY2VsUHJvbWlzZV0pLAogICAgcmVzcG9uc2U6IHsKICAgICAgYWN0aW9uOiAnc3RhcnRpbmcnLAogICAgfQogIH07CgogIGNhbmNlbC5yZW1vdmUoKTsKCiAgLy8gRGlzYWJsZSB0aGUgaW5wdXQgZWxlbWVudCBzaW5jZSBmdXJ0aGVyIHBpY2tzIGFyZSBub3QgYWxsb3dlZC4KICBpbnB1dEVsZW1lbnQuZGlzYWJsZWQgPSB0cnVlOwoKICBpZiAoIWZpbGVzKSB7CiAgICByZXR1cm4gewogICAgICByZXNwb25zZTogewogICAgICAgIGFjdGlvbjogJ2NvbXBsZXRlJywKICAgICAgfQogICAgfTsKICB9CgogIGZvciAoY29uc3QgZmlsZSBvZiBmaWxlcykgewogICAgY29uc3QgbGkgPSBkb2N1bWVudC5jcmVhdGVFbGVtZW50KCdsaScpOwogICAgbGkuYXBwZW5kKHNwYW4oZmlsZS5uYW1lLCB7Zm9udFdlaWdodDogJ2JvbGQnfSkpOwogICAgbGkuYXBwZW5kKHNwYW4oCiAgICAgICAgYCgke2ZpbGUudHlwZSB8fCAnbi9hJ30pIC0gJHtmaWxlLnNpemV9IGJ5dGVzLCBgICsKICAgICAgICBgbGFzdCBtb2RpZmllZDogJHsKICAgICAgICAgICAgZmlsZS5sYXN0TW9kaWZpZWREYXRlID8gZmlsZS5sYXN0TW9kaWZpZWREYXRlLnRvTG9jYWxlRGF0ZVN0cmluZygpIDoKICAgICAgICAgICAgICAgICAgICAgICAgICAgICAgICAgICAgJ24vYSd9IC0gYCkpOwogICAgY29uc3QgcGVyY2VudCA9IHNwYW4oJzAlIGRvbmUnKTsKICAgIGxpLmFwcGVuZENoaWxkKHBlcmNlbnQpOwoKICAgIG91dHB1dEVsZW1lbnQuYXBwZW5kQ2hpbGQobGkpOwoKICAgIGNvbnN0IGZpbGVEYXRhUHJvbWlzZSA9IG5ldyBQcm9taXNlKChyZXNvbHZlKSA9PiB7CiAgICAgIGNvbnN0IHJlYWRlciA9IG5ldyBGaWxlUmVhZGVyKCk7CiAgICAgIHJlYWRlci5vbmxvYWQgPSAoZSkgPT4gewogICAgICAgIHJlc29sdmUoZS50YXJnZXQucmVzdWx0KTsKICAgICAgfTsKICAgICAgcmVhZGVyLnJlYWRBc0FycmF5QnVmZmVyKGZpbGUpOwogICAgfSk7CiAgICAvLyBXYWl0IGZvciB0aGUgZGF0YSB0byBiZSByZWFkeS4KICAgIGxldCBmaWxlRGF0YSA9IHlpZWxkIHsKICAgICAgcHJvbWlzZTogZmlsZURhdGFQcm9taXNlLAogICAgICByZXNwb25zZTogewogICAgICAgIGFjdGlvbjogJ2NvbnRpbnVlJywKICAgICAgfQogICAgfTsKCiAgICAvLyBVc2UgYSBjaHVua2VkIHNlbmRpbmcgdG8gYXZvaWQgbWVzc2FnZSBzaXplIGxpbWl0cy4gU2VlIGIvNjIxMTU2NjAuCiAgICBsZXQgcG9zaXRpb24gPSAwOwogICAgd2hpbGUgKHBvc2l0aW9uIDwgZmlsZURhdGEuYnl0ZUxlbmd0aCkgewogICAgICBjb25zdCBsZW5ndGggPSBNYXRoLm1pbihmaWxlRGF0YS5ieXRlTGVuZ3RoIC0gcG9zaXRpb24sIE1BWF9QQVlMT0FEX1NJWkUpOwogICAgICBjb25zdCBjaHVuayA9IG5ldyBVaW50OEFycmF5KGZpbGVEYXRhLCBwb3NpdGlvbiwgbGVuZ3RoKTsKICAgICAgcG9zaXRpb24gKz0gbGVuZ3RoOwoKICAgICAgY29uc3QgYmFzZTY0ID0gYnRvYShTdHJpbmcuZnJvbUNoYXJDb2RlLmFwcGx5KG51bGwsIGNodW5rKSk7CiAgICAgIHlpZWxkIHsKICAgICAgICByZXNwb25zZTogewogICAgICAgICAgYWN0aW9uOiAnYXBwZW5kJywKICAgICAgICAgIGZpbGU6IGZpbGUubmFtZSwKICAgICAgICAgIGRhdGE6IGJhc2U2NCwKICAgICAgICB9LAogICAgICB9OwogICAgICBwZXJjZW50LnRleHRDb250ZW50ID0KICAgICAgICAgIGAke01hdGgucm91bmQoKHBvc2l0aW9uIC8gZmlsZURhdGEuYnl0ZUxlbmd0aCkgKiAxMDApfSUgZG9uZWA7CiAgICB9CiAgfQoKICAvLyBBbGwgZG9uZS4KICB5aWVsZCB7CiAgICByZXNwb25zZTogewogICAgICBhY3Rpb246ICdjb21wbGV0ZScsCiAgICB9CiAgfTsKfQoKc2NvcGUuZ29vZ2xlID0gc2NvcGUuZ29vZ2xlIHx8IHt9OwpzY29wZS5nb29nbGUuY29sYWIgPSBzY29wZS5nb29nbGUuY29sYWIgfHwge307CnNjb3BlLmdvb2dsZS5jb2xhYi5fZmlsZXMgPSB7CiAgX3VwbG9hZEZpbGVzLAogIF91cGxvYWRGaWxlc0NvbnRpbnVlLAp9Owp9KShzZWxmKTsK",
              "ok": true,
              "headers": [
                [
                  "content-type",
                  "application/javascript"
                ]
              ],
              "status": 200,
              "status_text": ""
            }
          },
          "base_uri": "https://localhost:8080/",
          "height": 89
        },
        "id": "gRka04f8qzYk",
        "outputId": "0af8cc7e-5b59-4a66-e5eb-b0c10ef6e338"
      },
      "source": [
        "from google.colab import files\n",
        "files.upload()  #this will prompt you to upload the kaggle.json"
      ],
      "execution_count": null,
      "outputs": [
        {
          "output_type": "display_data",
          "data": {
            "text/html": [
              "\n",
              "     <input type=\"file\" id=\"files-fbace32b-bb6c-470c-91b5-a5dba1cb6ece\" name=\"files[]\" multiple disabled\n",
              "        style=\"border:none\" />\n",
              "     <output id=\"result-fbace32b-bb6c-470c-91b5-a5dba1cb6ece\">\n",
              "      Upload widget is only available when the cell has been executed in the\n",
              "      current browser session. Please rerun this cell to enable.\n",
              "      </output>\n",
              "      <script src=\"/nbextensions/google.colab/files.js\"></script> "
            ],
            "text/plain": [
              "<IPython.core.display.HTML object>"
            ]
          },
          "metadata": {
            "tags": []
          }
        },
        {
          "output_type": "stream",
          "text": [
            "Saving kaggle.json to kaggle (1).json\n"
          ],
          "name": "stdout"
        },
        {
          "output_type": "execute_result",
          "data": {
            "text/plain": [
              "{'kaggle.json': b'{\"username\":\"kbotkowska\",\"key\":\"90ebb11108c952959800f5549af3472d\"}'}"
            ]
          },
          "metadata": {
            "tags": []
          },
          "execution_count": 5
        }
      ]
    },
    {
      "cell_type": "code",
      "metadata": {
        "colab": {
          "base_uri": "https://localhost:8080/"
        },
        "id": "QKw8uL2brD0I",
        "outputId": "239ca919-c063-4714-93e7-bbe464c1025d"
      },
      "source": [
        "!pip install -q kaggle\n",
        "!mkdir -p ~/.kaggle\n",
        "!cp kaggle.json ~/.kaggle/\n",
        "!ls ~/.kaggle\n",
        "!chmod 600 /root/.kaggle/kaggle.json  # set permission"
      ],
      "execution_count": null,
      "outputs": [
        {
          "output_type": "stream",
          "text": [
            "kaggle.json\n"
          ],
          "name": "stdout"
        }
      ]
    },
    {
      "cell_type": "code",
      "metadata": {
        "colab": {
          "base_uri": "https://localhost:8080/"
        },
        "id": "ge55_sAA7Mvt",
        "outputId": "fb228aec-9895-4b68-f410-2b221d0e2a72"
      },
      "source": [
        "!kaggle datasets download -d rtatman/chocolate-bar-ratings\n",
        "# !kaggle datasets download -d sid321axn/beijing-multisite-airquality-data-set"
      ],
      "execution_count": null,
      "outputs": [
        {
          "output_type": "stream",
          "text": [
            "chocolate-bar-ratings.zip: Skipping, found more recently modified local copy (use --force to force download)\n"
          ],
          "name": "stdout"
        }
      ]
    },
    {
      "cell_type": "code",
      "metadata": {
        "id": "lPoPJQ06a-0w",
        "colab": {
          "base_uri": "https://localhost:8080/"
        },
        "outputId": "91894100-815c-4d42-a178-1cafab6d04b1"
      },
      "source": [
        "!unzip -q chocolate-bar-ratings.zip -d [datasets]"
      ],
      "execution_count": null,
      "outputs": [
        {
          "output_type": "stream",
          "text": [
            "replace [datasets]/flavors_of_cacao.csv? [y]es, [n]o, [A]ll, [N]one, [r]ename: y\n"
          ],
          "name": "stdout"
        }
      ]
    },
    {
      "cell_type": "markdown",
      "metadata": {
        "id": "bYRAMt4vz_Nl"
      },
      "source": [
        "#Preprocessing"
      ]
    },
    {
      "cell_type": "code",
      "metadata": {
        "id": "dqqUSfiJQ-oQ"
      },
      "source": [
        "choco = pd.read_csv('/content/gdrive/MyDrive/WiT_workshops/[datasets]/flavors_of_cacao.csv', encoding='utf-8')"
      ],
      "execution_count": 4,
      "outputs": []
    },
    {
      "cell_type": "code",
      "metadata": {
        "colab": {
          "base_uri": "https://localhost:8080/",
          "height": 204
        },
        "id": "TbBBIK7u8wS4",
        "outputId": "ac4c6ad3-8e4e-47df-ed8b-011275e6b9d5"
      },
      "source": [
        "choco.head()"
      ],
      "execution_count": 5,
      "outputs": [
        {
          "output_type": "execute_result",
          "data": {
            "text/html": [
              "<div>\n",
              "<style scoped>\n",
              "    .dataframe tbody tr th:only-of-type {\n",
              "        vertical-align: middle;\n",
              "    }\n",
              "\n",
              "    .dataframe tbody tr th {\n",
              "        vertical-align: top;\n",
              "    }\n",
              "\n",
              "    .dataframe thead th {\n",
              "        text-align: right;\n",
              "    }\n",
              "</style>\n",
              "<table border=\"1\" class=\"dataframe\">\n",
              "  <thead>\n",
              "    <tr style=\"text-align: right;\">\n",
              "      <th></th>\n",
              "      <th>Company \\n(Maker-if known)</th>\n",
              "      <th>Specific Bean Origin\\nor Bar Name</th>\n",
              "      <th>REF</th>\n",
              "      <th>Review\\nDate</th>\n",
              "      <th>Cocoa\\nPercent</th>\n",
              "      <th>Company\\nLocation</th>\n",
              "      <th>Rating</th>\n",
              "      <th>Bean\\nType</th>\n",
              "      <th>Broad Bean\\nOrigin</th>\n",
              "    </tr>\n",
              "  </thead>\n",
              "  <tbody>\n",
              "    <tr>\n",
              "      <th>0</th>\n",
              "      <td>A. Morin</td>\n",
              "      <td>Agua Grande</td>\n",
              "      <td>1876</td>\n",
              "      <td>2016</td>\n",
              "      <td>63%</td>\n",
              "      <td>France</td>\n",
              "      <td>3.75</td>\n",
              "      <td></td>\n",
              "      <td>Sao Tome</td>\n",
              "    </tr>\n",
              "    <tr>\n",
              "      <th>1</th>\n",
              "      <td>A. Morin</td>\n",
              "      <td>Kpime</td>\n",
              "      <td>1676</td>\n",
              "      <td>2015</td>\n",
              "      <td>70%</td>\n",
              "      <td>France</td>\n",
              "      <td>2.75</td>\n",
              "      <td></td>\n",
              "      <td>Togo</td>\n",
              "    </tr>\n",
              "    <tr>\n",
              "      <th>2</th>\n",
              "      <td>A. Morin</td>\n",
              "      <td>Atsane</td>\n",
              "      <td>1676</td>\n",
              "      <td>2015</td>\n",
              "      <td>70%</td>\n",
              "      <td>France</td>\n",
              "      <td>3.00</td>\n",
              "      <td></td>\n",
              "      <td>Togo</td>\n",
              "    </tr>\n",
              "    <tr>\n",
              "      <th>3</th>\n",
              "      <td>A. Morin</td>\n",
              "      <td>Akata</td>\n",
              "      <td>1680</td>\n",
              "      <td>2015</td>\n",
              "      <td>70%</td>\n",
              "      <td>France</td>\n",
              "      <td>3.50</td>\n",
              "      <td></td>\n",
              "      <td>Togo</td>\n",
              "    </tr>\n",
              "    <tr>\n",
              "      <th>4</th>\n",
              "      <td>A. Morin</td>\n",
              "      <td>Quilla</td>\n",
              "      <td>1704</td>\n",
              "      <td>2015</td>\n",
              "      <td>70%</td>\n",
              "      <td>France</td>\n",
              "      <td>3.50</td>\n",
              "      <td></td>\n",
              "      <td>Peru</td>\n",
              "    </tr>\n",
              "  </tbody>\n",
              "</table>\n",
              "</div>"
            ],
            "text/plain": [
              "  Company \\n(Maker-if known)  ... Broad Bean\\nOrigin\n",
              "0                   A. Morin  ...           Sao Tome\n",
              "1                   A. Morin  ...               Togo\n",
              "2                   A. Morin  ...               Togo\n",
              "3                   A. Morin  ...               Togo\n",
              "4                   A. Morin  ...               Peru\n",
              "\n",
              "[5 rows x 9 columns]"
            ]
          },
          "metadata": {
            "tags": []
          },
          "execution_count": 5
        }
      ]
    },
    {
      "cell_type": "code",
      "metadata": {
        "colab": {
          "base_uri": "https://localhost:8080/"
        },
        "id": "UTZQL8DEs6HM",
        "outputId": "14dc0c0a-11c3-48d9-84cd-863ba733d832"
      },
      "source": [
        "choco.columns"
      ],
      "execution_count": 6,
      "outputs": [
        {
          "output_type": "execute_result",
          "data": {
            "text/plain": [
              "Index(['Company \\n(Maker-if known)', 'Specific Bean Origin\\nor Bar Name',\n",
              "       'REF', 'Review\\nDate', 'Cocoa\\nPercent', 'Company\\nLocation', 'Rating',\n",
              "       'Bean\\nType', 'Broad Bean\\nOrigin'],\n",
              "      dtype='object')"
            ]
          },
          "metadata": {
            "tags": []
          },
          "execution_count": 6
        }
      ]
    },
    {
      "cell_type": "code",
      "metadata": {
        "colab": {
          "base_uri": "https://localhost:8080/"
        },
        "id": "kzGy0n_9nj7B",
        "outputId": "cbf338ba-97db-4f5b-ddd9-8df2fb64eb18"
      },
      "source": [
        "#remove \\n -new line sing from columns name\n",
        "choco.columns = [column.replace('\\n', '') for column in choco.columns.values]\n",
        "choco.columns"
      ],
      "execution_count": 7,
      "outputs": [
        {
          "output_type": "execute_result",
          "data": {
            "text/plain": [
              "Index(['Company (Maker-if known)', 'Specific Bean Originor Bar Name', 'REF',\n",
              "       'ReviewDate', 'CocoaPercent', 'CompanyLocation', 'Rating', 'BeanType',\n",
              "       'Broad BeanOrigin'],\n",
              "      dtype='object')"
            ]
          },
          "metadata": {
            "tags": []
          },
          "execution_count": 7
        }
      ]
    },
    {
      "cell_type": "code",
      "metadata": {
        "id": "Wo3DO-DPoAZg"
      },
      "source": [
        "#change columns name\n",
        "choco.columns = ['Company', 'Name', 'ReviewDataReference',\n",
        "       'ReviewDate', 'CocoaPercent', 'Country', 'Rating', 'BeanType',\n",
        "       'BroadBeanOrigin']"
      ],
      "execution_count": 8,
      "outputs": []
    },
    {
      "cell_type": "code",
      "metadata": {
        "colab": {
          "base_uri": "https://localhost:8080/"
        },
        "id": "sBhM0L5foUp0",
        "outputId": "8f62540a-5d9b-4e79-ffde-abfee0587a79"
      },
      "source": [
        "choco.columns"
      ],
      "execution_count": 9,
      "outputs": [
        {
          "output_type": "execute_result",
          "data": {
            "text/plain": [
              "Index(['Company', 'Name', 'ReviewDataReference', 'ReviewDate', 'CocoaPercent',\n",
              "       'Country', 'Rating', 'BeanType', 'BroadBeanOrigin'],\n",
              "      dtype='object')"
            ]
          },
          "metadata": {
            "tags": []
          },
          "execution_count": 9
        }
      ]
    },
    {
      "cell_type": "code",
      "metadata": {
        "id": "iplh6x3kAOrJ"
      },
      "source": [
        "#remvoe % from CocoaPercent column\n",
        "choco['CocoaPercent'] = choco['CocoaPercent'].apply(lambda x: float(x.replace('%', ''))/100)"
      ],
      "execution_count": 10,
      "outputs": []
    },
    {
      "cell_type": "code",
      "metadata": {
        "colab": {
          "base_uri": "https://localhost:8080/"
        },
        "id": "1OuS_xIVA8hK",
        "outputId": "d9561d43-5527-441c-dc15-4ac4841d1cee"
      },
      "source": [
        "choco['CocoaPercent']"
      ],
      "execution_count": 11,
      "outputs": [
        {
          "output_type": "execute_result",
          "data": {
            "text/plain": [
              "0       0.63\n",
              "1       0.70\n",
              "2       0.70\n",
              "3       0.70\n",
              "4       0.70\n",
              "        ... \n",
              "1790    0.70\n",
              "1791    0.65\n",
              "1792    0.65\n",
              "1793    0.62\n",
              "1794    0.65\n",
              "Name: CocoaPercent, Length: 1795, dtype: float64"
            ]
          },
          "metadata": {
            "tags": []
          },
          "execution_count": 11
        }
      ]
    },
    {
      "cell_type": "code",
      "metadata": {
        "colab": {
          "base_uri": "https://localhost:8080/"
        },
        "id": "ns703VCZq5Rr",
        "outputId": "747f9408-befd-49c4-fe87-10630e5545b8"
      },
      "source": [
        " #check isnull\n",
        "choco.isnull().sum()"
      ],
      "execution_count": 12,
      "outputs": [
        {
          "output_type": "execute_result",
          "data": {
            "text/plain": [
              "Company                0\n",
              "Name                   0\n",
              "ReviewDataReference    0\n",
              "ReviewDate             0\n",
              "CocoaPercent           0\n",
              "Country                0\n",
              "Rating                 0\n",
              "BeanType               1\n",
              "BroadBeanOrigin        1\n",
              "dtype: int64"
            ]
          },
          "metadata": {
            "tags": []
          },
          "execution_count": 12
        }
      ]
    },
    {
      "cell_type": "code",
      "metadata": {
        "id": "hvxeozG3q2ez"
      },
      "source": [
        "#remove empty rows \n",
        "choco.dropna(inplace=True)"
      ],
      "execution_count": 13,
      "outputs": []
    },
    {
      "cell_type": "code",
      "metadata": {
        "colab": {
          "base_uri": "https://localhost:8080/"
        },
        "id": "Gh5olzl1rFC0",
        "outputId": "c20abfed-190a-4c56-893e-1e8e6791e447"
      },
      "source": [
        "choco.isnull().sum()"
      ],
      "execution_count": 14,
      "outputs": [
        {
          "output_type": "execute_result",
          "data": {
            "text/plain": [
              "Company                0\n",
              "Name                   0\n",
              "ReviewDataReference    0\n",
              "ReviewDate             0\n",
              "CocoaPercent           0\n",
              "Country                0\n",
              "Rating                 0\n",
              "BeanType               0\n",
              "BroadBeanOrigin        0\n",
              "dtype: int64"
            ]
          },
          "metadata": {
            "tags": []
          },
          "execution_count": 14
        }
      ]
    },
    {
      "cell_type": "code",
      "metadata": {
        "colab": {
          "base_uri": "https://localhost:8080/",
          "height": 35
        },
        "id": "_KqJEPyGr5dj",
        "outputId": "4bf50b45-1686-4b05-c9fa-5f5100f1b3a7"
      },
      "source": [
        "#there are space sing in column 'BeanType'\n",
        "choco.loc[1427]['BeanType']"
      ],
      "execution_count": 15,
      "outputs": [
        {
          "output_type": "execute_result",
          "data": {
            "application/vnd.google.colaboratory.intrinsic+json": {
              "type": "string"
            },
            "text/plain": [
              "'\\xa0'"
            ]
          },
          "metadata": {
            "tags": []
          },
          "execution_count": 15
        }
      ]
    },
    {
      "cell_type": "code",
      "metadata": {
        "id": "Ni4iASVatR-N"
      },
      "source": [
        "remove_space = lambda x: x.replace(u'\\xa0', u'')\n",
        "choco['BeanType'] = choco['BeanType'].apply(remove_space)"
      ],
      "execution_count": 16,
      "outputs": []
    },
    {
      "cell_type": "code",
      "metadata": {
        "colab": {
          "base_uri": "https://localhost:8080/",
          "height": 35
        },
        "id": "75I5J9AIte91",
        "outputId": "bbc10887-3caa-418a-ad90-9ce1a666c0bc"
      },
      "source": [
        "choco.loc[1427]['BeanType']"
      ],
      "execution_count": 17,
      "outputs": [
        {
          "output_type": "execute_result",
          "data": {
            "application/vnd.google.colaboratory.intrinsic+json": {
              "type": "string"
            },
            "text/plain": [
              "''"
            ]
          },
          "metadata": {
            "tags": []
          },
          "execution_count": 17
        }
      ]
    },
    {
      "cell_type": "code",
      "metadata": {
        "colab": {
          "base_uri": "https://localhost:8080/"
        },
        "id": "1W9CJP1bzpII",
        "outputId": "6c58ab1a-8ad8-4c6e-e789-808628c0d29b"
      },
      "source": [
        "choco.isnull().sum()"
      ],
      "execution_count": 18,
      "outputs": [
        {
          "output_type": "execute_result",
          "data": {
            "text/plain": [
              "Company                0\n",
              "Name                   0\n",
              "ReviewDataReference    0\n",
              "ReviewDate             0\n",
              "CocoaPercent           0\n",
              "Country                0\n",
              "Rating                 0\n",
              "BeanType               0\n",
              "BroadBeanOrigin        0\n",
              "dtype: int64"
            ]
          },
          "metadata": {
            "tags": []
          },
          "execution_count": 18
        }
      ]
    },
    {
      "cell_type": "code",
      "metadata": {
        "colab": {
          "base_uri": "https://localhost:8080/"
        },
        "id": "VF1NIBC40iy7",
        "outputId": "bc440ef0-64d5-481e-91cb-b383f27159fa"
      },
      "source": [
        "choco.isna().sum()"
      ],
      "execution_count": 19,
      "outputs": [
        {
          "output_type": "execute_result",
          "data": {
            "text/plain": [
              "Company                0\n",
              "Name                   0\n",
              "ReviewDataReference    0\n",
              "ReviewDate             0\n",
              "CocoaPercent           0\n",
              "Country                0\n",
              "Rating                 0\n",
              "BeanType               0\n",
              "BroadBeanOrigin        0\n",
              "dtype: int64"
            ]
          },
          "metadata": {
            "tags": []
          },
          "execution_count": 19
        }
      ]
    },
    {
      "cell_type": "code",
      "metadata": {
        "colab": {
          "base_uri": "https://localhost:8080/"
        },
        "id": "Ze6q5uCi0ZqL",
        "outputId": "07aeea83-ce18-4490-bfa7-9e361c49f898"
      },
      "source": [
        "choco['BeanType']"
      ],
      "execution_count": 20,
      "outputs": [
        {
          "output_type": "execute_result",
          "data": {
            "text/plain": [
              "0                \n",
              "1                \n",
              "2                \n",
              "3                \n",
              "4                \n",
              "          ...    \n",
              "1790             \n",
              "1791    Forastero\n",
              "1792    Forastero\n",
              "1793             \n",
              "1794             \n",
              "Name: BeanType, Length: 1793, dtype: object"
            ]
          },
          "metadata": {
            "tags": []
          },
          "execution_count": 20
        }
      ]
    },
    {
      "cell_type": "markdown",
      "metadata": {
        "id": "t5RHTaUHCDSm"
      },
      "source": [
        "##Dataset profie"
      ]
    },
    {
      "cell_type": "code",
      "metadata": {
        "colab": {
          "base_uri": "https://localhost:8080/"
        },
        "id": "x8fZlClzsYz5",
        "outputId": "e1208206-f913-4109-ed46-0eaf6a05b4e1"
      },
      "source": [
        "choco.shape"
      ],
      "execution_count": 22,
      "outputs": [
        {
          "output_type": "execute_result",
          "data": {
            "text/plain": [
              "(1793, 9)"
            ]
          },
          "metadata": {
            "tags": []
          },
          "execution_count": 22
        }
      ]
    },
    {
      "cell_type": "code",
      "metadata": {
        "colab": {
          "base_uri": "https://localhost:8080/"
        },
        "id": "vA7tpWidsmNQ",
        "outputId": "2417c695-7d4a-4d81-c54a-9beb63564268"
      },
      "source": [
        "choco.dtypes"
      ],
      "execution_count": 23,
      "outputs": [
        {
          "output_type": "execute_result",
          "data": {
            "text/plain": [
              "Company                 object\n",
              "Name                    object\n",
              "ReviewDataReference      int64\n",
              "ReviewDate               int64\n",
              "CocoaPercent           float64\n",
              "Country                 object\n",
              "Rating                 float64\n",
              "BeanType                object\n",
              "BroadBeanOrigin         object\n",
              "dtype: object"
            ]
          },
          "metadata": {
            "tags": []
          },
          "execution_count": 23
        }
      ]
    },
    {
      "cell_type": "code",
      "metadata": {
        "colab": {
          "base_uri": "https://localhost:8080/",
          "height": 297
        },
        "id": "dP43fDAdsde9",
        "outputId": "6e2b41f9-66eb-48af-a841-94b124b2fe4e"
      },
      "source": [
        "choco.describe()"
      ],
      "execution_count": 24,
      "outputs": [
        {
          "output_type": "execute_result",
          "data": {
            "text/html": [
              "<div>\n",
              "<style scoped>\n",
              "    .dataframe tbody tr th:only-of-type {\n",
              "        vertical-align: middle;\n",
              "    }\n",
              "\n",
              "    .dataframe tbody tr th {\n",
              "        vertical-align: top;\n",
              "    }\n",
              "\n",
              "    .dataframe thead th {\n",
              "        text-align: right;\n",
              "    }\n",
              "</style>\n",
              "<table border=\"1\" class=\"dataframe\">\n",
              "  <thead>\n",
              "    <tr style=\"text-align: right;\">\n",
              "      <th></th>\n",
              "      <th>ReviewDataReference</th>\n",
              "      <th>ReviewDate</th>\n",
              "      <th>CocoaPercent</th>\n",
              "      <th>Rating</th>\n",
              "    </tr>\n",
              "  </thead>\n",
              "  <tbody>\n",
              "    <tr>\n",
              "      <th>count</th>\n",
              "      <td>1793.000000</td>\n",
              "      <td>1793.000000</td>\n",
              "      <td>1793.000000</td>\n",
              "      <td>1793.000000</td>\n",
              "    </tr>\n",
              "    <tr>\n",
              "      <th>mean</th>\n",
              "      <td>1036.126046</td>\n",
              "      <td>2012.326269</td>\n",
              "      <td>0.716991</td>\n",
              "      <td>3.185862</td>\n",
              "    </tr>\n",
              "    <tr>\n",
              "      <th>std</th>\n",
              "      <td>553.128742</td>\n",
              "      <td>2.928666</td>\n",
              "      <td>0.063265</td>\n",
              "      <td>0.477668</td>\n",
              "    </tr>\n",
              "    <tr>\n",
              "      <th>min</th>\n",
              "      <td>5.000000</td>\n",
              "      <td>2006.000000</td>\n",
              "      <td>0.420000</td>\n",
              "      <td>1.000000</td>\n",
              "    </tr>\n",
              "    <tr>\n",
              "      <th>25%</th>\n",
              "      <td>576.000000</td>\n",
              "      <td>2010.000000</td>\n",
              "      <td>0.700000</td>\n",
              "      <td>3.000000</td>\n",
              "    </tr>\n",
              "    <tr>\n",
              "      <th>50%</th>\n",
              "      <td>1073.000000</td>\n",
              "      <td>2013.000000</td>\n",
              "      <td>0.700000</td>\n",
              "      <td>3.250000</td>\n",
              "    </tr>\n",
              "    <tr>\n",
              "      <th>75%</th>\n",
              "      <td>1502.000000</td>\n",
              "      <td>2015.000000</td>\n",
              "      <td>0.750000</td>\n",
              "      <td>3.500000</td>\n",
              "    </tr>\n",
              "    <tr>\n",
              "      <th>max</th>\n",
              "      <td>1952.000000</td>\n",
              "      <td>2017.000000</td>\n",
              "      <td>1.000000</td>\n",
              "      <td>5.000000</td>\n",
              "    </tr>\n",
              "  </tbody>\n",
              "</table>\n",
              "</div>"
            ],
            "text/plain": [
              "       ReviewDataReference   ReviewDate  CocoaPercent       Rating\n",
              "count          1793.000000  1793.000000   1793.000000  1793.000000\n",
              "mean           1036.126046  2012.326269      0.716991     3.185862\n",
              "std             553.128742     2.928666      0.063265     0.477668\n",
              "min               5.000000  2006.000000      0.420000     1.000000\n",
              "25%             576.000000  2010.000000      0.700000     3.000000\n",
              "50%            1073.000000  2013.000000      0.700000     3.250000\n",
              "75%            1502.000000  2015.000000      0.750000     3.500000\n",
              "max            1952.000000  2017.000000      1.000000     5.000000"
            ]
          },
          "metadata": {
            "tags": []
          },
          "execution_count": 24
        }
      ]
    },
    {
      "cell_type": "code",
      "metadata": {
        "colab": {
          "base_uri": "https://localhost:8080/"
        },
        "id": "3yiyZ9N7syXT",
        "outputId": "a323c77a-e9df-497a-8a53-aba56272b29e"
      },
      "source": [
        "choco.info()"
      ],
      "execution_count": 25,
      "outputs": [
        {
          "output_type": "stream",
          "text": [
            "<class 'pandas.core.frame.DataFrame'>\n",
            "Int64Index: 1793 entries, 0 to 1794\n",
            "Data columns (total 9 columns):\n",
            " #   Column               Non-Null Count  Dtype  \n",
            "---  ------               --------------  -----  \n",
            " 0   Company              1793 non-null   object \n",
            " 1   Name                 1793 non-null   object \n",
            " 2   ReviewDataReference  1793 non-null   int64  \n",
            " 3   ReviewDate           1793 non-null   int64  \n",
            " 4   CocoaPercent         1793 non-null   float64\n",
            " 5   Country              1793 non-null   object \n",
            " 6   Rating               1793 non-null   float64\n",
            " 7   BeanType             1793 non-null   object \n",
            " 8   BroadBeanOrigin      1793 non-null   object \n",
            "dtypes: float64(2), int64(2), object(5)\n",
            "memory usage: 220.1+ KB\n"
          ],
          "name": "stdout"
        }
      ]
    },
    {
      "cell_type": "code",
      "metadata": {
        "colab": {
          "base_uri": "https://localhost:8080/",
          "height": 359
        },
        "id": "djITudNmrc-U",
        "outputId": "543847a7-4ad4-490c-c7bb-14a1fe9eb4ca"
      },
      "source": [
        "#sorting data\n",
        "choco.sort_values(['Rating', 'CocoaPercent'], ascending=False).head(10)"
      ],
      "execution_count": 26,
      "outputs": [
        {
          "output_type": "execute_result",
          "data": {
            "text/html": [
              "<div>\n",
              "<style scoped>\n",
              "    .dataframe tbody tr th:only-of-type {\n",
              "        vertical-align: middle;\n",
              "    }\n",
              "\n",
              "    .dataframe tbody tr th {\n",
              "        vertical-align: top;\n",
              "    }\n",
              "\n",
              "    .dataframe thead th {\n",
              "        text-align: right;\n",
              "    }\n",
              "</style>\n",
              "<table border=\"1\" class=\"dataframe\">\n",
              "  <thead>\n",
              "    <tr style=\"text-align: right;\">\n",
              "      <th></th>\n",
              "      <th>Company</th>\n",
              "      <th>Name</th>\n",
              "      <th>ReviewDataReference</th>\n",
              "      <th>ReviewDate</th>\n",
              "      <th>CocoaPercent</th>\n",
              "      <th>Country</th>\n",
              "      <th>Rating</th>\n",
              "      <th>BeanType</th>\n",
              "      <th>BroadBeanOrigin</th>\n",
              "    </tr>\n",
              "  </thead>\n",
              "  <tbody>\n",
              "    <tr>\n",
              "      <th>78</th>\n",
              "      <td>Amedei</td>\n",
              "      <td>Chuao</td>\n",
              "      <td>111</td>\n",
              "      <td>2007</td>\n",
              "      <td>0.70</td>\n",
              "      <td>Italy</td>\n",
              "      <td>5.0</td>\n",
              "      <td>Trinitario</td>\n",
              "      <td>Venezuela</td>\n",
              "    </tr>\n",
              "    <tr>\n",
              "      <th>86</th>\n",
              "      <td>Amedei</td>\n",
              "      <td>Toscano Black</td>\n",
              "      <td>40</td>\n",
              "      <td>2006</td>\n",
              "      <td>0.70</td>\n",
              "      <td>Italy</td>\n",
              "      <td>5.0</td>\n",
              "      <td>Blend</td>\n",
              "      <td></td>\n",
              "    </tr>\n",
              "    <tr>\n",
              "      <th>1528</th>\n",
              "      <td>Soma</td>\n",
              "      <td>Crazy 88</td>\n",
              "      <td>1077</td>\n",
              "      <td>2013</td>\n",
              "      <td>0.88</td>\n",
              "      <td>Canada</td>\n",
              "      <td>4.0</td>\n",
              "      <td></td>\n",
              "      <td>Guat., D.R., Peru, Mad., PNG</td>\n",
              "    </tr>\n",
              "    <tr>\n",
              "      <th>1335</th>\n",
              "      <td>Pralus</td>\n",
              "      <td>Fortissima</td>\n",
              "      <td>93</td>\n",
              "      <td>2006</td>\n",
              "      <td>0.80</td>\n",
              "      <td>France</td>\n",
              "      <td>4.0</td>\n",
              "      <td>Criollo, Trinitario</td>\n",
              "      <td>Ecuador</td>\n",
              "    </tr>\n",
              "    <tr>\n",
              "      <th>1427</th>\n",
              "      <td>Scharffen Berger</td>\n",
              "      <td>San Juan de Cheni</td>\n",
              "      <td>959</td>\n",
              "      <td>2012</td>\n",
              "      <td>0.78</td>\n",
              "      <td>U.S.A.</td>\n",
              "      <td>4.0</td>\n",
              "      <td></td>\n",
              "      <td>Peru</td>\n",
              "    </tr>\n",
              "    <tr>\n",
              "      <th>77</th>\n",
              "      <td>Amedei</td>\n",
              "      <td>Nine</td>\n",
              "      <td>111</td>\n",
              "      <td>2007</td>\n",
              "      <td>0.75</td>\n",
              "      <td>Italy</td>\n",
              "      <td>4.0</td>\n",
              "      <td>Blend</td>\n",
              "      <td></td>\n",
              "    </tr>\n",
              "    <tr>\n",
              "      <th>222</th>\n",
              "      <td>Bonnat</td>\n",
              "      <td>Kaori</td>\n",
              "      <td>1339</td>\n",
              "      <td>2014</td>\n",
              "      <td>0.75</td>\n",
              "      <td>France</td>\n",
              "      <td>4.0</td>\n",
              "      <td></td>\n",
              "      <td>Brazil</td>\n",
              "    </tr>\n",
              "    <tr>\n",
              "      <th>231</th>\n",
              "      <td>Bonnat</td>\n",
              "      <td>Haiti</td>\n",
              "      <td>629</td>\n",
              "      <td>2011</td>\n",
              "      <td>0.75</td>\n",
              "      <td>France</td>\n",
              "      <td>4.0</td>\n",
              "      <td></td>\n",
              "      <td>Haiti</td>\n",
              "    </tr>\n",
              "    <tr>\n",
              "      <th>232</th>\n",
              "      <td>Bonnat</td>\n",
              "      <td>Madagascar, 100% criollo</td>\n",
              "      <td>629</td>\n",
              "      <td>2011</td>\n",
              "      <td>0.75</td>\n",
              "      <td>France</td>\n",
              "      <td>4.0</td>\n",
              "      <td>Criollo</td>\n",
              "      <td>Madagascar</td>\n",
              "    </tr>\n",
              "    <tr>\n",
              "      <th>239</th>\n",
              "      <td>Bonnat</td>\n",
              "      <td>Porcelana, Venezuela</td>\n",
              "      <td>199</td>\n",
              "      <td>2008</td>\n",
              "      <td>0.75</td>\n",
              "      <td>France</td>\n",
              "      <td>4.0</td>\n",
              "      <td>Criollo (Porcelana)</td>\n",
              "      <td>Venezuela</td>\n",
              "    </tr>\n",
              "  </tbody>\n",
              "</table>\n",
              "</div>"
            ],
            "text/plain": [
              "               Company  ...               BroadBeanOrigin\n",
              "78              Amedei  ...                     Venezuela\n",
              "86              Amedei  ...                              \n",
              "1528              Soma  ...  Guat., D.R., Peru, Mad., PNG\n",
              "1335            Pralus  ...                       Ecuador\n",
              "1427  Scharffen Berger  ...                          Peru\n",
              "77              Amedei  ...                              \n",
              "222             Bonnat  ...                        Brazil\n",
              "231             Bonnat  ...                         Haiti\n",
              "232             Bonnat  ...                    Madagascar\n",
              "239             Bonnat  ...                     Venezuela\n",
              "\n",
              "[10 rows x 9 columns]"
            ]
          },
          "metadata": {
            "tags": []
          },
          "execution_count": 26
        }
      ]
    },
    {
      "cell_type": "code",
      "metadata": {
        "colab": {
          "base_uri": "https://localhost:8080/",
          "height": 359
        },
        "id": "7JUfQH8XNYE1",
        "outputId": "d0d3fdc9-693a-496a-a5ce-a0cc1db35ee0"
      },
      "source": [
        "choco[choco['CocoaPercent']>=0.7].head(10)"
      ],
      "execution_count": 27,
      "outputs": [
        {
          "output_type": "execute_result",
          "data": {
            "text/html": [
              "<div>\n",
              "<style scoped>\n",
              "    .dataframe tbody tr th:only-of-type {\n",
              "        vertical-align: middle;\n",
              "    }\n",
              "\n",
              "    .dataframe tbody tr th {\n",
              "        vertical-align: top;\n",
              "    }\n",
              "\n",
              "    .dataframe thead th {\n",
              "        text-align: right;\n",
              "    }\n",
              "</style>\n",
              "<table border=\"1\" class=\"dataframe\">\n",
              "  <thead>\n",
              "    <tr style=\"text-align: right;\">\n",
              "      <th></th>\n",
              "      <th>Company</th>\n",
              "      <th>Name</th>\n",
              "      <th>ReviewDataReference</th>\n",
              "      <th>ReviewDate</th>\n",
              "      <th>CocoaPercent</th>\n",
              "      <th>Country</th>\n",
              "      <th>Rating</th>\n",
              "      <th>BeanType</th>\n",
              "      <th>BroadBeanOrigin</th>\n",
              "    </tr>\n",
              "  </thead>\n",
              "  <tbody>\n",
              "    <tr>\n",
              "      <th>1</th>\n",
              "      <td>A. Morin</td>\n",
              "      <td>Kpime</td>\n",
              "      <td>1676</td>\n",
              "      <td>2015</td>\n",
              "      <td>0.7</td>\n",
              "      <td>France</td>\n",
              "      <td>2.75</td>\n",
              "      <td></td>\n",
              "      <td>Togo</td>\n",
              "    </tr>\n",
              "    <tr>\n",
              "      <th>2</th>\n",
              "      <td>A. Morin</td>\n",
              "      <td>Atsane</td>\n",
              "      <td>1676</td>\n",
              "      <td>2015</td>\n",
              "      <td>0.7</td>\n",
              "      <td>France</td>\n",
              "      <td>3.00</td>\n",
              "      <td></td>\n",
              "      <td>Togo</td>\n",
              "    </tr>\n",
              "    <tr>\n",
              "      <th>3</th>\n",
              "      <td>A. Morin</td>\n",
              "      <td>Akata</td>\n",
              "      <td>1680</td>\n",
              "      <td>2015</td>\n",
              "      <td>0.7</td>\n",
              "      <td>France</td>\n",
              "      <td>3.50</td>\n",
              "      <td></td>\n",
              "      <td>Togo</td>\n",
              "    </tr>\n",
              "    <tr>\n",
              "      <th>4</th>\n",
              "      <td>A. Morin</td>\n",
              "      <td>Quilla</td>\n",
              "      <td>1704</td>\n",
              "      <td>2015</td>\n",
              "      <td>0.7</td>\n",
              "      <td>France</td>\n",
              "      <td>3.50</td>\n",
              "      <td></td>\n",
              "      <td>Peru</td>\n",
              "    </tr>\n",
              "    <tr>\n",
              "      <th>5</th>\n",
              "      <td>A. Morin</td>\n",
              "      <td>Carenero</td>\n",
              "      <td>1315</td>\n",
              "      <td>2014</td>\n",
              "      <td>0.7</td>\n",
              "      <td>France</td>\n",
              "      <td>2.75</td>\n",
              "      <td>Criollo</td>\n",
              "      <td>Venezuela</td>\n",
              "    </tr>\n",
              "    <tr>\n",
              "      <th>6</th>\n",
              "      <td>A. Morin</td>\n",
              "      <td>Cuba</td>\n",
              "      <td>1315</td>\n",
              "      <td>2014</td>\n",
              "      <td>0.7</td>\n",
              "      <td>France</td>\n",
              "      <td>3.50</td>\n",
              "      <td></td>\n",
              "      <td>Cuba</td>\n",
              "    </tr>\n",
              "    <tr>\n",
              "      <th>7</th>\n",
              "      <td>A. Morin</td>\n",
              "      <td>Sur del Lago</td>\n",
              "      <td>1315</td>\n",
              "      <td>2014</td>\n",
              "      <td>0.7</td>\n",
              "      <td>France</td>\n",
              "      <td>3.50</td>\n",
              "      <td>Criollo</td>\n",
              "      <td>Venezuela</td>\n",
              "    </tr>\n",
              "    <tr>\n",
              "      <th>8</th>\n",
              "      <td>A. Morin</td>\n",
              "      <td>Puerto Cabello</td>\n",
              "      <td>1319</td>\n",
              "      <td>2014</td>\n",
              "      <td>0.7</td>\n",
              "      <td>France</td>\n",
              "      <td>3.75</td>\n",
              "      <td>Criollo</td>\n",
              "      <td>Venezuela</td>\n",
              "    </tr>\n",
              "    <tr>\n",
              "      <th>9</th>\n",
              "      <td>A. Morin</td>\n",
              "      <td>Pablino</td>\n",
              "      <td>1319</td>\n",
              "      <td>2014</td>\n",
              "      <td>0.7</td>\n",
              "      <td>France</td>\n",
              "      <td>4.00</td>\n",
              "      <td></td>\n",
              "      <td>Peru</td>\n",
              "    </tr>\n",
              "    <tr>\n",
              "      <th>10</th>\n",
              "      <td>A. Morin</td>\n",
              "      <td>Panama</td>\n",
              "      <td>1011</td>\n",
              "      <td>2013</td>\n",
              "      <td>0.7</td>\n",
              "      <td>France</td>\n",
              "      <td>2.75</td>\n",
              "      <td></td>\n",
              "      <td>Panama</td>\n",
              "    </tr>\n",
              "  </tbody>\n",
              "</table>\n",
              "</div>"
            ],
            "text/plain": [
              "     Company            Name  ...  BeanType  BroadBeanOrigin\n",
              "1   A. Morin           Kpime  ...                       Togo\n",
              "2   A. Morin          Atsane  ...                       Togo\n",
              "3   A. Morin           Akata  ...                       Togo\n",
              "4   A. Morin          Quilla  ...                       Peru\n",
              "5   A. Morin        Carenero  ...   Criollo        Venezuela\n",
              "6   A. Morin            Cuba  ...                       Cuba\n",
              "7   A. Morin    Sur del Lago  ...   Criollo        Venezuela\n",
              "8   A. Morin  Puerto Cabello  ...   Criollo        Venezuela\n",
              "9   A. Morin         Pablino  ...                       Peru\n",
              "10  A. Morin          Panama  ...                     Panama\n",
              "\n",
              "[10 rows x 9 columns]"
            ]
          },
          "metadata": {
            "tags": []
          },
          "execution_count": 27
        }
      ]
    },
    {
      "cell_type": "code",
      "metadata": {
        "colab": {
          "base_uri": "https://localhost:8080/",
          "height": 359
        },
        "id": "1e77c8_pNrRN",
        "outputId": "45fce9a1-2682-46e0-a29c-0e052a03a225"
      },
      "source": [
        "choco[choco['Rating']>=3.5].head(10)"
      ],
      "execution_count": 28,
      "outputs": [
        {
          "output_type": "execute_result",
          "data": {
            "text/html": [
              "<div>\n",
              "<style scoped>\n",
              "    .dataframe tbody tr th:only-of-type {\n",
              "        vertical-align: middle;\n",
              "    }\n",
              "\n",
              "    .dataframe tbody tr th {\n",
              "        vertical-align: top;\n",
              "    }\n",
              "\n",
              "    .dataframe thead th {\n",
              "        text-align: right;\n",
              "    }\n",
              "</style>\n",
              "<table border=\"1\" class=\"dataframe\">\n",
              "  <thead>\n",
              "    <tr style=\"text-align: right;\">\n",
              "      <th></th>\n",
              "      <th>Company</th>\n",
              "      <th>Name</th>\n",
              "      <th>ReviewDataReference</th>\n",
              "      <th>ReviewDate</th>\n",
              "      <th>CocoaPercent</th>\n",
              "      <th>Country</th>\n",
              "      <th>Rating</th>\n",
              "      <th>BeanType</th>\n",
              "      <th>BroadBeanOrigin</th>\n",
              "    </tr>\n",
              "  </thead>\n",
              "  <tbody>\n",
              "    <tr>\n",
              "      <th>0</th>\n",
              "      <td>A. Morin</td>\n",
              "      <td>Agua Grande</td>\n",
              "      <td>1876</td>\n",
              "      <td>2016</td>\n",
              "      <td>0.63</td>\n",
              "      <td>France</td>\n",
              "      <td>3.75</td>\n",
              "      <td></td>\n",
              "      <td>Sao Tome</td>\n",
              "    </tr>\n",
              "    <tr>\n",
              "      <th>3</th>\n",
              "      <td>A. Morin</td>\n",
              "      <td>Akata</td>\n",
              "      <td>1680</td>\n",
              "      <td>2015</td>\n",
              "      <td>0.70</td>\n",
              "      <td>France</td>\n",
              "      <td>3.50</td>\n",
              "      <td></td>\n",
              "      <td>Togo</td>\n",
              "    </tr>\n",
              "    <tr>\n",
              "      <th>4</th>\n",
              "      <td>A. Morin</td>\n",
              "      <td>Quilla</td>\n",
              "      <td>1704</td>\n",
              "      <td>2015</td>\n",
              "      <td>0.70</td>\n",
              "      <td>France</td>\n",
              "      <td>3.50</td>\n",
              "      <td></td>\n",
              "      <td>Peru</td>\n",
              "    </tr>\n",
              "    <tr>\n",
              "      <th>6</th>\n",
              "      <td>A. Morin</td>\n",
              "      <td>Cuba</td>\n",
              "      <td>1315</td>\n",
              "      <td>2014</td>\n",
              "      <td>0.70</td>\n",
              "      <td>France</td>\n",
              "      <td>3.50</td>\n",
              "      <td></td>\n",
              "      <td>Cuba</td>\n",
              "    </tr>\n",
              "    <tr>\n",
              "      <th>7</th>\n",
              "      <td>A. Morin</td>\n",
              "      <td>Sur del Lago</td>\n",
              "      <td>1315</td>\n",
              "      <td>2014</td>\n",
              "      <td>0.70</td>\n",
              "      <td>France</td>\n",
              "      <td>3.50</td>\n",
              "      <td>Criollo</td>\n",
              "      <td>Venezuela</td>\n",
              "    </tr>\n",
              "    <tr>\n",
              "      <th>8</th>\n",
              "      <td>A. Morin</td>\n",
              "      <td>Puerto Cabello</td>\n",
              "      <td>1319</td>\n",
              "      <td>2014</td>\n",
              "      <td>0.70</td>\n",
              "      <td>France</td>\n",
              "      <td>3.75</td>\n",
              "      <td>Criollo</td>\n",
              "      <td>Venezuela</td>\n",
              "    </tr>\n",
              "    <tr>\n",
              "      <th>9</th>\n",
              "      <td>A. Morin</td>\n",
              "      <td>Pablino</td>\n",
              "      <td>1319</td>\n",
              "      <td>2014</td>\n",
              "      <td>0.70</td>\n",
              "      <td>France</td>\n",
              "      <td>4.00</td>\n",
              "      <td></td>\n",
              "      <td>Peru</td>\n",
              "    </tr>\n",
              "    <tr>\n",
              "      <th>13</th>\n",
              "      <td>A. Morin</td>\n",
              "      <td>Equateur</td>\n",
              "      <td>1011</td>\n",
              "      <td>2013</td>\n",
              "      <td>0.70</td>\n",
              "      <td>France</td>\n",
              "      <td>3.75</td>\n",
              "      <td></td>\n",
              "      <td>Ecuador</td>\n",
              "    </tr>\n",
              "    <tr>\n",
              "      <th>17</th>\n",
              "      <td>A. Morin</td>\n",
              "      <td>Chuao</td>\n",
              "      <td>1015</td>\n",
              "      <td>2013</td>\n",
              "      <td>0.70</td>\n",
              "      <td>France</td>\n",
              "      <td>4.00</td>\n",
              "      <td>Trinitario</td>\n",
              "      <td>Venezuela</td>\n",
              "    </tr>\n",
              "    <tr>\n",
              "      <th>19</th>\n",
              "      <td>A. Morin</td>\n",
              "      <td>Chanchamayo Province</td>\n",
              "      <td>1019</td>\n",
              "      <td>2013</td>\n",
              "      <td>0.70</td>\n",
              "      <td>France</td>\n",
              "      <td>3.50</td>\n",
              "      <td></td>\n",
              "      <td>Peru</td>\n",
              "    </tr>\n",
              "  </tbody>\n",
              "</table>\n",
              "</div>"
            ],
            "text/plain": [
              "     Company                  Name  ...    BeanType  BroadBeanOrigin\n",
              "0   A. Morin           Agua Grande  ...                     Sao Tome\n",
              "3   A. Morin                 Akata  ...                         Togo\n",
              "4   A. Morin                Quilla  ...                         Peru\n",
              "6   A. Morin                  Cuba  ...                         Cuba\n",
              "7   A. Morin          Sur del Lago  ...     Criollo        Venezuela\n",
              "8   A. Morin        Puerto Cabello  ...     Criollo        Venezuela\n",
              "9   A. Morin               Pablino  ...                         Peru\n",
              "13  A. Morin              Equateur  ...                      Ecuador\n",
              "17  A. Morin                 Chuao  ...  Trinitario        Venezuela\n",
              "19  A. Morin  Chanchamayo Province  ...                         Peru\n",
              "\n",
              "[10 rows x 9 columns]"
            ]
          },
          "metadata": {
            "tags": []
          },
          "execution_count": 28
        }
      ]
    },
    {
      "cell_type": "code",
      "metadata": {
        "colab": {
          "base_uri": "https://localhost:8080/",
          "height": 390
        },
        "id": "EaydMrn4F2u3",
        "outputId": "102df88b-bc74-479f-bdc2-c79c476bcdc5"
      },
      "source": [
        "countries = choco.groupby('Country').agg({\n",
        "    'Rating': 'mean',\n",
        "    'Name': 'count'\n",
        "})\n",
        "countries.sort_values(by='Rating', ascending=False).head(10)"
      ],
      "execution_count": 30,
      "outputs": [
        {
          "output_type": "execute_result",
          "data": {
            "text/html": [
              "<div>\n",
              "<style scoped>\n",
              "    .dataframe tbody tr th:only-of-type {\n",
              "        vertical-align: middle;\n",
              "    }\n",
              "\n",
              "    .dataframe tbody tr th {\n",
              "        vertical-align: top;\n",
              "    }\n",
              "\n",
              "    .dataframe thead th {\n",
              "        text-align: right;\n",
              "    }\n",
              "</style>\n",
              "<table border=\"1\" class=\"dataframe\">\n",
              "  <thead>\n",
              "    <tr style=\"text-align: right;\">\n",
              "      <th></th>\n",
              "      <th>Rating</th>\n",
              "      <th>Name</th>\n",
              "    </tr>\n",
              "    <tr>\n",
              "      <th>Country</th>\n",
              "      <th></th>\n",
              "      <th></th>\n",
              "    </tr>\n",
              "  </thead>\n",
              "  <tbody>\n",
              "    <tr>\n",
              "      <th>Chile</th>\n",
              "      <td>3.750000</td>\n",
              "      <td>2</td>\n",
              "    </tr>\n",
              "    <tr>\n",
              "      <th>Amsterdam</th>\n",
              "      <td>3.500000</td>\n",
              "      <td>4</td>\n",
              "    </tr>\n",
              "    <tr>\n",
              "      <th>Netherlands</th>\n",
              "      <td>3.500000</td>\n",
              "      <td>4</td>\n",
              "    </tr>\n",
              "    <tr>\n",
              "      <th>Philippines</th>\n",
              "      <td>3.500000</td>\n",
              "      <td>1</td>\n",
              "    </tr>\n",
              "    <tr>\n",
              "      <th>Iceland</th>\n",
              "      <td>3.416667</td>\n",
              "      <td>3</td>\n",
              "    </tr>\n",
              "    <tr>\n",
              "      <th>Vietnam</th>\n",
              "      <td>3.409091</td>\n",
              "      <td>11</td>\n",
              "    </tr>\n",
              "    <tr>\n",
              "      <th>Brazil</th>\n",
              "      <td>3.397059</td>\n",
              "      <td>17</td>\n",
              "    </tr>\n",
              "    <tr>\n",
              "      <th>Poland</th>\n",
              "      <td>3.375000</td>\n",
              "      <td>8</td>\n",
              "    </tr>\n",
              "    <tr>\n",
              "      <th>Australia</th>\n",
              "      <td>3.357143</td>\n",
              "      <td>49</td>\n",
              "    </tr>\n",
              "    <tr>\n",
              "      <th>Guatemala</th>\n",
              "      <td>3.350000</td>\n",
              "      <td>10</td>\n",
              "    </tr>\n",
              "  </tbody>\n",
              "</table>\n",
              "</div>"
            ],
            "text/plain": [
              "               Rating  Name\n",
              "Country                    \n",
              "Chile        3.750000     2\n",
              "Amsterdam    3.500000     4\n",
              "Netherlands  3.500000     4\n",
              "Philippines  3.500000     1\n",
              "Iceland      3.416667     3\n",
              "Vietnam      3.409091    11\n",
              "Brazil       3.397059    17\n",
              "Poland       3.375000     8\n",
              "Australia    3.357143    49\n",
              "Guatemala    3.350000    10"
            ]
          },
          "metadata": {
            "tags": []
          },
          "execution_count": 30
        }
      ]
    },
    {
      "cell_type": "code",
      "metadata": {
        "colab": {
          "base_uri": "https://localhost:8080/",
          "height": 390
        },
        "id": "FQjqXHZmJdpd",
        "outputId": "e998c9f2-0c68-41a3-ff71-7c82fa63101f"
      },
      "source": [
        "countries_with_cocoapercent = choco.groupby('Country').agg({\n",
        "    'Rating': 'mean',\n",
        "    'CocoaPercent': 'mean'\n",
        "})\n",
        "countries_with_cocoapercent.sort_values(by='Rating', ascending=False).head(10)"
      ],
      "execution_count": 31,
      "outputs": [
        {
          "output_type": "execute_result",
          "data": {
            "text/html": [
              "<div>\n",
              "<style scoped>\n",
              "    .dataframe tbody tr th:only-of-type {\n",
              "        vertical-align: middle;\n",
              "    }\n",
              "\n",
              "    .dataframe tbody tr th {\n",
              "        vertical-align: top;\n",
              "    }\n",
              "\n",
              "    .dataframe thead th {\n",
              "        text-align: right;\n",
              "    }\n",
              "</style>\n",
              "<table border=\"1\" class=\"dataframe\">\n",
              "  <thead>\n",
              "    <tr style=\"text-align: right;\">\n",
              "      <th></th>\n",
              "      <th>Rating</th>\n",
              "      <th>CocoaPercent</th>\n",
              "    </tr>\n",
              "    <tr>\n",
              "      <th>Country</th>\n",
              "      <th></th>\n",
              "      <th></th>\n",
              "    </tr>\n",
              "  </thead>\n",
              "  <tbody>\n",
              "    <tr>\n",
              "      <th>Chile</th>\n",
              "      <td>3.750000</td>\n",
              "      <td>0.700000</td>\n",
              "    </tr>\n",
              "    <tr>\n",
              "      <th>Amsterdam</th>\n",
              "      <td>3.500000</td>\n",
              "      <td>0.732500</td>\n",
              "    </tr>\n",
              "    <tr>\n",
              "      <th>Netherlands</th>\n",
              "      <td>3.500000</td>\n",
              "      <td>0.700000</td>\n",
              "    </tr>\n",
              "    <tr>\n",
              "      <th>Philippines</th>\n",
              "      <td>3.500000</td>\n",
              "      <td>0.650000</td>\n",
              "    </tr>\n",
              "    <tr>\n",
              "      <th>Iceland</th>\n",
              "      <td>3.416667</td>\n",
              "      <td>0.686667</td>\n",
              "    </tr>\n",
              "    <tr>\n",
              "      <th>Vietnam</th>\n",
              "      <td>3.409091</td>\n",
              "      <td>0.745455</td>\n",
              "    </tr>\n",
              "    <tr>\n",
              "      <th>Brazil</th>\n",
              "      <td>3.397059</td>\n",
              "      <td>0.698235</td>\n",
              "    </tr>\n",
              "    <tr>\n",
              "      <th>Poland</th>\n",
              "      <td>3.375000</td>\n",
              "      <td>0.718750</td>\n",
              "    </tr>\n",
              "    <tr>\n",
              "      <th>Australia</th>\n",
              "      <td>3.357143</td>\n",
              "      <td>0.702245</td>\n",
              "    </tr>\n",
              "    <tr>\n",
              "      <th>Guatemala</th>\n",
              "      <td>3.350000</td>\n",
              "      <td>0.702000</td>\n",
              "    </tr>\n",
              "  </tbody>\n",
              "</table>\n",
              "</div>"
            ],
            "text/plain": [
              "               Rating  CocoaPercent\n",
              "Country                            \n",
              "Chile        3.750000      0.700000\n",
              "Amsterdam    3.500000      0.732500\n",
              "Netherlands  3.500000      0.700000\n",
              "Philippines  3.500000      0.650000\n",
              "Iceland      3.416667      0.686667\n",
              "Vietnam      3.409091      0.745455\n",
              "Brazil       3.397059      0.698235\n",
              "Poland       3.375000      0.718750\n",
              "Australia    3.357143      0.702245\n",
              "Guatemala    3.350000      0.702000"
            ]
          },
          "metadata": {
            "tags": []
          },
          "execution_count": 31
        }
      ]
    },
    {
      "cell_type": "code",
      "metadata": {
        "colab": {
          "base_uri": "https://localhost:8080/",
          "height": 390
        },
        "id": "MW9HIobAIQqc",
        "outputId": "f1f83b8e-6eb9-4ef0-8f6e-fda756658c3b"
      },
      "source": [
        "countries_with_cocoapercent.sort_values(by='CocoaPercent', ascending=False).head(10)"
      ],
      "execution_count": 32,
      "outputs": [
        {
          "output_type": "execute_result",
          "data": {
            "text/html": [
              "<div>\n",
              "<style scoped>\n",
              "    .dataframe tbody tr th:only-of-type {\n",
              "        vertical-align: middle;\n",
              "    }\n",
              "\n",
              "    .dataframe tbody tr th {\n",
              "        vertical-align: top;\n",
              "    }\n",
              "\n",
              "    .dataframe thead th {\n",
              "        text-align: right;\n",
              "    }\n",
              "</style>\n",
              "<table border=\"1\" class=\"dataframe\">\n",
              "  <thead>\n",
              "    <tr style=\"text-align: right;\">\n",
              "      <th></th>\n",
              "      <th>Rating</th>\n",
              "      <th>CocoaPercent</th>\n",
              "    </tr>\n",
              "    <tr>\n",
              "      <th>Country</th>\n",
              "      <th></th>\n",
              "      <th></th>\n",
              "    </tr>\n",
              "  </thead>\n",
              "  <tbody>\n",
              "    <tr>\n",
              "      <th>Sao Tome</th>\n",
              "      <td>2.937500</td>\n",
              "      <td>0.821250</td>\n",
              "    </tr>\n",
              "    <tr>\n",
              "      <th>Wales</th>\n",
              "      <td>2.750000</td>\n",
              "      <td>0.800000</td>\n",
              "    </tr>\n",
              "    <tr>\n",
              "      <th>Ghana</th>\n",
              "      <td>2.750000</td>\n",
              "      <td>0.800000</td>\n",
              "    </tr>\n",
              "    <tr>\n",
              "      <th>Ireland</th>\n",
              "      <td>2.812500</td>\n",
              "      <td>0.785000</td>\n",
              "    </tr>\n",
              "    <tr>\n",
              "      <th>Portugal</th>\n",
              "      <td>2.750000</td>\n",
              "      <td>0.760000</td>\n",
              "    </tr>\n",
              "    <tr>\n",
              "      <th>Eucador</th>\n",
              "      <td>3.000000</td>\n",
              "      <td>0.750000</td>\n",
              "    </tr>\n",
              "    <tr>\n",
              "      <th>Niacragua</th>\n",
              "      <td>2.750000</td>\n",
              "      <td>0.750000</td>\n",
              "    </tr>\n",
              "    <tr>\n",
              "      <th>Honduras</th>\n",
              "      <td>3.208333</td>\n",
              "      <td>0.750000</td>\n",
              "    </tr>\n",
              "    <tr>\n",
              "      <th>Fiji</th>\n",
              "      <td>3.250000</td>\n",
              "      <td>0.750000</td>\n",
              "    </tr>\n",
              "    <tr>\n",
              "      <th>Vietnam</th>\n",
              "      <td>3.409091</td>\n",
              "      <td>0.745455</td>\n",
              "    </tr>\n",
              "  </tbody>\n",
              "</table>\n",
              "</div>"
            ],
            "text/plain": [
              "             Rating  CocoaPercent\n",
              "Country                          \n",
              "Sao Tome   2.937500      0.821250\n",
              "Wales      2.750000      0.800000\n",
              "Ghana      2.750000      0.800000\n",
              "Ireland    2.812500      0.785000\n",
              "Portugal   2.750000      0.760000\n",
              "Eucador    3.000000      0.750000\n",
              "Niacragua  2.750000      0.750000\n",
              "Honduras   3.208333      0.750000\n",
              "Fiji       3.250000      0.750000\n",
              "Vietnam    3.409091      0.745455"
            ]
          },
          "metadata": {
            "tags": []
          },
          "execution_count": 32
        }
      ]
    },
    {
      "cell_type": "code",
      "metadata": {
        "colab": {
          "base_uri": "https://localhost:8080/",
          "height": 356
        },
        "id": "Em4mbZZFKq63",
        "outputId": "49bdc92d-6c66-47b1-fea7-69f58105a027"
      },
      "source": [
        "df = choco[['Rating','CocoaPercent']].groupby([\"CocoaPercent\"]).median().reset_index()\n",
        "sns.displot(x='Rating', y='CocoaPercent', data=df, legend=['Average Rating', 'Average CocoaPercent'])\n",
        "plt.legend(labels=['Average Rating', 'Average CocoaPercent'])\n",
        "plt.xlabel = 'Average Rating'"
      ],
      "execution_count": 33,
      "outputs": [
        {
          "output_type": "display_data",
          "data": {
            "image/png": "[encoded data removed]",
            "text/plain": [
              "<Figure size 360x360 with 1 Axes>"
            ]
          },
          "metadata": {
            "tags": [],
            "needs_background": "light"
          }
        }
      ]
    },
    {
      "cell_type": "code",
      "metadata": {
        "colab": {
          "base_uri": "https://localhost:8080/",
          "height": 111
        },
        "id": "Hnm5izxNNebX",
        "outputId": "0bb949d2-1687-4bbf-db9b-342b3d35cea9"
      },
      "source": [
        "choco[['CocoaPercent', 'Rating']].corr()\n",
        "\n",
        "#The correlation is negative - but weak (only -0.16). \n",
        "#In the case of 'CocoaPercent' column the data is continuous, so it has to be checked by ANOVA (in the case of normal distribution and variance homogeneity) or with a non-parametric test."
      ],
      "execution_count": 34,
      "outputs": [
        {
          "output_type": "execute_result",
          "data": {
            "text/html": [
              "<div>\n",
              "<style scoped>\n",
              "    .dataframe tbody tr th:only-of-type {\n",
              "        vertical-align: middle;\n",
              "    }\n",
              "\n",
              "    .dataframe tbody tr th {\n",
              "        vertical-align: top;\n",
              "    }\n",
              "\n",
              "    .dataframe thead th {\n",
              "        text-align: right;\n",
              "    }\n",
              "</style>\n",
              "<table border=\"1\" class=\"dataframe\">\n",
              "  <thead>\n",
              "    <tr style=\"text-align: right;\">\n",
              "      <th></th>\n",
              "      <th>CocoaPercent</th>\n",
              "      <th>Rating</th>\n",
              "    </tr>\n",
              "  </thead>\n",
              "  <tbody>\n",
              "    <tr>\n",
              "      <th>CocoaPercent</th>\n",
              "      <td>1.000000</td>\n",
              "      <td>-0.164758</td>\n",
              "    </tr>\n",
              "    <tr>\n",
              "      <th>Rating</th>\n",
              "      <td>-0.164758</td>\n",
              "      <td>1.000000</td>\n",
              "    </tr>\n",
              "  </tbody>\n",
              "</table>\n",
              "</div>"
            ],
            "text/plain": [
              "              CocoaPercent    Rating\n",
              "CocoaPercent      1.000000 -0.164758\n",
              "Rating           -0.164758  1.000000"
            ]
          },
          "metadata": {
            "tags": []
          },
          "execution_count": 34
        }
      ]
    },
    {
      "cell_type": "code",
      "metadata": {
        "colab": {
          "base_uri": "https://localhost:8080/"
        },
        "id": "BUHGjw3LOT55",
        "outputId": "1f4c57b9-55c4-437f-83c5-3b5733a4f21d"
      },
      "source": [
        "p_value=pearsonr(choco['Rating'], choco['CocoaPercent'])[1]\n",
        "p_value.round(10)\n",
        "#P_value is 0.0 - Reject null hypotese so there is a correlation between those columns."
      ],
      "execution_count": 35,
      "outputs": [
        {
          "output_type": "execute_result",
          "data": {
            "text/plain": [
              "0.0"
            ]
          },
          "metadata": {
            "tags": []
          },
          "execution_count": 35
        }
      ]
    },
    {
      "cell_type": "code",
      "metadata": {
        "colab": {
          "base_uri": "https://localhost:8080/"
        },
        "id": "1q8wH3M-Ql1v",
        "outputId": "4e4182d6-751b-43f9-c69b-113d4f0a39e9"
      },
      "source": [
        "choco['Rating'].unique()\n"
      ],
      "execution_count": 36,
      "outputs": [
        {
          "output_type": "execute_result",
          "data": {
            "text/plain": [
              "array([3.75, 2.75, 3.  , 3.5 , 4.  , 3.25, 2.5 , 5.  , 1.75, 1.5 , 2.25,\n",
              "       2.  , 1.  ])"
            ]
          },
          "metadata": {
            "tags": []
          },
          "execution_count": 36
        }
      ]
    },
    {
      "cell_type": "code",
      "metadata": {
        "colab": {
          "base_uri": "https://localhost:8080/"
        },
        "id": "VYKdyBP-QzXa",
        "outputId": "c151291c-4cbe-4ded-c2dc-6d64ae1a662d"
      },
      "source": [
        "choco['CocoaPercent'].unique()\n",
        "#data is continous"
      ],
      "execution_count": 37,
      "outputs": [
        {
          "output_type": "execute_result",
          "data": {
            "text/plain": [
              "array([0.63 , 0.7  , 0.6  , 0.8  , 0.88 , 0.72 , 0.55 , 0.75 , 0.65 ,\n",
              "       0.85 , 0.73 , 0.64 , 0.66 , 0.68 , 0.5  , 1.   , 0.77 , 0.9  ,\n",
              "       0.71 , 0.83 , 0.78 , 0.74 , 0.76 , 0.86 , 0.82 , 0.69 , 0.91 ,\n",
              "       0.42 , 0.61 , 0.735, 0.62 , 0.67 , 0.58 , 0.605, 0.79 , 0.81 ,\n",
              "       0.57 , 0.725, 0.56 , 0.46 , 0.89 , 0.99 , 0.84 , 0.53 , 0.87 ])"
            ]
          },
          "metadata": {
            "tags": []
          },
          "execution_count": 37
        }
      ]
    },
    {
      "cell_type": "markdown",
      "metadata": {
        "id": "iy4nhJaJMfwi"
      },
      "source": [
        "#check correlation between Rating and Cocoa Percent\n",
        "ANOVA test - normal distribution and homogeneity of samples\n",
        "Anova test can be used under 2 conditions: homogeneity of variances and normal distribution\n"
      ]
    },
    {
      "cell_type": "code",
      "metadata": {
        "id": "5SdwPOXNa9br"
      },
      "source": [
        "choco_anova = choco[['Rating', 'CocoaPercent']].groupby('Rating')\n",
        "choco_anova=choco_anova.apply(lambda x:x)\n",
        "choco_anova=choco_anova.set_index('Rating')"
      ],
      "execution_count": 38,
      "outputs": []
    },
    {
      "cell_type": "code",
      "metadata": {
        "colab": {
          "base_uri": "https://localhost:8080/",
          "height": 597
        },
        "id": "rWTZSfZQKaRR",
        "outputId": "a4833f0f-e4ec-418e-fd00-1f975dc62858"
      },
      "source": [
        "ax = sns.boxplot( data=choco['Rating'], color='#99c2a2')\n",
        "#ax = sns.swarmplot(x=\"CocoaPercent\", y=\"Rating\", data=choco_anova, color='#7d0013')\n",
        "plt.show()"
      ],
      "execution_count": 40,
      "outputs": [
        {
          "output_type": "display_data",
          "data": {
            "image/png": "[encoded data removed]",
            "text/plain": [
              "<Figure size 1440x720 with 1 Axes>"
            ]
          },
          "metadata": {
            "tags": [],
            "needs_background": "light"
          }
        }
      ]
    },
    {
      "cell_type": "code",
      "metadata": {
        "colab": {
          "base_uri": "https://localhost:8080/",
          "height": 597
        },
        "id": "5SKagh8XiRjd",
        "outputId": "7f5b91e6-07ad-4123-eb68-19c6b1f15fab"
      },
      "source": [
        "ax = sns.boxplot( data=choco['CocoaPercent'], color='#99c2a2')\n",
        "#ax = sns.swarmplot(x=\"CocoaPercent\", y=\"Rating\", data=choco_anova, color='#7d0013')\n",
        "plt.show()"
      ],
      "execution_count": 41,
      "outputs": [
        {
          "output_type": "display_data",
          "data": {
            "image/png": "[encoded data removed]",
            "text/plain": [
              "<Figure size 1440x720 with 1 Axes>"
            ]
          },
          "metadata": {
            "tags": [],
            "needs_background": "light"
          }
        }
      ]
    },
    {
      "cell_type": "markdown",
      "metadata": {
        "id": "7CLPEfiwkEjA"
      },
      "source": [
        "###P value"
      ]
    },
    {
      "cell_type": "code",
      "metadata": {
        "colab": {
          "base_uri": "https://localhost:8080/"
        },
        "id": "db1K9RAWOQaI",
        "outputId": "2ca8189c-40f8-4104-d797-990b2ef7678f"
      },
      "source": [
        "fvalue, pvalue = stats.f_oneway(choco['CocoaPercent'], choco['Rating'])\n",
        "#print(fvalue, pvalue)\n",
        "print(pvalue.round(10))"
      ],
      "execution_count": 42,
      "outputs": [
        {
          "output_type": "stream",
          "text": [
            "0.0\n"
          ],
          "name": "stdout"
        }
      ]
    },
    {
      "cell_type": "code",
      "metadata": {
        "id": "rxryRZ6zMu3Z"
      },
      "source": [
        "# I called the dictionary:last_try. I tried to prepare the data many times, it was the last attempt :)\n",
        "last_try={}\n",
        "keys = [key for key in set(choco['Rating'])]\n",
        "\n",
        "for elem in choco['Rating']:\n",
        "    if elem in last_try.keys():\n",
        "        last_try[elem].append(choco[choco.Rating==elem].CocoaPercent)\n",
        "    else:\n",
        "        last_try[elem] = choco[choco.Rating==elem].CocoaPercent"
      ],
      "execution_count": 43,
      "outputs": []
    },
    {
      "cell_type": "code",
      "metadata": {
        "colab": {
          "base_uri": "https://localhost:8080/"
        },
        "id": "G-cZJiqyRqs9",
        "outputId": "dd982fe9-604f-464a-b6cd-1f0b27b3976f"
      },
      "source": [
        "type(last_try)"
      ],
      "execution_count": 44,
      "outputs": [
        {
          "output_type": "execute_result",
          "data": {
            "text/plain": [
              "dict"
            ]
          },
          "metadata": {
            "tags": []
          },
          "execution_count": 44
        }
      ]
    },
    {
      "cell_type": "code",
      "metadata": {
        "colab": {
          "base_uri": "https://localhost:8080/",
          "height": 297
        },
        "id": "ndpObzJcRvKv",
        "outputId": "6c0ab63e-bf66-4408-e106-a73b1ec02524"
      },
      "source": [
        "pd.DataFrame(last_try).describe()"
      ],
      "execution_count": 45,
      "outputs": [
        {
          "output_type": "execute_result",
          "data": {
            "text/html": [
              "<div>\n",
              "<style scoped>\n",
              "    .dataframe tbody tr th:only-of-type {\n",
              "        vertical-align: middle;\n",
              "    }\n",
              "\n",
              "    .dataframe tbody tr th {\n",
              "        vertical-align: top;\n",
              "    }\n",
              "\n",
              "    .dataframe thead th {\n",
              "        text-align: right;\n",
              "    }\n",
              "</style>\n",
              "<table border=\"1\" class=\"dataframe\">\n",
              "  <thead>\n",
              "    <tr style=\"text-align: right;\">\n",
              "      <th></th>\n",
              "      <th>3.75</th>\n",
              "      <th>2.75</th>\n",
              "      <th>3.00</th>\n",
              "      <th>3.50</th>\n",
              "      <th>4.00</th>\n",
              "      <th>3.25</th>\n",
              "      <th>2.50</th>\n",
              "      <th>5.00</th>\n",
              "      <th>1.75</th>\n",
              "      <th>1.50</th>\n",
              "      <th>2.25</th>\n",
              "      <th>2.00</th>\n",
              "      <th>1.00</th>\n",
              "    </tr>\n",
              "  </thead>\n",
              "  <tbody>\n",
              "    <tr>\n",
              "      <th>count</th>\n",
              "      <td>210.000000</td>\n",
              "      <td>259.000000</td>\n",
              "      <td>341.000000</td>\n",
              "      <td>392.000000</td>\n",
              "      <td>97.000000</td>\n",
              "      <td>303.000000</td>\n",
              "      <td>126.000000</td>\n",
              "      <td>2.0</td>\n",
              "      <td>3.000000</td>\n",
              "      <td>10.000000</td>\n",
              "      <td>14.000000</td>\n",
              "      <td>32.000000</td>\n",
              "      <td>4.000000</td>\n",
              "    </tr>\n",
              "    <tr>\n",
              "      <th>mean</th>\n",
              "      <td>0.708500</td>\n",
              "      <td>0.721795</td>\n",
              "      <td>0.717742</td>\n",
              "      <td>0.711607</td>\n",
              "      <td>0.708144</td>\n",
              "      <td>0.714125</td>\n",
              "      <td>0.717897</td>\n",
              "      <td>0.7</td>\n",
              "      <td>0.906667</td>\n",
              "      <td>0.848000</td>\n",
              "      <td>0.740000</td>\n",
              "      <td>0.766250</td>\n",
              "      <td>0.782500</td>\n",
              "    </tr>\n",
              "    <tr>\n",
              "      <th>std</th>\n",
              "      <td>0.038173</td>\n",
              "      <td>0.072325</td>\n",
              "      <td>0.064323</td>\n",
              "      <td>0.050010</td>\n",
              "      <td>0.039007</td>\n",
              "      <td>0.058884</td>\n",
              "      <td>0.070564</td>\n",
              "      <td>0.0</td>\n",
              "      <td>0.161658</td>\n",
              "      <td>0.153101</td>\n",
              "      <td>0.099383</td>\n",
              "      <td>0.118805</td>\n",
              "      <td>0.145688</td>\n",
              "    </tr>\n",
              "    <tr>\n",
              "      <th>min</th>\n",
              "      <td>0.500000</td>\n",
              "      <td>0.420000</td>\n",
              "      <td>0.550000</td>\n",
              "      <td>0.550000</td>\n",
              "      <td>0.600000</td>\n",
              "      <td>0.550000</td>\n",
              "      <td>0.550000</td>\n",
              "      <td>0.7</td>\n",
              "      <td>0.720000</td>\n",
              "      <td>0.650000</td>\n",
              "      <td>0.550000</td>\n",
              "      <td>0.530000</td>\n",
              "      <td>0.700000</td>\n",
              "    </tr>\n",
              "    <tr>\n",
              "      <th>25%</th>\n",
              "      <td>0.700000</td>\n",
              "      <td>0.700000</td>\n",
              "      <td>0.700000</td>\n",
              "      <td>0.700000</td>\n",
              "      <td>0.700000</td>\n",
              "      <td>0.700000</td>\n",
              "      <td>0.700000</td>\n",
              "      <td>0.7</td>\n",
              "      <td>0.860000</td>\n",
              "      <td>0.700000</td>\n",
              "      <td>0.705000</td>\n",
              "      <td>0.700000</td>\n",
              "      <td>0.700000</td>\n",
              "    </tr>\n",
              "    <tr>\n",
              "      <th>50%</th>\n",
              "      <td>0.700000</td>\n",
              "      <td>0.700000</td>\n",
              "      <td>0.700000</td>\n",
              "      <td>0.700000</td>\n",
              "      <td>0.700000</td>\n",
              "      <td>0.700000</td>\n",
              "      <td>0.710000</td>\n",
              "      <td>0.7</td>\n",
              "      <td>1.000000</td>\n",
              "      <td>0.880000</td>\n",
              "      <td>0.725000</td>\n",
              "      <td>0.750000</td>\n",
              "      <td>0.715000</td>\n",
              "    </tr>\n",
              "    <tr>\n",
              "      <th>75%</th>\n",
              "      <td>0.720000</td>\n",
              "      <td>0.750000</td>\n",
              "      <td>0.750000</td>\n",
              "      <td>0.730000</td>\n",
              "      <td>0.730000</td>\n",
              "      <td>0.750000</td>\n",
              "      <td>0.750000</td>\n",
              "      <td>0.7</td>\n",
              "      <td>1.000000</td>\n",
              "      <td>1.000000</td>\n",
              "      <td>0.757500</td>\n",
              "      <td>0.812500</td>\n",
              "      <td>0.797500</td>\n",
              "    </tr>\n",
              "    <tr>\n",
              "      <th>max</th>\n",
              "      <td>0.900000</td>\n",
              "      <td>1.000000</td>\n",
              "      <td>1.000000</td>\n",
              "      <td>1.000000</td>\n",
              "      <td>0.880000</td>\n",
              "      <td>0.990000</td>\n",
              "      <td>1.000000</td>\n",
              "      <td>0.7</td>\n",
              "      <td>1.000000</td>\n",
              "      <td>1.000000</td>\n",
              "      <td>1.000000</td>\n",
              "      <td>1.000000</td>\n",
              "      <td>1.000000</td>\n",
              "    </tr>\n",
              "  </tbody>\n",
              "</table>\n",
              "</div>"
            ],
            "text/plain": [
              "             3.75        2.75        3.00  ...       2.25       2.00      1.00\n",
              "count  210.000000  259.000000  341.000000  ...  14.000000  32.000000  4.000000\n",
              "mean     0.708500    0.721795    0.717742  ...   0.740000   0.766250  0.782500\n",
              "std      0.038173    0.072325    0.064323  ...   0.099383   0.118805  0.145688\n",
              "min      0.500000    0.420000    0.550000  ...   0.550000   0.530000  0.700000\n",
              "25%      0.700000    0.700000    0.700000  ...   0.705000   0.700000  0.700000\n",
              "50%      0.700000    0.700000    0.700000  ...   0.725000   0.750000  0.715000\n",
              "75%      0.720000    0.750000    0.750000  ...   0.757500   0.812500  0.797500\n",
              "max      0.900000    1.000000    1.000000  ...   1.000000   1.000000  1.000000\n",
              "\n",
              "[8 rows x 13 columns]"
            ]
          },
          "metadata": {
            "tags": []
          },
          "execution_count": 45
        }
      ]
    },
    {
      "cell_type": "code",
      "metadata": {
        "colab": {
          "base_uri": "https://localhost:8080/"
        },
        "id": "36CdDuSiTFvg",
        "outputId": "d8bd8fd0-1e0c-42f1-d9dd-cc1ce60d9c74"
      },
      "source": [
        "last_try.keys()"
      ],
      "execution_count": 46,
      "outputs": [
        {
          "output_type": "execute_result",
          "data": {
            "text/plain": [
              "dict_keys([3.75, 2.75, 3.0, 3.5, 4.0, 3.25, 2.5, 5.0, 1.75, 1.5, 2.25, 2.0, 1.0])"
            ]
          },
          "metadata": {
            "tags": []
          },
          "execution_count": 46
        }
      ]
    },
    {
      "cell_type": "markdown",
      "metadata": {
        "id": "1gz2DLDukJqP"
      },
      "source": [
        "###Bartlett test"
      ]
    },
    {
      "cell_type": "code",
      "metadata": {
        "colab": {
          "base_uri": "https://localhost:8080/"
        },
        "id": "kDM0wyxo9Zkt",
        "outputId": "6c209a13-ea51-484e-fa1f-5934f7463aca"
      },
      "source": [
        "#bartlett test  \n",
        "p = stats.bartlett(last_try[1.0], last_try[1.5], last_try[1.75], last_try[3.75], last_try[2.75], last_try[3.0], last_try[3.5], last_try[4.0], last_try[3.25], last_try[2.5], last_try[5.0], last_try[2.25], last_try[2.0] )\n",
        "p"
      ],
      "execution_count": 47,
      "outputs": [
        {
          "output_type": "stream",
          "text": [
            "/usr/local/lib/python3.7/dist-packages/scipy/stats/morestats.py:2241: RuntimeWarning: divide by zero encountered in log\n",
            "  numer = (Ntot*1.0 - k) * log(spsq) - np.sum((Ni - 1.0)*log(ssq), axis=0)\n"
          ],
          "name": "stderr"
        },
        {
          "output_type": "execute_result",
          "data": {
            "text/plain": [
              "BartlettResult(statistic=inf, pvalue=0.0)"
            ]
          },
          "metadata": {
            "tags": []
          },
          "execution_count": 47
        }
      ]
    },
    {
      "cell_type": "markdown",
      "metadata": {
        "id": "5xQnunebUW-5"
      },
      "source": [
        "Bartlett’s test tests the null hypothesis that all input samples are from populations with equal variances. Null hypotesis is rejected because of p value."
      ]
    },
    {
      "cell_type": "markdown",
      "metadata": {
        "id": "F1s4y79bkOUL"
      },
      "source": [
        "###Levene test"
      ]
    },
    {
      "cell_type": "code",
      "metadata": {
        "colab": {
          "base_uri": "https://localhost:8080/"
        },
        "id": "cU2ZuFy3UjDS",
        "outputId": "790e70f8-85cc-4766-8795-3a1b8ae12eeb"
      },
      "source": [
        "#Levene test  \n",
        "p = stats.levene(last_try[1.0], last_try[1.5], last_try[1.75], last_try[3.75], last_try[2.75], last_try[3.0], last_try[3.5], last_try[4.0], last_try[3.25], last_try[2.5], last_try[5.0], last_try[2.25], last_try[2.0] )\n",
        "p"
      ],
      "execution_count": 48,
      "outputs": [
        {
          "output_type": "execute_result",
          "data": {
            "text/plain": [
              "LeveneResult(statistic=11.584121196479193, pvalue=8.749007675742454e-23)"
            ]
          },
          "metadata": {
            "tags": []
          },
          "execution_count": 48
        }
      ]
    },
    {
      "cell_type": "code",
      "metadata": {
        "colab": {
          "base_uri": "https://localhost:8080/"
        },
        "id": "5ytY6b6yVpUA",
        "outputId": "e8aa7ee5-9fd8-4a0b-e408-3f84fcfda6c1"
      },
      "source": [
        "round(float(8.749007675742454e-23))"
      ],
      "execution_count": 49,
      "outputs": [
        {
          "output_type": "execute_result",
          "data": {
            "text/plain": [
              "0"
            ]
          },
          "metadata": {
            "tags": []
          },
          "execution_count": 49
        }
      ]
    },
    {
      "cell_type": "markdown",
      "metadata": {
        "id": "cdMDxXMQVDTe"
      },
      "source": [
        "The Levene test tests the null hypothesis that all input samples are from populations with equal variances. Levene’s test is an alternative to Bartlett’s test bartlett in the case where there are significant deviations from normality. Null hypotesis is rejected because of p value."
      ]
    },
    {
      "cell_type": "markdown",
      "metadata": {
        "id": "dsaG-l44jsDn"
      },
      "source": [
        "###Anderson test\n",
        "check normal distribution"
      ]
    },
    {
      "cell_type": "code",
      "metadata": {
        "id": "W8XjWBX7X944"
      },
      "source": [
        "data_anderson=(last_try[1.0], last_try[1.5], last_try[1.75], last_try[3.75], last_try[2.75], last_try[3.0], last_try[3.5], last_try[4.0], last_try[3.25], last_try[2.5], last_try[5.0], last_try[2.25], last_try[2.0] )"
      ],
      "execution_count": 50,
      "outputs": []
    },
    {
      "cell_type": "code",
      "metadata": {
        "colab": {
          "base_uri": "https://localhost:8080/"
        },
        "id": "QKUsjfABYC-w",
        "outputId": "36997f42-c087-4b89-a890-2065726ce2cf"
      },
      "source": [
        "for elem in data_anderson:\n",
        "    result = stats.anderson(elem)\n",
        "    print('Statistic: %.3f' % result.statistic)\n",
        "    p = 0\n",
        "    for i in range(len(result.critical_values)):\n",
        "        sl, cv = result.significance_level[i], result.critical_values[i]\n",
        "        if result.statistic < result.critical_values[i]:\n",
        "            print('%.3f: %.3f, data looks normal (fail to reject H0)' % (sl, cv))\n",
        "        else:\n",
        "            print('%.3f: %.3f, data does not look normal (reject H0)' % (sl, cv))"
      ],
      "execution_count": 51,
      "outputs": [
        {
          "output_type": "stream",
          "text": [
            "Statistic: 0.671\n",
            "15.000: 1.317, data looks normal (fail to reject H0)\n",
            "10.000: 1.499, data looks normal (fail to reject H0)\n",
            "5.000: 1.799, data looks normal (fail to reject H0)\n",
            "2.500: 2.098, data looks normal (fail to reject H0)\n",
            "1.000: 2.496, data looks normal (fail to reject H0)\n",
            "Statistic: 0.801\n",
            "15.000: 0.501, data does not look normal (reject H0)\n",
            "10.000: 0.570, data does not look normal (reject H0)\n",
            "5.000: 0.684, data does not look normal (reject H0)\n",
            "2.500: 0.798, data does not look normal (reject H0)\n",
            "1.000: 0.950, data looks normal (fail to reject H0)\n",
            "Statistic: 0.488\n",
            "15.000: -1.296, data does not look normal (reject H0)\n",
            "10.000: -1.476, data does not look normal (reject H0)\n",
            "5.000: -1.771, data does not look normal (reject H0)\n",
            "2.500: -2.065, data does not look normal (reject H0)\n",
            "1.000: -2.457, data does not look normal (reject H0)\n",
            "Statistic: 11.341\n",
            "15.000: 0.566, data does not look normal (reject H0)\n",
            "10.000: 0.644, data does not look normal (reject H0)\n",
            "5.000: 0.773, data does not look normal (reject H0)\n",
            "2.500: 0.901, data does not look normal (reject H0)\n",
            "1.000: 1.072, data does not look normal (reject H0)\n",
            "Statistic: 7.868\n",
            "15.000: 0.567, data does not look normal (reject H0)\n",
            "10.000: 0.646, data does not look normal (reject H0)\n",
            "5.000: 0.775, data does not look normal (reject H0)\n",
            "2.500: 0.904, data does not look normal (reject H0)\n",
            "1.000: 1.076, data does not look normal (reject H0)\n",
            "Statistic: 11.957\n",
            "15.000: 0.569, data does not look normal (reject H0)\n",
            "10.000: 0.649, data does not look normal (reject H0)\n",
            "5.000: 0.778, data does not look normal (reject H0)\n",
            "2.500: 0.908, data does not look normal (reject H0)\n",
            "1.000: 1.080, data does not look normal (reject H0)\n",
            "Statistic: 18.094\n",
            "15.000: 0.570, data does not look normal (reject H0)\n",
            "10.000: 0.649, data does not look normal (reject H0)\n",
            "5.000: 0.779, data does not look normal (reject H0)\n",
            "2.500: 0.909, data does not look normal (reject H0)\n",
            "1.000: 1.081, data does not look normal (reject H0)\n",
            "Statistic: 4.165\n",
            "15.000: 0.555, data does not look normal (reject H0)\n",
            "10.000: 0.632, data does not look normal (reject H0)\n",
            "5.000: 0.758, data does not look normal (reject H0)\n",
            "2.500: 0.884, data does not look normal (reject H0)\n",
            "1.000: 1.051, data does not look normal (reject H0)\n",
            "Statistic: 11.868\n",
            "15.000: 0.569, data does not look normal (reject H0)\n",
            "10.000: 0.648, data does not look normal (reject H0)\n",
            "5.000: 0.777, data does not look normal (reject H0)\n",
            "2.500: 0.906, data does not look normal (reject H0)\n",
            "1.000: 1.078, data does not look normal (reject H0)\n",
            "Statistic: 3.346\n",
            "15.000: 0.559, data does not look normal (reject H0)\n",
            "10.000: 0.637, data does not look normal (reject H0)\n",
            "5.000: 0.764, data does not look normal (reject H0)\n",
            "2.500: 0.891, data does not look normal (reject H0)\n",
            "1.000: 1.060, data does not look normal (reject H0)\n",
            "Statistic: nan\n",
            "15.000: -0.177, data does not look normal (reject H0)\n",
            "10.000: -0.202, data does not look normal (reject H0)\n",
            "5.000: -0.242, data does not look normal (reject H0)\n",
            "2.500: -0.282, data does not look normal (reject H0)\n",
            "1.000: -0.336, data does not look normal (reject H0)\n",
            "Statistic: 0.850\n",
            "15.000: 0.497, data does not look normal (reject H0)\n",
            "10.000: 0.566, data does not look normal (reject H0)\n",
            "5.000: 0.680, data does not look normal (reject H0)\n",
            "2.500: 0.793, data does not look normal (reject H0)\n",
            "1.000: 0.943, data looks normal (fail to reject H0)\n",
            "Statistic: 0.984\n",
            "15.000: 0.523, data does not look normal (reject H0)\n",
            "10.000: 0.596, data does not look normal (reject H0)\n",
            "5.000: 0.715, data does not look normal (reject H0)\n",
            "2.500: 0.834, data does not look normal (reject H0)\n",
            "1.000: 0.992, data looks normal (fail to reject H0)\n"
          ],
          "name": "stdout"
        },
        {
          "output_type": "stream",
          "text": [
            "/usr/local/lib/python3.7/dist-packages/scipy/stats/morestats.py:1780: RuntimeWarning: invalid value encountered in true_divide\n",
            "  w = (y - xbar) / s\n"
          ],
          "name": "stderr"
        }
      ]
    },
    {
      "cell_type": "markdown",
      "metadata": {
        "id": "-_IqaL2aYgUW"
      },
      "source": [
        "The null hypotesis that the data comes from normal distribution is rejected."
      ]
    },
    {
      "cell_type": "markdown",
      "metadata": {
        "id": "gLfo_IZb2u6Z"
      },
      "source": [
        "Thus, the null hypothesis of equal variances and normal distribution are rejected and it is concluded that there is a difference between the variances in the population - the samples are not homogeneous and the distribution is not normal.\n"
      ]
    },
    {
      "cell_type": "markdown",
      "metadata": {
        "id": "ov3WCYcFlu7X"
      },
      "source": [
        "##Spearman test"
      ]
    },
    {
      "cell_type": "code",
      "metadata": {
        "colab": {
          "base_uri": "https://localhost:8080/"
        },
        "id": "vM8te3Fnlw_W",
        "outputId": "502f0bfa-aa1a-41f8-f29f-cb4023d475aa"
      },
      "source": [
        "data1=choco['Rating']\n",
        "data2=choco['CocoaPercent']\n",
        "coef, p = stats.spearmanr(data1, data2)\n",
        "print('Spearmans correlation coefficient: %.3f' % coef)\n",
        "print('Spearmans pvalue: %.5f' % p)\n",
        "# interpret the significance\n",
        "alpha = 0.05\n",
        "if p > alpha:\n",
        "\tprint('Samples are uncorrelated (fail to reject H0) p=%.3f' % p)\n",
        "else:\n",
        "\tprint('Samples are correlated (reject H0) p=%.3f' % p)"
      ],
      "execution_count": 52,
      "outputs": [
        {
          "output_type": "stream",
          "text": [
            "Spearmans correlation coefficient: -0.123\n",
            "Spearmans pvalue: 0.00000\n",
            "Samples are correlated (reject H0) p=0.000\n"
          ],
          "name": "stdout"
        }
      ]
    },
    {
      "cell_type": "markdown",
      "metadata": {
        "id": "z09H2GVBnxeD"
      },
      "source": [
        "##Kendall Correlation Coefficient"
      ]
    },
    {
      "cell_type": "code",
      "metadata": {
        "colab": {
          "base_uri": "https://localhost:8080/"
        },
        "id": "ee7E67phn7PG",
        "outputId": "3eb49391-f01e-4a7c-f75e-1aa1f1c05656"
      },
      "source": [
        "coef, p = stats.kendalltau(data1, data2)\n",
        "print('Kendall correlation coefficient: %.3f' % coef)\n",
        "# interpret the significance\n",
        "alpha = 0.05\n",
        "if p > alpha:\n",
        "\tprint('Samples are uncorrelated (fail to reject H0) p=%.3f' % p)\n",
        "else:\n",
        "\tprint('Samples are correlated (reject H0) p=%.3f' % p)"
      ],
      "execution_count": 53,
      "outputs": [
        {
          "output_type": "stream",
          "text": [
            "Kendall correlation coefficient: -0.094\n",
            "Samples are correlated (reject H0) p=0.000\n"
          ],
          "name": "stdout"
        }
      ]
    },
    {
      "cell_type": "markdown",
      "metadata": {
        "id": "a-O49hepqXzT"
      },
      "source": [
        "##Kruskal Wallis"
      ]
    },
    {
      "cell_type": "code",
      "metadata": {
        "colab": {
          "base_uri": "https://localhost:8080/"
        },
        "id": "HMX1Bm-NqkQ7",
        "outputId": "848e350d-c1a8-44cb-b24d-7fdde78756a2"
      },
      "source": [
        "#Kruskal Wallis test - one-way ANOVA on ranks, is a non-parametric method for testing whether samples originate from the same distribution.\n",
        "#It is used for comparing two or more independent samples of equal or different sample sizes. --- From Wiki---\n",
        "coef, p = stats.kruskal(last_try[1.0], last_try[1.5], last_try[1.75], last_try[3.75], last_try[2.75], last_try[3.0], last_try[3.5], last_try[4.0], last_try[3.25], last_try[2.5], last_try[5.0], last_try[2.25], last_try[2.0] )\n",
        "p\n",
        "# interpret the significance\n",
        "alpha = 0.05\n",
        "if p > alpha:\n",
        "\tprint('Samples are uncorrelated (fail to reject H0) p=%.3f' % p)\n",
        "else:\n",
        "\tprint('Samples are correlated (reject H0) p=%.3f' % p)"
      ],
      "execution_count": 91,
      "outputs": [
        {
          "output_type": "stream",
          "text": [
            "Samples are correlated (reject H0) p=0.000\n"
          ],
          "name": "stdout"
        }
      ]
    },
    {
      "cell_type": "markdown",
      "metadata": {
        "id": "huQ37DR2VrY9"
      },
      "source": [
        "##Plot for correlation"
      ]
    },
    {
      "cell_type": "code",
      "metadata": {
        "colab": {
          "base_uri": "https://localhost:8080/",
          "height": 687
        },
        "id": "lXMzxYkAVt-a",
        "outputId": "46e6312d-f416-4247-ddff-ade34b45af63"
      },
      "source": [
        "sns.scatterplot(choco['CocoaPercent'], choco['Rating'])"
      ],
      "execution_count": 56,
      "outputs": [
        {
          "output_type": "stream",
          "text": [
            "/usr/local/lib/python3.7/dist-packages/seaborn/_decorators.py:43: FutureWarning: Pass the following variables as keyword args: x, y. From version 0.12, the only valid positional argument will be `data`, and passing other arguments without an explicit keyword will result in an error or misinterpretation.\n",
            "  FutureWarning\n"
          ],
          "name": "stderr"
        },
        {
          "output_type": "execute_result",
          "data": {
            "text/plain": [
              "<matplotlib.axes._subplots.AxesSubplot at 0x7f515ccd6750>"
            ]
          },
          "metadata": {
            "tags": []
          },
          "execution_count": 56
        },
        {
          "output_type": "display_data",
          "data": {
            "image/png": "[encoded data removed]",
            "text/plain": [
              "<Figure size 1440x720 with 1 Axes>"
            ]
          },
          "metadata": {
            "tags": [],
            "needs_background": "light"
          }
        }
      ]
    },
    {
      "cell_type": "markdown",
      "metadata": {
        "id": "aKyCjlvQWqLa"
      },
      "source": [
        "#Introduction to Machine Learning"
      ]
    },
    {
      "cell_type": "markdown",
      "metadata": {
        "id": "zT7SJ_t9cJ7j"
      },
      "source": [
        "##PCA"
      ]
    },
    {
      "cell_type": "code",
      "metadata": {
        "colab": {
          "base_uri": "https://localhost:8080/",
          "height": 419
        },
        "id": "LB4r9ZAZS18u",
        "outputId": "cb3e7a7d-bb2d-4c83-dd12-d5b97780c80e"
      },
      "source": [
        "#Standardize features by removing the mean and scaling to unit variance\n",
        "data = choco[['ReviewDataReference', 'ReviewDate', 'CocoaPercent', 'Rating']]\n",
        "choco_s = StandardScaler().fit_transform(data)\n",
        "pd.DataFrame(choco_s) #matrix"
      ],
      "execution_count": 57,
      "outputs": [
        {
          "output_type": "execute_result",
          "data": {
            "text/html": [
              "<div>\n",
              "<style scoped>\n",
              "    .dataframe tbody tr th:only-of-type {\n",
              "        vertical-align: middle;\n",
              "    }\n",
              "\n",
              "    .dataframe tbody tr th {\n",
              "        vertical-align: top;\n",
              "    }\n",
              "\n",
              "    .dataframe thead th {\n",
              "        text-align: right;\n",
              "    }\n",
              "</style>\n",
              "<table border=\"1\" class=\"dataframe\">\n",
              "  <thead>\n",
              "    <tr style=\"text-align: right;\">\n",
              "      <th></th>\n",
              "      <th>0</th>\n",
              "      <th>1</th>\n",
              "      <th>2</th>\n",
              "      <th>3</th>\n",
              "    </tr>\n",
              "  </thead>\n",
              "  <tbody>\n",
              "    <tr>\n",
              "      <th>0</th>\n",
              "      <td>1.518830</td>\n",
              "      <td>1.254754</td>\n",
              "      <td>-1.375407</td>\n",
              "      <td>1.181356</td>\n",
              "    </tr>\n",
              "    <tr>\n",
              "      <th>1</th>\n",
              "      <td>1.157149</td>\n",
              "      <td>0.913207</td>\n",
              "      <td>-0.268644</td>\n",
              "      <td>-0.912734</td>\n",
              "    </tr>\n",
              "    <tr>\n",
              "      <th>2</th>\n",
              "      <td>1.157149</td>\n",
              "      <td>0.913207</td>\n",
              "      <td>-0.268644</td>\n",
              "      <td>-0.389211</td>\n",
              "    </tr>\n",
              "    <tr>\n",
              "      <th>3</th>\n",
              "      <td>1.164383</td>\n",
              "      <td>0.913207</td>\n",
              "      <td>-0.268644</td>\n",
              "      <td>0.657834</td>\n",
              "    </tr>\n",
              "    <tr>\n",
              "      <th>4</th>\n",
              "      <td>1.207784</td>\n",
              "      <td>0.913207</td>\n",
              "      <td>-0.268644</td>\n",
              "      <td>0.657834</td>\n",
              "    </tr>\n",
              "    <tr>\n",
              "      <th>...</th>\n",
              "      <td>...</td>\n",
              "      <td>...</td>\n",
              "      <td>...</td>\n",
              "      <td>...</td>\n",
              "    </tr>\n",
              "    <tr>\n",
              "      <th>1788</th>\n",
              "      <td>-0.703696</td>\n",
              "      <td>-0.452984</td>\n",
              "      <td>-0.268644</td>\n",
              "      <td>1.181356</td>\n",
              "    </tr>\n",
              "    <tr>\n",
              "      <th>1789</th>\n",
              "      <td>-0.519239</td>\n",
              "      <td>-0.452984</td>\n",
              "      <td>-1.059189</td>\n",
              "      <td>-0.389211</td>\n",
              "    </tr>\n",
              "    <tr>\n",
              "      <th>1790</th>\n",
              "      <td>-0.519239</td>\n",
              "      <td>-0.452984</td>\n",
              "      <td>-1.059189</td>\n",
              "      <td>0.657834</td>\n",
              "    </tr>\n",
              "    <tr>\n",
              "      <th>1791</th>\n",
              "      <td>-0.461370</td>\n",
              "      <td>-0.452984</td>\n",
              "      <td>-1.533516</td>\n",
              "      <td>0.134311</td>\n",
              "    </tr>\n",
              "    <tr>\n",
              "      <th>1792</th>\n",
              "      <td>-0.994849</td>\n",
              "      <td>-0.794532</td>\n",
              "      <td>-1.059189</td>\n",
              "      <td>-0.389211</td>\n",
              "    </tr>\n",
              "  </tbody>\n",
              "</table>\n",
              "<p>1793 rows × 4 columns</p>\n",
              "</div>"
            ],
            "text/plain": [
              "             0         1         2         3\n",
              "0     1.518830  1.254754 -1.375407  1.181356\n",
              "1     1.157149  0.913207 -0.268644 -0.912734\n",
              "2     1.157149  0.913207 -0.268644 -0.389211\n",
              "3     1.164383  0.913207 -0.268644  0.657834\n",
              "4     1.207784  0.913207 -0.268644  0.657834\n",
              "...        ...       ...       ...       ...\n",
              "1788 -0.703696 -0.452984 -0.268644  1.181356\n",
              "1789 -0.519239 -0.452984 -1.059189 -0.389211\n",
              "1790 -0.519239 -0.452984 -1.059189  0.657834\n",
              "1791 -0.461370 -0.452984 -1.533516  0.134311\n",
              "1792 -0.994849 -0.794532 -1.059189 -0.389211\n",
              "\n",
              "[1793 rows x 4 columns]"
            ]
          },
          "metadata": {
            "tags": []
          },
          "execution_count": 57
        }
      ]
    },
    {
      "cell_type": "code",
      "metadata": {
        "id": "UBHD1Mc6XZnH"
      },
      "source": [
        "pca = PCA(n_components=3)\n",
        "choco_r = pca.fit(choco_s).transform(choco_s)"
      ],
      "execution_count": 58,
      "outputs": []
    },
    {
      "cell_type": "code",
      "metadata": {
        "colab": {
          "base_uri": "https://localhost:8080/",
          "height": 419
        },
        "id": "5h2_0ItDYjfJ",
        "outputId": "d4a777b2-d595-4913-abdf-e2e3caa29160"
      },
      "source": [
        "pd.DataFrame(choco_r)"
      ],
      "execution_count": 59,
      "outputs": [
        {
          "output_type": "execute_result",
          "data": {
            "text/html": [
              "<div>\n",
              "<style scoped>\n",
              "    .dataframe tbody tr th:only-of-type {\n",
              "        vertical-align: middle;\n",
              "    }\n",
              "\n",
              "    .dataframe tbody tr th {\n",
              "        vertical-align: top;\n",
              "    }\n",
              "\n",
              "    .dataframe thead th {\n",
              "        text-align: right;\n",
              "    }\n",
              "</style>\n",
              "<table border=\"1\" class=\"dataframe\">\n",
              "  <thead>\n",
              "    <tr style=\"text-align: right;\">\n",
              "      <th></th>\n",
              "      <th>0</th>\n",
              "      <th>1</th>\n",
              "      <th>2</th>\n",
              "    </tr>\n",
              "  </thead>\n",
              "  <tbody>\n",
              "    <tr>\n",
              "      <th>0</th>\n",
              "      <td>-2.060376</td>\n",
              "      <td>-1.667195</td>\n",
              "      <td>0.330903</td>\n",
              "    </tr>\n",
              "    <tr>\n",
              "      <th>1</th>\n",
              "      <td>-1.317771</td>\n",
              "      <td>0.532726</td>\n",
              "      <td>1.013795</td>\n",
              "    </tr>\n",
              "    <tr>\n",
              "      <th>2</th>\n",
              "      <td>-1.388768</td>\n",
              "      <td>0.174916</td>\n",
              "      <td>0.638287</td>\n",
              "    </tr>\n",
              "    <tr>\n",
              "      <th>3</th>\n",
              "      <td>-1.535829</td>\n",
              "      <td>-0.540344</td>\n",
              "      <td>-0.112123</td>\n",
              "    </tr>\n",
              "    <tr>\n",
              "      <th>4</th>\n",
              "      <td>-1.566223</td>\n",
              "      <td>-0.538183</td>\n",
              "      <td>-0.108478</td>\n",
              "    </tr>\n",
              "    <tr>\n",
              "      <th>...</th>\n",
              "      <td>...</td>\n",
              "      <td>...</td>\n",
              "      <td>...</td>\n",
              "    </tr>\n",
              "    <tr>\n",
              "      <th>1788</th>\n",
              "      <td>0.657964</td>\n",
              "      <td>-1.060670</td>\n",
              "      <td>-0.760484</td>\n",
              "    </tr>\n",
              "    <tr>\n",
              "      <th>1789</th>\n",
              "      <td>0.765938</td>\n",
              "      <td>-0.552390</td>\n",
              "      <td>0.924230</td>\n",
              "    </tr>\n",
              "    <tr>\n",
              "      <th>1790</th>\n",
              "      <td>0.623943</td>\n",
              "      <td>-1.268010</td>\n",
              "      <td>0.173212</td>\n",
              "    </tr>\n",
              "    <tr>\n",
              "      <th>1791</th>\n",
              "      <td>0.668908</td>\n",
              "      <td>-1.251919</td>\n",
              "      <td>0.879199</td>\n",
              "    </tr>\n",
              "    <tr>\n",
              "      <th>1792</th>\n",
              "      <td>1.338151</td>\n",
              "      <td>-0.593446</td>\n",
              "      <td>0.855295</td>\n",
              "    </tr>\n",
              "  </tbody>\n",
              "</table>\n",
              "<p>1793 rows × 3 columns</p>\n",
              "</div>"
            ],
            "text/plain": [
              "             0         1         2\n",
              "0    -2.060376 -1.667195  0.330903\n",
              "1    -1.317771  0.532726  1.013795\n",
              "2    -1.388768  0.174916  0.638287\n",
              "3    -1.535829 -0.540344 -0.112123\n",
              "4    -1.566223 -0.538183 -0.108478\n",
              "...        ...       ...       ...\n",
              "1788  0.657964 -1.060670 -0.760484\n",
              "1789  0.765938 -0.552390  0.924230\n",
              "1790  0.623943 -1.268010  0.173212\n",
              "1791  0.668908 -1.251919  0.879199\n",
              "1792  1.338151 -0.593446  0.855295\n",
              "\n",
              "[1793 rows x 3 columns]"
            ]
          },
          "metadata": {
            "tags": []
          },
          "execution_count": 59
        }
      ]
    },
    {
      "cell_type": "code",
      "metadata": {
        "colab": {
          "base_uri": "https://localhost:8080/",
          "height": 419
        },
        "id": "Qjp43vpFYjWD",
        "outputId": "d64d62f2-f67a-4a40-dd3a-27e7def0c381"
      },
      "source": [
        "choco_princ = pd.DataFrame(data = choco_r, columns = ['principal_com_1', 'principal_com_2','principal_com_3'])\n",
        "# 1st column explains the most variance, shows the main direction - 50% of the variance from the 4 original columns, \n",
        "#2nd column - 20% of the variance (what was not explained by the 1st column) 3rd vector - the last part of the variance - this can be seen in the explained variance ratio\n",
        "#all can be seen in explained_variance_ratio\n",
        "choco_princ"
      ],
      "execution_count": 60,
      "outputs": [
        {
          "output_type": "execute_result",
          "data": {
            "text/html": [
              "<div>\n",
              "<style scoped>\n",
              "    .dataframe tbody tr th:only-of-type {\n",
              "        vertical-align: middle;\n",
              "    }\n",
              "\n",
              "    .dataframe tbody tr th {\n",
              "        vertical-align: top;\n",
              "    }\n",
              "\n",
              "    .dataframe thead th {\n",
              "        text-align: right;\n",
              "    }\n",
              "</style>\n",
              "<table border=\"1\" class=\"dataframe\">\n",
              "  <thead>\n",
              "    <tr style=\"text-align: right;\">\n",
              "      <th></th>\n",
              "      <th>principal_com_1</th>\n",
              "      <th>principal_com_2</th>\n",
              "      <th>principal_com_3</th>\n",
              "    </tr>\n",
              "  </thead>\n",
              "  <tbody>\n",
              "    <tr>\n",
              "      <th>0</th>\n",
              "      <td>-2.060376</td>\n",
              "      <td>-1.667195</td>\n",
              "      <td>0.330903</td>\n",
              "    </tr>\n",
              "    <tr>\n",
              "      <th>1</th>\n",
              "      <td>-1.317771</td>\n",
              "      <td>0.532726</td>\n",
              "      <td>1.013795</td>\n",
              "    </tr>\n",
              "    <tr>\n",
              "      <th>2</th>\n",
              "      <td>-1.388768</td>\n",
              "      <td>0.174916</td>\n",
              "      <td>0.638287</td>\n",
              "    </tr>\n",
              "    <tr>\n",
              "      <th>3</th>\n",
              "      <td>-1.535829</td>\n",
              "      <td>-0.540344</td>\n",
              "      <td>-0.112123</td>\n",
              "    </tr>\n",
              "    <tr>\n",
              "      <th>4</th>\n",
              "      <td>-1.566223</td>\n",
              "      <td>-0.538183</td>\n",
              "      <td>-0.108478</td>\n",
              "    </tr>\n",
              "    <tr>\n",
              "      <th>...</th>\n",
              "      <td>...</td>\n",
              "      <td>...</td>\n",
              "      <td>...</td>\n",
              "    </tr>\n",
              "    <tr>\n",
              "      <th>1788</th>\n",
              "      <td>0.657964</td>\n",
              "      <td>-1.060670</td>\n",
              "      <td>-0.760484</td>\n",
              "    </tr>\n",
              "    <tr>\n",
              "      <th>1789</th>\n",
              "      <td>0.765938</td>\n",
              "      <td>-0.552390</td>\n",
              "      <td>0.924230</td>\n",
              "    </tr>\n",
              "    <tr>\n",
              "      <th>1790</th>\n",
              "      <td>0.623943</td>\n",
              "      <td>-1.268010</td>\n",
              "      <td>0.173212</td>\n",
              "    </tr>\n",
              "    <tr>\n",
              "      <th>1791</th>\n",
              "      <td>0.668908</td>\n",
              "      <td>-1.251919</td>\n",
              "      <td>0.879199</td>\n",
              "    </tr>\n",
              "    <tr>\n",
              "      <th>1792</th>\n",
              "      <td>1.338151</td>\n",
              "      <td>-0.593446</td>\n",
              "      <td>0.855295</td>\n",
              "    </tr>\n",
              "  </tbody>\n",
              "</table>\n",
              "<p>1793 rows × 3 columns</p>\n",
              "</div>"
            ],
            "text/plain": [
              "      principal_com_1  principal_com_2  principal_com_3\n",
              "0           -2.060376        -1.667195         0.330903\n",
              "1           -1.317771         0.532726         1.013795\n",
              "2           -1.388768         0.174916         0.638287\n",
              "3           -1.535829        -0.540344        -0.112123\n",
              "4           -1.566223        -0.538183        -0.108478\n",
              "...               ...              ...              ...\n",
              "1788         0.657964        -1.060670        -0.760484\n",
              "1789         0.765938        -0.552390         0.924230\n",
              "1790         0.623943        -1.268010         0.173212\n",
              "1791         0.668908        -1.251919         0.879199\n",
              "1792         1.338151        -0.593446         0.855295\n",
              "\n",
              "[1793 rows x 3 columns]"
            ]
          },
          "metadata": {
            "tags": []
          },
          "execution_count": 60
        }
      ]
    },
    {
      "cell_type": "code",
      "metadata": {
        "colab": {
          "base_uri": "https://localhost:8080/"
        },
        "id": "12vk4YfLCHkn",
        "outputId": "beff39c9-ad19-4136-9e6c-d415500144c8"
      },
      "source": [
        "pca.explained_variance_ratio_"
      ],
      "execution_count": 61,
      "outputs": [
        {
          "output_type": "execute_result",
          "data": {
            "text/plain": [
              "array([0.50157675, 0.2900629 , 0.20463178])"
            ]
          },
          "metadata": {
            "tags": []
          },
          "execution_count": 61
        }
      ]
    },
    {
      "cell_type": "code",
      "metadata": {
        "colab": {
          "base_uri": "https://localhost:8080/"
        },
        "id": "XtNVQDB_CHko",
        "outputId": "34279ebc-8221-43c3-bd4b-fbd0c5116ae1"
      },
      "source": [
        "pca.n_components_  "
      ],
      "execution_count": 62,
      "outputs": [
        {
          "output_type": "execute_result",
          "data": {
            "text/plain": [
              "3"
            ]
          },
          "metadata": {
            "tags": []
          },
          "execution_count": 62
        }
      ]
    },
    {
      "cell_type": "code",
      "metadata": {
        "colab": {
          "base_uri": "https://localhost:8080/"
        },
        "id": "kmgp10zw_Z67",
        "outputId": "e853f518-4fad-4f55-df1b-a4fb1f795ba8"
      },
      "source": [
        "pca.components_"
      ],
      "execution_count": 63,
      "outputs": [
        {
          "output_type": "execute_result",
          "data": {
            "text/plain": [
              "array([[-0.70028604, -0.70019604, -0.03055293, -0.13561523],\n",
              "       [ 0.04978031,  0.05088755,  0.72650234, -0.6834667 ],\n",
              "       [ 0.0839788 ,  0.08488779, -0.68648441, -0.71727315]])"
            ]
          },
          "metadata": {
            "tags": []
          },
          "execution_count": 63
        }
      ]
    },
    {
      "cell_type": "code",
      "metadata": {
        "colab": {
          "base_uri": "https://localhost:8080/"
        },
        "id": "E-YDyILz_mjd",
        "outputId": "42423904-7cc1-45d6-e92a-ce6f1b31098a"
      },
      "source": [
        "pca.n_features_"
      ],
      "execution_count": 64,
      "outputs": [
        {
          "output_type": "execute_result",
          "data": {
            "text/plain": [
              "4"
            ]
          },
          "metadata": {
            "tags": []
          },
          "execution_count": 64
        }
      ]
    },
    {
      "cell_type": "markdown",
      "metadata": {
        "id": "dFw-2iFXCHko"
      },
      "source": [
        "##K-means\n",
        "The k-means clustering method is an unsupervised machine learning technique used to identify clusters of data objects in a dataset."
      ]
    },
    {
      "cell_type": "code",
      "metadata": {
        "id": "B9EMMMvbCHko"
      },
      "source": [
        "clusters = 2 # clusters number\n",
        "model = KMeans(init = 'k-means++', \n",
        "               n_clusters = clusters, \n",
        "               n_init = 12)  \n",
        "model.fit(choco_princ)\n",
        "\n",
        "labels = model.labels_"
      ],
      "execution_count": 65,
      "outputs": []
    },
    {
      "cell_type": "code",
      "metadata": {
        "colab": {
          "base_uri": "https://localhost:8080/"
        },
        "id": "W-ITo7h9CHkp",
        "outputId": "bf889115-3094-4e48-a19a-2f0c1da3d867"
      },
      "source": [
        "labels #cluster labels from 0"
      ],
      "execution_count": 66,
      "outputs": [
        {
          "output_type": "execute_result",
          "data": {
            "text/plain": [
              "array([1, 1, 1, ..., 0, 0, 0], dtype=int32)"
            ]
          },
          "metadata": {
            "tags": []
          },
          "execution_count": 66
        }
      ]
    },
    {
      "cell_type": "code",
      "metadata": {
        "colab": {
          "base_uri": "https://localhost:8080/",
          "height": 306
        },
        "id": "1oxPWonzCHkp",
        "outputId": "fd1d9831-495c-4c40-bf37-39282c12c6dc"
      },
      "source": [
        "data['cluster_num'] = labels\n",
        "data.head()"
      ],
      "execution_count": 67,
      "outputs": [
        {
          "output_type": "stream",
          "text": [
            "/usr/local/lib/python3.7/dist-packages/ipykernel_launcher.py:1: SettingWithCopyWarning: \n",
            "A value is trying to be set on a copy of a slice from a DataFrame.\n",
            "Try using .loc[row_indexer,col_indexer] = value instead\n",
            "\n",
            "See the caveats in the documentation: https://pandas.pydata.org/pandas-docs/stable/user_guide/indexing.html#returning-a-view-versus-a-copy\n",
            "  \"\"\"Entry point for launching an IPython kernel.\n"
          ],
          "name": "stderr"
        },
        {
          "output_type": "execute_result",
          "data": {
            "text/html": [
              "<div>\n",
              "<style scoped>\n",
              "    .dataframe tbody tr th:only-of-type {\n",
              "        vertical-align: middle;\n",
              "    }\n",
              "\n",
              "    .dataframe tbody tr th {\n",
              "        vertical-align: top;\n",
              "    }\n",
              "\n",
              "    .dataframe thead th {\n",
              "        text-align: right;\n",
              "    }\n",
              "</style>\n",
              "<table border=\"1\" class=\"dataframe\">\n",
              "  <thead>\n",
              "    <tr style=\"text-align: right;\">\n",
              "      <th></th>\n",
              "      <th>ReviewDataReference</th>\n",
              "      <th>ReviewDate</th>\n",
              "      <th>CocoaPercent</th>\n",
              "      <th>Rating</th>\n",
              "      <th>cluster_num</th>\n",
              "    </tr>\n",
              "  </thead>\n",
              "  <tbody>\n",
              "    <tr>\n",
              "      <th>0</th>\n",
              "      <td>1876</td>\n",
              "      <td>2016</td>\n",
              "      <td>0.63</td>\n",
              "      <td>3.75</td>\n",
              "      <td>1</td>\n",
              "    </tr>\n",
              "    <tr>\n",
              "      <th>1</th>\n",
              "      <td>1676</td>\n",
              "      <td>2015</td>\n",
              "      <td>0.70</td>\n",
              "      <td>2.75</td>\n",
              "      <td>1</td>\n",
              "    </tr>\n",
              "    <tr>\n",
              "      <th>2</th>\n",
              "      <td>1676</td>\n",
              "      <td>2015</td>\n",
              "      <td>0.70</td>\n",
              "      <td>3.00</td>\n",
              "      <td>1</td>\n",
              "    </tr>\n",
              "    <tr>\n",
              "      <th>3</th>\n",
              "      <td>1680</td>\n",
              "      <td>2015</td>\n",
              "      <td>0.70</td>\n",
              "      <td>3.50</td>\n",
              "      <td>1</td>\n",
              "    </tr>\n",
              "    <tr>\n",
              "      <th>4</th>\n",
              "      <td>1704</td>\n",
              "      <td>2015</td>\n",
              "      <td>0.70</td>\n",
              "      <td>3.50</td>\n",
              "      <td>1</td>\n",
              "    </tr>\n",
              "  </tbody>\n",
              "</table>\n",
              "</div>"
            ],
            "text/plain": [
              "   ReviewDataReference  ReviewDate  CocoaPercent  Rating  cluster_num\n",
              "0                 1876        2016          0.63    3.75            1\n",
              "1                 1676        2015          0.70    2.75            1\n",
              "2                 1676        2015          0.70    3.00            1\n",
              "3                 1680        2015          0.70    3.50            1\n",
              "4                 1704        2015          0.70    3.50            1"
            ]
          },
          "metadata": {
            "tags": []
          },
          "execution_count": 67
        }
      ]
    },
    {
      "cell_type": "code",
      "metadata": {
        "colab": {
          "base_uri": "https://localhost:8080/",
          "height": 142
        },
        "id": "anvk22arCHkp",
        "outputId": "5dd918c6-2c0b-4436-8366-bfa57b4673ce"
      },
      "source": [
        "data.groupby('cluster_num').mean()"
      ],
      "execution_count": 68,
      "outputs": [
        {
          "output_type": "execute_result",
          "data": {
            "text/html": [
              "<div>\n",
              "<style scoped>\n",
              "    .dataframe tbody tr th:only-of-type {\n",
              "        vertical-align: middle;\n",
              "    }\n",
              "\n",
              "    .dataframe tbody tr th {\n",
              "        vertical-align: top;\n",
              "    }\n",
              "\n",
              "    .dataframe thead th {\n",
              "        text-align: right;\n",
              "    }\n",
              "</style>\n",
              "<table border=\"1\" class=\"dataframe\">\n",
              "  <thead>\n",
              "    <tr style=\"text-align: right;\">\n",
              "      <th></th>\n",
              "      <th>ReviewDataReference</th>\n",
              "      <th>ReviewDate</th>\n",
              "      <th>CocoaPercent</th>\n",
              "      <th>Rating</th>\n",
              "    </tr>\n",
              "    <tr>\n",
              "      <th>cluster_num</th>\n",
              "      <th></th>\n",
              "      <th></th>\n",
              "      <th></th>\n",
              "      <th></th>\n",
              "    </tr>\n",
              "  </thead>\n",
              "  <tbody>\n",
              "    <tr>\n",
              "      <th>0</th>\n",
              "      <td>490.979301</td>\n",
              "      <td>2009.485123</td>\n",
              "      <td>0.711863</td>\n",
              "      <td>3.112872</td>\n",
              "    </tr>\n",
              "    <tr>\n",
              "      <th>1</th>\n",
              "      <td>1449.261765</td>\n",
              "      <td>2014.479412</td>\n",
              "      <td>0.720877</td>\n",
              "      <td>3.241176</td>\n",
              "    </tr>\n",
              "  </tbody>\n",
              "</table>\n",
              "</div>"
            ],
            "text/plain": [
              "             ReviewDataReference   ReviewDate  CocoaPercent    Rating\n",
              "cluster_num                                                          \n",
              "0                     490.979301  2009.485123      0.711863  3.112872\n",
              "1                    1449.261765  2014.479412      0.720877  3.241176"
            ]
          },
          "metadata": {
            "tags": []
          },
          "execution_count": 68
        }
      ]
    },
    {
      "cell_type": "code",
      "metadata": {
        "colab": {
          "base_uri": "https://localhost:8080/",
          "height": 687
        },
        "id": "53Hn0mw3CHkp",
        "outputId": "5705359e-d88d-4900-b63e-cfaa0007d8a0"
      },
      "source": [
        "sns.scatterplot('Rating', 'CocoaPercent', \n",
        "               data = data, \n",
        "              # s = area, \n",
        "               hue = 'cluster_num', \n",
        "               palette = 'spring', \n",
        "               alpha = 0.6, \n",
        "               edgecolor = 'darkgrey',\n",
        "               legend='full') "
      ],
      "execution_count": 69,
      "outputs": [
        {
          "output_type": "stream",
          "text": [
            "/usr/local/lib/python3.7/dist-packages/seaborn/_decorators.py:43: FutureWarning: Pass the following variables as keyword args: x, y. From version 0.12, the only valid positional argument will be `data`, and passing other arguments without an explicit keyword will result in an error or misinterpretation.\n",
            "  FutureWarning\n"
          ],
          "name": "stderr"
        },
        {
          "output_type": "execute_result",
          "data": {
            "text/plain": [
              "<matplotlib.axes._subplots.AxesSubplot at 0x7f51709d3b90>"
            ]
          },
          "metadata": {
            "tags": []
          },
          "execution_count": 69
        },
        {
          "output_type": "display_data",
          "data": {
            "image/png": "[encoded data removed]",
            "text/plain": [
              "<Figure size 1440x720 with 1 Axes>"
            ]
          },
          "metadata": {
            "tags": [],
            "needs_background": "light"
          }
        }
      ]
    },
    {
      "cell_type": "markdown",
      "metadata": {
        "id": "mgyEAUfPdZG8"
      },
      "source": [
        "#Recomendation system"
      ]
    },
    {
      "cell_type": "code",
      "metadata": {
        "id": "qg05kNBUdb5V"
      },
      "source": [
        "features = choco.copy(deep=True)"
      ],
      "execution_count": 70,
      "outputs": []
    },
    {
      "cell_type": "code",
      "metadata": {
        "colab": {
          "base_uri": "https://localhost:8080/"
        },
        "id": "DZs7GPZfombm",
        "outputId": "1663396c-87b9-4145-f56a-cb69a7eb982a"
      },
      "source": [
        "features.columns"
      ],
      "execution_count": 71,
      "outputs": [
        {
          "output_type": "execute_result",
          "data": {
            "text/plain": [
              "Index(['Company', 'Name', 'ReviewDataReference', 'ReviewDate', 'CocoaPercent',\n",
              "       'Country', 'Rating', 'BeanType', 'BroadBeanOrigin'],\n",
              "      dtype='object')"
            ]
          },
          "metadata": {
            "tags": []
          },
          "execution_count": 71
        }
      ]
    },
    {
      "cell_type": "code",
      "metadata": {
        "id": "F6P5rc74dj5c"
      },
      "source": [
        "#The function will combine all our useful features from their rows, and return a row with all the combined features in a single string.\n",
        "def combined_features(row):\n",
        "    return row['Name']+\" \"+row['Country']+\" \"+row['BeanType']+\" \"+row['Company']+\" \"+row['BroadBeanOrigin']\n",
        "features[\"combined_features\"] = features.apply(combined_features, axis =1)\n",
        "#preprocessing - descriptive variables converted to numeric\n",
        "companies = list(features['Company'].unique())\n",
        "features['Company'] = features['Company'].apply(lambda x: companies.index(x))\n",
        "\n",
        "countries = list(features['Country'].unique())\n",
        "features['Country'] = features['Country'].apply(lambda x: countries.index(x))\n",
        "\n",
        "beans = list(features['BroadBeanOrigin'].unique())\n",
        "features['BroadBeanOrigin'] = features['BroadBeanOrigin'].apply(lambda x: beans.index(x))\n",
        "\n",
        "beans_type = list(features['BeanType'].unique())\n",
        "features['BeanType'] = features['BeanType'].apply(lambda x: beans_type.index(x))"
      ],
      "execution_count": 72,
      "outputs": []
    },
    {
      "cell_type": "code",
      "metadata": {
        "colab": {
          "base_uri": "https://localhost:8080/",
          "height": 204
        },
        "id": "zFGU-ak5eUED",
        "outputId": "9caa9d0e-f994-45c2-f3dc-a02933e25c27"
      },
      "source": [
        "features.head()"
      ],
      "execution_count": 73,
      "outputs": [
        {
          "output_type": "execute_result",
          "data": {
            "text/html": [
              "<div>\n",
              "<style scoped>\n",
              "    .dataframe tbody tr th:only-of-type {\n",
              "        vertical-align: middle;\n",
              "    }\n",
              "\n",
              "    .dataframe tbody tr th {\n",
              "        vertical-align: top;\n",
              "    }\n",
              "\n",
              "    .dataframe thead th {\n",
              "        text-align: right;\n",
              "    }\n",
              "</style>\n",
              "<table border=\"1\" class=\"dataframe\">\n",
              "  <thead>\n",
              "    <tr style=\"text-align: right;\">\n",
              "      <th></th>\n",
              "      <th>Company</th>\n",
              "      <th>Name</th>\n",
              "      <th>ReviewDataReference</th>\n",
              "      <th>ReviewDate</th>\n",
              "      <th>CocoaPercent</th>\n",
              "      <th>Country</th>\n",
              "      <th>Rating</th>\n",
              "      <th>BeanType</th>\n",
              "      <th>BroadBeanOrigin</th>\n",
              "      <th>combined_features</th>\n",
              "    </tr>\n",
              "  </thead>\n",
              "  <tbody>\n",
              "    <tr>\n",
              "      <th>0</th>\n",
              "      <td>0</td>\n",
              "      <td>Agua Grande</td>\n",
              "      <td>1876</td>\n",
              "      <td>2016</td>\n",
              "      <td>0.63</td>\n",
              "      <td>0</td>\n",
              "      <td>3.75</td>\n",
              "      <td>0</td>\n",
              "      <td>0</td>\n",
              "      <td>Agua Grande France  A. Morin Sao Tome</td>\n",
              "    </tr>\n",
              "    <tr>\n",
              "      <th>1</th>\n",
              "      <td>0</td>\n",
              "      <td>Kpime</td>\n",
              "      <td>1676</td>\n",
              "      <td>2015</td>\n",
              "      <td>0.70</td>\n",
              "      <td>0</td>\n",
              "      <td>2.75</td>\n",
              "      <td>0</td>\n",
              "      <td>1</td>\n",
              "      <td>Kpime France  A. Morin Togo</td>\n",
              "    </tr>\n",
              "    <tr>\n",
              "      <th>2</th>\n",
              "      <td>0</td>\n",
              "      <td>Atsane</td>\n",
              "      <td>1676</td>\n",
              "      <td>2015</td>\n",
              "      <td>0.70</td>\n",
              "      <td>0</td>\n",
              "      <td>3.00</td>\n",
              "      <td>0</td>\n",
              "      <td>1</td>\n",
              "      <td>Atsane France  A. Morin Togo</td>\n",
              "    </tr>\n",
              "    <tr>\n",
              "      <th>3</th>\n",
              "      <td>0</td>\n",
              "      <td>Akata</td>\n",
              "      <td>1680</td>\n",
              "      <td>2015</td>\n",
              "      <td>0.70</td>\n",
              "      <td>0</td>\n",
              "      <td>3.50</td>\n",
              "      <td>0</td>\n",
              "      <td>1</td>\n",
              "      <td>Akata France  A. Morin Togo</td>\n",
              "    </tr>\n",
              "    <tr>\n",
              "      <th>4</th>\n",
              "      <td>0</td>\n",
              "      <td>Quilla</td>\n",
              "      <td>1704</td>\n",
              "      <td>2015</td>\n",
              "      <td>0.70</td>\n",
              "      <td>0</td>\n",
              "      <td>3.50</td>\n",
              "      <td>0</td>\n",
              "      <td>2</td>\n",
              "      <td>Quilla France  A. Morin Peru</td>\n",
              "    </tr>\n",
              "  </tbody>\n",
              "</table>\n",
              "</div>"
            ],
            "text/plain": [
              "   Company         Name  ...  BroadBeanOrigin                      combined_features\n",
              "0        0  Agua Grande  ...                0  Agua Grande France  A. Morin Sao Tome\n",
              "1        0        Kpime  ...                1            Kpime France  A. Morin Togo\n",
              "2        0       Atsane  ...                1           Atsane France  A. Morin Togo\n",
              "3        0        Akata  ...                1            Akata France  A. Morin Togo\n",
              "4        0       Quilla  ...                2           Quilla France  A. Morin Peru\n",
              "\n",
              "[5 rows x 10 columns]"
            ]
          },
          "metadata": {
            "tags": []
          },
          "execution_count": 73
        }
      ]
    },
    {
      "cell_type": "markdown",
      "metadata": {
        "id": "4R650nUiehQl"
      },
      "source": [
        "##Matrix for similarity"
      ]
    },
    {
      "cell_type": "markdown",
      "metadata": {
        "id": "AQfIzGyzskgl"
      },
      "source": [
        "###based on one column combined_features created from descriptive attributes"
      ]
    },
    {
      "cell_type": "code",
      "metadata": {
        "colab": {
          "base_uri": "https://localhost:8080/"
        },
        "id": "gnEVnI_ukqrE",
        "outputId": "b378e3f2-5169-4352-f0fe-32f9453f5493"
      },
      "source": [
        "# CountVectorizer’s fit.tranform  - to count the number of texts and print the transformed matrix count_matrix into an array for better understanding.\n",
        "cv = CountVectorizer()\n",
        "count_matrix = cv.fit_transform(features[\"combined_features\"])\n",
        "print(\"Count Matrix:\", count_matrix.toarray())"
      ],
      "execution_count": 74,
      "outputs": [
        {
          "output_type": "stream",
          "text": [
            "Count Matrix: [[0 0 0 ... 0 0 0]\n",
            " [0 0 0 ... 0 0 0]\n",
            " [0 0 0 ... 0 0 0]\n",
            " ...\n",
            " [0 0 0 ... 0 1 0]\n",
            " [0 0 0 ... 0 1 0]\n",
            " [0 0 0 ... 0 1 0]]\n"
          ],
          "name": "stdout"
        }
      ]
    },
    {
      "cell_type": "code",
      "metadata": {
        "id": "aJjRHyg7lAz5"
      },
      "source": [
        "#Metric to compute the similarity between two chocos.\n",
        "#Cosine similarity is a metric used to measure how similar two items are. 0 means no similarity, where as 1 means that both the items are 100% similar.\n",
        "#The cosine_sim matrix is a numpy array with calculated cosine similarity between each chocos.\n",
        "cosine_sim = cosine_similarity(count_matrix)"
      ],
      "execution_count": 75,
      "outputs": []
    },
    {
      "cell_type": "code",
      "metadata": {
        "colab": {
          "base_uri": "https://localhost:8080/",
          "height": 408
        },
        "id": "ksOuymvlpuI3",
        "outputId": "ca5e256a-3ba6-4939-d4c8-09e49837a883"
      },
      "source": [
        "#Look at the matrix. The cosine similarity of choco 0 with choco 0 is 1; they are 100% similar (as should be).\n",
        "#The cosine similarity between choco 0 and choco 1 is 0.408248 (the same score between choco 1 and choco 0 — order does not matter\n",
        "#Choco 1 and 2 are more similar to each other (with a similarity score of 0.750000) than movies 0 and 1 (score = 0.408248).\n",
        "pd.DataFrame(cosine_sim[:10])"
      ],
      "execution_count": 76,
      "outputs": [
        {
          "output_type": "execute_result",
          "data": {
            "text/html": [
              "<div>\n",
              "<style scoped>\n",
              "    .dataframe tbody tr th:only-of-type {\n",
              "        vertical-align: middle;\n",
              "    }\n",
              "\n",
              "    .dataframe tbody tr th {\n",
              "        vertical-align: top;\n",
              "    }\n",
              "\n",
              "    .dataframe thead th {\n",
              "        text-align: right;\n",
              "    }\n",
              "</style>\n",
              "<table border=\"1\" class=\"dataframe\">\n",
              "  <thead>\n",
              "    <tr style=\"text-align: right;\">\n",
              "      <th></th>\n",
              "      <th>0</th>\n",
              "      <th>1</th>\n",
              "      <th>2</th>\n",
              "      <th>3</th>\n",
              "      <th>4</th>\n",
              "      <th>5</th>\n",
              "      <th>6</th>\n",
              "      <th>7</th>\n",
              "      <th>8</th>\n",
              "      <th>9</th>\n",
              "      <th>10</th>\n",
              "      <th>11</th>\n",
              "      <th>12</th>\n",
              "      <th>13</th>\n",
              "      <th>14</th>\n",
              "      <th>15</th>\n",
              "      <th>16</th>\n",
              "      <th>17</th>\n",
              "      <th>18</th>\n",
              "      <th>19</th>\n",
              "      <th>20</th>\n",
              "      <th>21</th>\n",
              "      <th>22</th>\n",
              "      <th>23</th>\n",
              "      <th>24</th>\n",
              "      <th>25</th>\n",
              "      <th>26</th>\n",
              "      <th>27</th>\n",
              "      <th>28</th>\n",
              "      <th>29</th>\n",
              "      <th>30</th>\n",
              "      <th>31</th>\n",
              "      <th>32</th>\n",
              "      <th>33</th>\n",
              "      <th>34</th>\n",
              "      <th>35</th>\n",
              "      <th>36</th>\n",
              "      <th>37</th>\n",
              "      <th>38</th>\n",
              "      <th>39</th>\n",
              "      <th>...</th>\n",
              "      <th>1753</th>\n",
              "      <th>1754</th>\n",
              "      <th>1755</th>\n",
              "      <th>1756</th>\n",
              "      <th>1757</th>\n",
              "      <th>1758</th>\n",
              "      <th>1759</th>\n",
              "      <th>1760</th>\n",
              "      <th>1761</th>\n",
              "      <th>1762</th>\n",
              "      <th>1763</th>\n",
              "      <th>1764</th>\n",
              "      <th>1765</th>\n",
              "      <th>1766</th>\n",
              "      <th>1767</th>\n",
              "      <th>1768</th>\n",
              "      <th>1769</th>\n",
              "      <th>1770</th>\n",
              "      <th>1771</th>\n",
              "      <th>1772</th>\n",
              "      <th>1773</th>\n",
              "      <th>1774</th>\n",
              "      <th>1775</th>\n",
              "      <th>1776</th>\n",
              "      <th>1777</th>\n",
              "      <th>1778</th>\n",
              "      <th>1779</th>\n",
              "      <th>1780</th>\n",
              "      <th>1781</th>\n",
              "      <th>1782</th>\n",
              "      <th>1783</th>\n",
              "      <th>1784</th>\n",
              "      <th>1785</th>\n",
              "      <th>1786</th>\n",
              "      <th>1787</th>\n",
              "      <th>1788</th>\n",
              "      <th>1789</th>\n",
              "      <th>1790</th>\n",
              "      <th>1791</th>\n",
              "      <th>1792</th>\n",
              "    </tr>\n",
              "  </thead>\n",
              "  <tbody>\n",
              "    <tr>\n",
              "      <th>0</th>\n",
              "      <td>1.000000</td>\n",
              "      <td>0.408248</td>\n",
              "      <td>0.408248</td>\n",
              "      <td>0.408248</td>\n",
              "      <td>0.408248</td>\n",
              "      <td>0.365148</td>\n",
              "      <td>0.333333</td>\n",
              "      <td>0.308607</td>\n",
              "      <td>0.333333</td>\n",
              "      <td>0.408248</td>\n",
              "      <td>0.333333</td>\n",
              "      <td>0.308607</td>\n",
              "      <td>0.333333</td>\n",
              "      <td>0.408248</td>\n",
              "      <td>0.408248</td>\n",
              "      <td>0.408248</td>\n",
              "      <td>0.218218</td>\n",
              "      <td>0.365148</td>\n",
              "      <td>0.408248</td>\n",
              "      <td>0.365148</td>\n",
              "      <td>0.365148</td>\n",
              "      <td>0.333333</td>\n",
              "      <td>0.333333</td>\n",
              "      <td>0.000000</td>\n",
              "      <td>0.000000</td>\n",
              "      <td>0.0</td>\n",
              "      <td>0.0</td>\n",
              "      <td>0.0</td>\n",
              "      <td>0.0</td>\n",
              "      <td>0.0</td>\n",
              "      <td>0.0</td>\n",
              "      <td>0.000000</td>\n",
              "      <td>0.0</td>\n",
              "      <td>0.000000</td>\n",
              "      <td>0.0</td>\n",
              "      <td>0.166667</td>\n",
              "      <td>0.144338</td>\n",
              "      <td>0.144338</td>\n",
              "      <td>0.166667</td>\n",
              "      <td>0.166667</td>\n",
              "      <td>...</td>\n",
              "      <td>0.0</td>\n",
              "      <td>0.000000</td>\n",
              "      <td>0.0</td>\n",
              "      <td>0.0</td>\n",
              "      <td>0.0</td>\n",
              "      <td>0.0</td>\n",
              "      <td>0.0</td>\n",
              "      <td>0.0</td>\n",
              "      <td>0.0</td>\n",
              "      <td>0.000000</td>\n",
              "      <td>0.0</td>\n",
              "      <td>0.0</td>\n",
              "      <td>0.000000</td>\n",
              "      <td>0.0</td>\n",
              "      <td>0.0</td>\n",
              "      <td>0.000000</td>\n",
              "      <td>0.000000</td>\n",
              "      <td>0.0</td>\n",
              "      <td>0.0</td>\n",
              "      <td>0.0</td>\n",
              "      <td>0.0</td>\n",
              "      <td>0.0</td>\n",
              "      <td>0.0</td>\n",
              "      <td>0.0</td>\n",
              "      <td>0.000000</td>\n",
              "      <td>0.0</td>\n",
              "      <td>0.000000</td>\n",
              "      <td>0.000000</td>\n",
              "      <td>0.0</td>\n",
              "      <td>0.0</td>\n",
              "      <td>0.000000</td>\n",
              "      <td>0.0</td>\n",
              "      <td>0.0</td>\n",
              "      <td>0.0</td>\n",
              "      <td>0.0</td>\n",
              "      <td>0.000000</td>\n",
              "      <td>0.0</td>\n",
              "      <td>0.0</td>\n",
              "      <td>0.0</td>\n",
              "      <td>0.0</td>\n",
              "    </tr>\n",
              "    <tr>\n",
              "      <th>1</th>\n",
              "      <td>0.408248</td>\n",
              "      <td>1.000000</td>\n",
              "      <td>0.750000</td>\n",
              "      <td>0.750000</td>\n",
              "      <td>0.500000</td>\n",
              "      <td>0.447214</td>\n",
              "      <td>0.408248</td>\n",
              "      <td>0.377964</td>\n",
              "      <td>0.408248</td>\n",
              "      <td>0.500000</td>\n",
              "      <td>0.408248</td>\n",
              "      <td>0.377964</td>\n",
              "      <td>0.408248</td>\n",
              "      <td>0.500000</td>\n",
              "      <td>0.500000</td>\n",
              "      <td>0.500000</td>\n",
              "      <td>0.267261</td>\n",
              "      <td>0.447214</td>\n",
              "      <td>0.500000</td>\n",
              "      <td>0.447214</td>\n",
              "      <td>0.447214</td>\n",
              "      <td>0.408248</td>\n",
              "      <td>0.408248</td>\n",
              "      <td>0.000000</td>\n",
              "      <td>0.000000</td>\n",
              "      <td>0.0</td>\n",
              "      <td>0.0</td>\n",
              "      <td>0.0</td>\n",
              "      <td>0.0</td>\n",
              "      <td>0.0</td>\n",
              "      <td>0.0</td>\n",
              "      <td>0.000000</td>\n",
              "      <td>0.0</td>\n",
              "      <td>0.000000</td>\n",
              "      <td>0.0</td>\n",
              "      <td>0.204124</td>\n",
              "      <td>0.176777</td>\n",
              "      <td>0.176777</td>\n",
              "      <td>0.204124</td>\n",
              "      <td>0.204124</td>\n",
              "      <td>...</td>\n",
              "      <td>0.0</td>\n",
              "      <td>0.000000</td>\n",
              "      <td>0.0</td>\n",
              "      <td>0.0</td>\n",
              "      <td>0.0</td>\n",
              "      <td>0.0</td>\n",
              "      <td>0.0</td>\n",
              "      <td>0.0</td>\n",
              "      <td>0.0</td>\n",
              "      <td>0.000000</td>\n",
              "      <td>0.0</td>\n",
              "      <td>0.0</td>\n",
              "      <td>0.000000</td>\n",
              "      <td>0.0</td>\n",
              "      <td>0.0</td>\n",
              "      <td>0.000000</td>\n",
              "      <td>0.000000</td>\n",
              "      <td>0.0</td>\n",
              "      <td>0.0</td>\n",
              "      <td>0.0</td>\n",
              "      <td>0.0</td>\n",
              "      <td>0.0</td>\n",
              "      <td>0.0</td>\n",
              "      <td>0.0</td>\n",
              "      <td>0.000000</td>\n",
              "      <td>0.0</td>\n",
              "      <td>0.000000</td>\n",
              "      <td>0.000000</td>\n",
              "      <td>0.0</td>\n",
              "      <td>0.0</td>\n",
              "      <td>0.000000</td>\n",
              "      <td>0.0</td>\n",
              "      <td>0.0</td>\n",
              "      <td>0.0</td>\n",
              "      <td>0.0</td>\n",
              "      <td>0.000000</td>\n",
              "      <td>0.0</td>\n",
              "      <td>0.0</td>\n",
              "      <td>0.0</td>\n",
              "      <td>0.0</td>\n",
              "    </tr>\n",
              "    <tr>\n",
              "      <th>2</th>\n",
              "      <td>0.408248</td>\n",
              "      <td>0.750000</td>\n",
              "      <td>1.000000</td>\n",
              "      <td>0.750000</td>\n",
              "      <td>0.500000</td>\n",
              "      <td>0.447214</td>\n",
              "      <td>0.408248</td>\n",
              "      <td>0.377964</td>\n",
              "      <td>0.408248</td>\n",
              "      <td>0.500000</td>\n",
              "      <td>0.408248</td>\n",
              "      <td>0.377964</td>\n",
              "      <td>0.408248</td>\n",
              "      <td>0.500000</td>\n",
              "      <td>0.500000</td>\n",
              "      <td>0.500000</td>\n",
              "      <td>0.267261</td>\n",
              "      <td>0.447214</td>\n",
              "      <td>0.500000</td>\n",
              "      <td>0.447214</td>\n",
              "      <td>0.447214</td>\n",
              "      <td>0.408248</td>\n",
              "      <td>0.408248</td>\n",
              "      <td>0.000000</td>\n",
              "      <td>0.000000</td>\n",
              "      <td>0.0</td>\n",
              "      <td>0.0</td>\n",
              "      <td>0.0</td>\n",
              "      <td>0.0</td>\n",
              "      <td>0.0</td>\n",
              "      <td>0.0</td>\n",
              "      <td>0.000000</td>\n",
              "      <td>0.0</td>\n",
              "      <td>0.000000</td>\n",
              "      <td>0.0</td>\n",
              "      <td>0.204124</td>\n",
              "      <td>0.176777</td>\n",
              "      <td>0.176777</td>\n",
              "      <td>0.204124</td>\n",
              "      <td>0.204124</td>\n",
              "      <td>...</td>\n",
              "      <td>0.0</td>\n",
              "      <td>0.000000</td>\n",
              "      <td>0.0</td>\n",
              "      <td>0.0</td>\n",
              "      <td>0.0</td>\n",
              "      <td>0.0</td>\n",
              "      <td>0.0</td>\n",
              "      <td>0.0</td>\n",
              "      <td>0.0</td>\n",
              "      <td>0.000000</td>\n",
              "      <td>0.0</td>\n",
              "      <td>0.0</td>\n",
              "      <td>0.000000</td>\n",
              "      <td>0.0</td>\n",
              "      <td>0.0</td>\n",
              "      <td>0.000000</td>\n",
              "      <td>0.000000</td>\n",
              "      <td>0.0</td>\n",
              "      <td>0.0</td>\n",
              "      <td>0.0</td>\n",
              "      <td>0.0</td>\n",
              "      <td>0.0</td>\n",
              "      <td>0.0</td>\n",
              "      <td>0.0</td>\n",
              "      <td>0.000000</td>\n",
              "      <td>0.0</td>\n",
              "      <td>0.000000</td>\n",
              "      <td>0.000000</td>\n",
              "      <td>0.0</td>\n",
              "      <td>0.0</td>\n",
              "      <td>0.000000</td>\n",
              "      <td>0.0</td>\n",
              "      <td>0.0</td>\n",
              "      <td>0.0</td>\n",
              "      <td>0.0</td>\n",
              "      <td>0.000000</td>\n",
              "      <td>0.0</td>\n",
              "      <td>0.0</td>\n",
              "      <td>0.0</td>\n",
              "      <td>0.0</td>\n",
              "    </tr>\n",
              "    <tr>\n",
              "      <th>3</th>\n",
              "      <td>0.408248</td>\n",
              "      <td>0.750000</td>\n",
              "      <td>0.750000</td>\n",
              "      <td>1.000000</td>\n",
              "      <td>0.500000</td>\n",
              "      <td>0.447214</td>\n",
              "      <td>0.408248</td>\n",
              "      <td>0.377964</td>\n",
              "      <td>0.408248</td>\n",
              "      <td>0.500000</td>\n",
              "      <td>0.408248</td>\n",
              "      <td>0.377964</td>\n",
              "      <td>0.408248</td>\n",
              "      <td>0.500000</td>\n",
              "      <td>0.500000</td>\n",
              "      <td>0.500000</td>\n",
              "      <td>0.267261</td>\n",
              "      <td>0.447214</td>\n",
              "      <td>0.500000</td>\n",
              "      <td>0.447214</td>\n",
              "      <td>0.447214</td>\n",
              "      <td>0.408248</td>\n",
              "      <td>0.408248</td>\n",
              "      <td>0.000000</td>\n",
              "      <td>0.000000</td>\n",
              "      <td>0.0</td>\n",
              "      <td>0.0</td>\n",
              "      <td>0.0</td>\n",
              "      <td>0.0</td>\n",
              "      <td>0.0</td>\n",
              "      <td>0.0</td>\n",
              "      <td>0.000000</td>\n",
              "      <td>0.0</td>\n",
              "      <td>0.000000</td>\n",
              "      <td>0.0</td>\n",
              "      <td>0.204124</td>\n",
              "      <td>0.176777</td>\n",
              "      <td>0.176777</td>\n",
              "      <td>0.204124</td>\n",
              "      <td>0.204124</td>\n",
              "      <td>...</td>\n",
              "      <td>0.0</td>\n",
              "      <td>0.000000</td>\n",
              "      <td>0.0</td>\n",
              "      <td>0.0</td>\n",
              "      <td>0.0</td>\n",
              "      <td>0.0</td>\n",
              "      <td>0.0</td>\n",
              "      <td>0.0</td>\n",
              "      <td>0.0</td>\n",
              "      <td>0.000000</td>\n",
              "      <td>0.0</td>\n",
              "      <td>0.0</td>\n",
              "      <td>0.000000</td>\n",
              "      <td>0.0</td>\n",
              "      <td>0.0</td>\n",
              "      <td>0.000000</td>\n",
              "      <td>0.000000</td>\n",
              "      <td>0.0</td>\n",
              "      <td>0.0</td>\n",
              "      <td>0.0</td>\n",
              "      <td>0.0</td>\n",
              "      <td>0.0</td>\n",
              "      <td>0.0</td>\n",
              "      <td>0.0</td>\n",
              "      <td>0.000000</td>\n",
              "      <td>0.0</td>\n",
              "      <td>0.000000</td>\n",
              "      <td>0.000000</td>\n",
              "      <td>0.0</td>\n",
              "      <td>0.0</td>\n",
              "      <td>0.000000</td>\n",
              "      <td>0.0</td>\n",
              "      <td>0.0</td>\n",
              "      <td>0.0</td>\n",
              "      <td>0.0</td>\n",
              "      <td>0.000000</td>\n",
              "      <td>0.0</td>\n",
              "      <td>0.0</td>\n",
              "      <td>0.0</td>\n",
              "      <td>0.0</td>\n",
              "    </tr>\n",
              "    <tr>\n",
              "      <th>4</th>\n",
              "      <td>0.408248</td>\n",
              "      <td>0.500000</td>\n",
              "      <td>0.500000</td>\n",
              "      <td>0.500000</td>\n",
              "      <td>1.000000</td>\n",
              "      <td>0.447214</td>\n",
              "      <td>0.408248</td>\n",
              "      <td>0.377964</td>\n",
              "      <td>0.408248</td>\n",
              "      <td>0.750000</td>\n",
              "      <td>0.408248</td>\n",
              "      <td>0.377964</td>\n",
              "      <td>0.408248</td>\n",
              "      <td>0.500000</td>\n",
              "      <td>0.500000</td>\n",
              "      <td>0.500000</td>\n",
              "      <td>0.267261</td>\n",
              "      <td>0.447214</td>\n",
              "      <td>0.750000</td>\n",
              "      <td>0.670820</td>\n",
              "      <td>0.670820</td>\n",
              "      <td>0.408248</td>\n",
              "      <td>0.816497</td>\n",
              "      <td>0.223607</td>\n",
              "      <td>0.223607</td>\n",
              "      <td>0.0</td>\n",
              "      <td>0.0</td>\n",
              "      <td>0.0</td>\n",
              "      <td>0.0</td>\n",
              "      <td>0.0</td>\n",
              "      <td>0.0</td>\n",
              "      <td>0.000000</td>\n",
              "      <td>0.0</td>\n",
              "      <td>0.000000</td>\n",
              "      <td>0.0</td>\n",
              "      <td>0.204124</td>\n",
              "      <td>0.176777</td>\n",
              "      <td>0.176777</td>\n",
              "      <td>0.204124</td>\n",
              "      <td>0.408248</td>\n",
              "      <td>...</td>\n",
              "      <td>0.0</td>\n",
              "      <td>0.000000</td>\n",
              "      <td>0.0</td>\n",
              "      <td>0.0</td>\n",
              "      <td>0.0</td>\n",
              "      <td>0.0</td>\n",
              "      <td>0.0</td>\n",
              "      <td>0.0</td>\n",
              "      <td>0.0</td>\n",
              "      <td>0.408248</td>\n",
              "      <td>0.0</td>\n",
              "      <td>0.0</td>\n",
              "      <td>0.000000</td>\n",
              "      <td>0.0</td>\n",
              "      <td>0.0</td>\n",
              "      <td>0.000000</td>\n",
              "      <td>0.000000</td>\n",
              "      <td>0.0</td>\n",
              "      <td>0.0</td>\n",
              "      <td>0.0</td>\n",
              "      <td>0.0</td>\n",
              "      <td>0.0</td>\n",
              "      <td>0.0</td>\n",
              "      <td>0.0</td>\n",
              "      <td>0.000000</td>\n",
              "      <td>0.0</td>\n",
              "      <td>0.158114</td>\n",
              "      <td>0.158114</td>\n",
              "      <td>0.0</td>\n",
              "      <td>0.0</td>\n",
              "      <td>0.000000</td>\n",
              "      <td>0.0</td>\n",
              "      <td>0.0</td>\n",
              "      <td>0.0</td>\n",
              "      <td>0.0</td>\n",
              "      <td>0.408248</td>\n",
              "      <td>0.0</td>\n",
              "      <td>0.0</td>\n",
              "      <td>0.0</td>\n",
              "      <td>0.0</td>\n",
              "    </tr>\n",
              "    <tr>\n",
              "      <th>5</th>\n",
              "      <td>0.365148</td>\n",
              "      <td>0.447214</td>\n",
              "      <td>0.447214</td>\n",
              "      <td>0.447214</td>\n",
              "      <td>0.447214</td>\n",
              "      <td>1.000000</td>\n",
              "      <td>0.365148</td>\n",
              "      <td>0.676123</td>\n",
              "      <td>0.730297</td>\n",
              "      <td>0.447214</td>\n",
              "      <td>0.365148</td>\n",
              "      <td>0.507093</td>\n",
              "      <td>0.365148</td>\n",
              "      <td>0.447214</td>\n",
              "      <td>0.447214</td>\n",
              "      <td>0.447214</td>\n",
              "      <td>0.239046</td>\n",
              "      <td>0.600000</td>\n",
              "      <td>0.447214</td>\n",
              "      <td>0.400000</td>\n",
              "      <td>0.400000</td>\n",
              "      <td>0.365148</td>\n",
              "      <td>0.365148</td>\n",
              "      <td>0.000000</td>\n",
              "      <td>0.200000</td>\n",
              "      <td>0.0</td>\n",
              "      <td>0.0</td>\n",
              "      <td>0.0</td>\n",
              "      <td>0.0</td>\n",
              "      <td>0.0</td>\n",
              "      <td>0.0</td>\n",
              "      <td>0.158114</td>\n",
              "      <td>0.0</td>\n",
              "      <td>0.149071</td>\n",
              "      <td>0.0</td>\n",
              "      <td>0.182574</td>\n",
              "      <td>0.158114</td>\n",
              "      <td>0.158114</td>\n",
              "      <td>0.365148</td>\n",
              "      <td>0.182574</td>\n",
              "      <td>...</td>\n",
              "      <td>0.0</td>\n",
              "      <td>0.258199</td>\n",
              "      <td>0.0</td>\n",
              "      <td>0.0</td>\n",
              "      <td>0.0</td>\n",
              "      <td>0.0</td>\n",
              "      <td>0.0</td>\n",
              "      <td>0.0</td>\n",
              "      <td>0.0</td>\n",
              "      <td>0.000000</td>\n",
              "      <td>0.0</td>\n",
              "      <td>0.0</td>\n",
              "      <td>0.158114</td>\n",
              "      <td>0.0</td>\n",
              "      <td>0.0</td>\n",
              "      <td>0.141421</td>\n",
              "      <td>0.141421</td>\n",
              "      <td>0.0</td>\n",
              "      <td>0.0</td>\n",
              "      <td>0.0</td>\n",
              "      <td>0.0</td>\n",
              "      <td>0.0</td>\n",
              "      <td>0.0</td>\n",
              "      <td>0.0</td>\n",
              "      <td>0.000000</td>\n",
              "      <td>0.0</td>\n",
              "      <td>0.141421</td>\n",
              "      <td>0.141421</td>\n",
              "      <td>0.0</td>\n",
              "      <td>0.0</td>\n",
              "      <td>0.149071</td>\n",
              "      <td>0.0</td>\n",
              "      <td>0.0</td>\n",
              "      <td>0.0</td>\n",
              "      <td>0.0</td>\n",
              "      <td>0.000000</td>\n",
              "      <td>0.0</td>\n",
              "      <td>0.0</td>\n",
              "      <td>0.0</td>\n",
              "      <td>0.0</td>\n",
              "    </tr>\n",
              "    <tr>\n",
              "      <th>6</th>\n",
              "      <td>0.333333</td>\n",
              "      <td>0.408248</td>\n",
              "      <td>0.408248</td>\n",
              "      <td>0.408248</td>\n",
              "      <td>0.408248</td>\n",
              "      <td>0.365148</td>\n",
              "      <td>1.000000</td>\n",
              "      <td>0.308607</td>\n",
              "      <td>0.333333</td>\n",
              "      <td>0.408248</td>\n",
              "      <td>0.333333</td>\n",
              "      <td>0.308607</td>\n",
              "      <td>0.333333</td>\n",
              "      <td>0.408248</td>\n",
              "      <td>0.408248</td>\n",
              "      <td>0.408248</td>\n",
              "      <td>0.218218</td>\n",
              "      <td>0.365148</td>\n",
              "      <td>0.408248</td>\n",
              "      <td>0.365148</td>\n",
              "      <td>0.365148</td>\n",
              "      <td>0.333333</td>\n",
              "      <td>0.333333</td>\n",
              "      <td>0.000000</td>\n",
              "      <td>0.000000</td>\n",
              "      <td>0.0</td>\n",
              "      <td>0.0</td>\n",
              "      <td>0.0</td>\n",
              "      <td>0.0</td>\n",
              "      <td>0.0</td>\n",
              "      <td>0.0</td>\n",
              "      <td>0.000000</td>\n",
              "      <td>0.0</td>\n",
              "      <td>0.000000</td>\n",
              "      <td>0.0</td>\n",
              "      <td>0.166667</td>\n",
              "      <td>0.144338</td>\n",
              "      <td>0.144338</td>\n",
              "      <td>0.166667</td>\n",
              "      <td>0.166667</td>\n",
              "      <td>...</td>\n",
              "      <td>0.0</td>\n",
              "      <td>0.000000</td>\n",
              "      <td>0.0</td>\n",
              "      <td>0.0</td>\n",
              "      <td>0.0</td>\n",
              "      <td>0.0</td>\n",
              "      <td>0.0</td>\n",
              "      <td>0.0</td>\n",
              "      <td>0.0</td>\n",
              "      <td>0.000000</td>\n",
              "      <td>0.0</td>\n",
              "      <td>0.0</td>\n",
              "      <td>0.000000</td>\n",
              "      <td>0.0</td>\n",
              "      <td>0.0</td>\n",
              "      <td>0.000000</td>\n",
              "      <td>0.000000</td>\n",
              "      <td>0.0</td>\n",
              "      <td>0.0</td>\n",
              "      <td>0.0</td>\n",
              "      <td>0.0</td>\n",
              "      <td>0.0</td>\n",
              "      <td>0.0</td>\n",
              "      <td>0.0</td>\n",
              "      <td>0.000000</td>\n",
              "      <td>0.0</td>\n",
              "      <td>0.000000</td>\n",
              "      <td>0.000000</td>\n",
              "      <td>0.0</td>\n",
              "      <td>0.0</td>\n",
              "      <td>0.000000</td>\n",
              "      <td>0.0</td>\n",
              "      <td>0.0</td>\n",
              "      <td>0.0</td>\n",
              "      <td>0.0</td>\n",
              "      <td>0.000000</td>\n",
              "      <td>0.0</td>\n",
              "      <td>0.0</td>\n",
              "      <td>0.0</td>\n",
              "      <td>0.0</td>\n",
              "    </tr>\n",
              "    <tr>\n",
              "      <th>7</th>\n",
              "      <td>0.308607</td>\n",
              "      <td>0.377964</td>\n",
              "      <td>0.377964</td>\n",
              "      <td>0.377964</td>\n",
              "      <td>0.377964</td>\n",
              "      <td>0.676123</td>\n",
              "      <td>0.308607</td>\n",
              "      <td>1.000000</td>\n",
              "      <td>0.617213</td>\n",
              "      <td>0.377964</td>\n",
              "      <td>0.308607</td>\n",
              "      <td>0.428571</td>\n",
              "      <td>0.308607</td>\n",
              "      <td>0.377964</td>\n",
              "      <td>0.377964</td>\n",
              "      <td>0.377964</td>\n",
              "      <td>0.202031</td>\n",
              "      <td>0.507093</td>\n",
              "      <td>0.377964</td>\n",
              "      <td>0.338062</td>\n",
              "      <td>0.338062</td>\n",
              "      <td>0.308607</td>\n",
              "      <td>0.308607</td>\n",
              "      <td>0.000000</td>\n",
              "      <td>0.169031</td>\n",
              "      <td>0.0</td>\n",
              "      <td>0.0</td>\n",
              "      <td>0.0</td>\n",
              "      <td>0.0</td>\n",
              "      <td>0.0</td>\n",
              "      <td>0.0</td>\n",
              "      <td>0.133631</td>\n",
              "      <td>0.0</td>\n",
              "      <td>0.125988</td>\n",
              "      <td>0.0</td>\n",
              "      <td>0.154303</td>\n",
              "      <td>0.133631</td>\n",
              "      <td>0.133631</td>\n",
              "      <td>0.308607</td>\n",
              "      <td>0.154303</td>\n",
              "      <td>...</td>\n",
              "      <td>0.0</td>\n",
              "      <td>0.218218</td>\n",
              "      <td>0.0</td>\n",
              "      <td>0.0</td>\n",
              "      <td>0.0</td>\n",
              "      <td>0.0</td>\n",
              "      <td>0.0</td>\n",
              "      <td>0.0</td>\n",
              "      <td>0.0</td>\n",
              "      <td>0.000000</td>\n",
              "      <td>0.0</td>\n",
              "      <td>0.0</td>\n",
              "      <td>0.133631</td>\n",
              "      <td>0.0</td>\n",
              "      <td>0.0</td>\n",
              "      <td>0.119523</td>\n",
              "      <td>0.119523</td>\n",
              "      <td>0.0</td>\n",
              "      <td>0.0</td>\n",
              "      <td>0.0</td>\n",
              "      <td>0.0</td>\n",
              "      <td>0.0</td>\n",
              "      <td>0.0</td>\n",
              "      <td>0.0</td>\n",
              "      <td>0.125988</td>\n",
              "      <td>0.0</td>\n",
              "      <td>0.119523</td>\n",
              "      <td>0.119523</td>\n",
              "      <td>0.0</td>\n",
              "      <td>0.0</td>\n",
              "      <td>0.125988</td>\n",
              "      <td>0.0</td>\n",
              "      <td>0.0</td>\n",
              "      <td>0.0</td>\n",
              "      <td>0.0</td>\n",
              "      <td>0.000000</td>\n",
              "      <td>0.0</td>\n",
              "      <td>0.0</td>\n",
              "      <td>0.0</td>\n",
              "      <td>0.0</td>\n",
              "    </tr>\n",
              "    <tr>\n",
              "      <th>8</th>\n",
              "      <td>0.333333</td>\n",
              "      <td>0.408248</td>\n",
              "      <td>0.408248</td>\n",
              "      <td>0.408248</td>\n",
              "      <td>0.408248</td>\n",
              "      <td>0.730297</td>\n",
              "      <td>0.333333</td>\n",
              "      <td>0.617213</td>\n",
              "      <td>1.000000</td>\n",
              "      <td>0.408248</td>\n",
              "      <td>0.333333</td>\n",
              "      <td>0.462910</td>\n",
              "      <td>0.333333</td>\n",
              "      <td>0.408248</td>\n",
              "      <td>0.408248</td>\n",
              "      <td>0.408248</td>\n",
              "      <td>0.218218</td>\n",
              "      <td>0.547723</td>\n",
              "      <td>0.408248</td>\n",
              "      <td>0.365148</td>\n",
              "      <td>0.365148</td>\n",
              "      <td>0.333333</td>\n",
              "      <td>0.333333</td>\n",
              "      <td>0.000000</td>\n",
              "      <td>0.182574</td>\n",
              "      <td>0.0</td>\n",
              "      <td>0.0</td>\n",
              "      <td>0.0</td>\n",
              "      <td>0.0</td>\n",
              "      <td>0.0</td>\n",
              "      <td>0.0</td>\n",
              "      <td>0.144338</td>\n",
              "      <td>0.0</td>\n",
              "      <td>0.136083</td>\n",
              "      <td>0.0</td>\n",
              "      <td>0.166667</td>\n",
              "      <td>0.144338</td>\n",
              "      <td>0.144338</td>\n",
              "      <td>0.333333</td>\n",
              "      <td>0.166667</td>\n",
              "      <td>...</td>\n",
              "      <td>0.0</td>\n",
              "      <td>0.235702</td>\n",
              "      <td>0.0</td>\n",
              "      <td>0.0</td>\n",
              "      <td>0.0</td>\n",
              "      <td>0.0</td>\n",
              "      <td>0.0</td>\n",
              "      <td>0.0</td>\n",
              "      <td>0.0</td>\n",
              "      <td>0.000000</td>\n",
              "      <td>0.0</td>\n",
              "      <td>0.0</td>\n",
              "      <td>0.144338</td>\n",
              "      <td>0.0</td>\n",
              "      <td>0.0</td>\n",
              "      <td>0.129099</td>\n",
              "      <td>0.129099</td>\n",
              "      <td>0.0</td>\n",
              "      <td>0.0</td>\n",
              "      <td>0.0</td>\n",
              "      <td>0.0</td>\n",
              "      <td>0.0</td>\n",
              "      <td>0.0</td>\n",
              "      <td>0.0</td>\n",
              "      <td>0.000000</td>\n",
              "      <td>0.0</td>\n",
              "      <td>0.129099</td>\n",
              "      <td>0.129099</td>\n",
              "      <td>0.0</td>\n",
              "      <td>0.0</td>\n",
              "      <td>0.136083</td>\n",
              "      <td>0.0</td>\n",
              "      <td>0.0</td>\n",
              "      <td>0.0</td>\n",
              "      <td>0.0</td>\n",
              "      <td>0.000000</td>\n",
              "      <td>0.0</td>\n",
              "      <td>0.0</td>\n",
              "      <td>0.0</td>\n",
              "      <td>0.0</td>\n",
              "    </tr>\n",
              "    <tr>\n",
              "      <th>9</th>\n",
              "      <td>0.408248</td>\n",
              "      <td>0.500000</td>\n",
              "      <td>0.500000</td>\n",
              "      <td>0.500000</td>\n",
              "      <td>0.750000</td>\n",
              "      <td>0.447214</td>\n",
              "      <td>0.408248</td>\n",
              "      <td>0.377964</td>\n",
              "      <td>0.408248</td>\n",
              "      <td>1.000000</td>\n",
              "      <td>0.408248</td>\n",
              "      <td>0.377964</td>\n",
              "      <td>0.408248</td>\n",
              "      <td>0.500000</td>\n",
              "      <td>0.500000</td>\n",
              "      <td>0.500000</td>\n",
              "      <td>0.267261</td>\n",
              "      <td>0.447214</td>\n",
              "      <td>0.750000</td>\n",
              "      <td>0.670820</td>\n",
              "      <td>0.670820</td>\n",
              "      <td>0.408248</td>\n",
              "      <td>0.816497</td>\n",
              "      <td>0.223607</td>\n",
              "      <td>0.223607</td>\n",
              "      <td>0.0</td>\n",
              "      <td>0.0</td>\n",
              "      <td>0.0</td>\n",
              "      <td>0.0</td>\n",
              "      <td>0.0</td>\n",
              "      <td>0.0</td>\n",
              "      <td>0.000000</td>\n",
              "      <td>0.0</td>\n",
              "      <td>0.000000</td>\n",
              "      <td>0.0</td>\n",
              "      <td>0.204124</td>\n",
              "      <td>0.176777</td>\n",
              "      <td>0.176777</td>\n",
              "      <td>0.204124</td>\n",
              "      <td>0.408248</td>\n",
              "      <td>...</td>\n",
              "      <td>0.0</td>\n",
              "      <td>0.000000</td>\n",
              "      <td>0.0</td>\n",
              "      <td>0.0</td>\n",
              "      <td>0.0</td>\n",
              "      <td>0.0</td>\n",
              "      <td>0.0</td>\n",
              "      <td>0.0</td>\n",
              "      <td>0.0</td>\n",
              "      <td>0.408248</td>\n",
              "      <td>0.0</td>\n",
              "      <td>0.0</td>\n",
              "      <td>0.000000</td>\n",
              "      <td>0.0</td>\n",
              "      <td>0.0</td>\n",
              "      <td>0.000000</td>\n",
              "      <td>0.000000</td>\n",
              "      <td>0.0</td>\n",
              "      <td>0.0</td>\n",
              "      <td>0.0</td>\n",
              "      <td>0.0</td>\n",
              "      <td>0.0</td>\n",
              "      <td>0.0</td>\n",
              "      <td>0.0</td>\n",
              "      <td>0.000000</td>\n",
              "      <td>0.0</td>\n",
              "      <td>0.158114</td>\n",
              "      <td>0.158114</td>\n",
              "      <td>0.0</td>\n",
              "      <td>0.0</td>\n",
              "      <td>0.000000</td>\n",
              "      <td>0.0</td>\n",
              "      <td>0.0</td>\n",
              "      <td>0.0</td>\n",
              "      <td>0.0</td>\n",
              "      <td>0.408248</td>\n",
              "      <td>0.0</td>\n",
              "      <td>0.0</td>\n",
              "      <td>0.0</td>\n",
              "      <td>0.0</td>\n",
              "    </tr>\n",
              "  </tbody>\n",
              "</table>\n",
              "<p>10 rows × 1793 columns</p>\n",
              "</div>"
            ],
            "text/plain": [
              "       0         1         2         3     ...  1789  1790  1791  1792\n",
              "0  1.000000  0.408248  0.408248  0.408248  ...   0.0   0.0   0.0   0.0\n",
              "1  0.408248  1.000000  0.750000  0.750000  ...   0.0   0.0   0.0   0.0\n",
              "2  0.408248  0.750000  1.000000  0.750000  ...   0.0   0.0   0.0   0.0\n",
              "3  0.408248  0.750000  0.750000  1.000000  ...   0.0   0.0   0.0   0.0\n",
              "4  0.408248  0.500000  0.500000  0.500000  ...   0.0   0.0   0.0   0.0\n",
              "5  0.365148  0.447214  0.447214  0.447214  ...   0.0   0.0   0.0   0.0\n",
              "6  0.333333  0.408248  0.408248  0.408248  ...   0.0   0.0   0.0   0.0\n",
              "7  0.308607  0.377964  0.377964  0.377964  ...   0.0   0.0   0.0   0.0\n",
              "8  0.333333  0.408248  0.408248  0.408248  ...   0.0   0.0   0.0   0.0\n",
              "9  0.408248  0.500000  0.500000  0.500000  ...   0.0   0.0   0.0   0.0\n",
              "\n",
              "[10 rows x 1793 columns]"
            ]
          },
          "metadata": {
            "tags": []
          },
          "execution_count": 76
        }
      ]
    },
    {
      "cell_type": "code",
      "metadata": {
        "colab": {
          "base_uri": "https://localhost:8080/"
        },
        "id": "5oJen1lBlWOo",
        "outputId": "d4239a4e-96c9-47a3-a616-17922fc4130d"
      },
      "source": [
        "#Find choco index for choco I want to find similiarites\n",
        "choco_likes = \"Akata\"\n",
        "def get_index_from_name(name):\n",
        "    return features[features.Name == name].index[0]\n",
        "choco_index = get_index_from_name(choco_likes)\n",
        "choco_index"
      ],
      "execution_count": 77,
      "outputs": [
        {
          "output_type": "execute_result",
          "data": {
            "text/plain": [
              "3"
            ]
          },
          "metadata": {
            "tags": []
          },
          "execution_count": 77
        }
      ]
    },
    {
      "cell_type": "code",
      "metadata": {
        "id": "8hjGgeMJlWfq"
      },
      "source": [
        "#Generate a list of similar choco.\n",
        "# We will use the choco_index of the choco we have given as input choco_likes. \n",
        "#The enumerate() method will add a counter to the iterable list cosine_sim and return it in a form of a list similar_choco with the similarity score of each index.\n",
        "similar_choco = list(enumerate(cosine_sim[choco_index]))"
      ],
      "execution_count": 78,
      "outputs": []
    },
    {
      "cell_type": "code",
      "metadata": {
        "colab": {
          "base_uri": "https://localhost:8080/"
        },
        "id": "UY5gvacArsnd",
        "outputId": "ee7c557f-09bc-4e9a-f433-a798bf023a6b"
      },
      "source": [
        "similar_choco[:20]"
      ],
      "execution_count": 79,
      "outputs": [
        {
          "output_type": "execute_result",
          "data": {
            "text/plain": [
              "[(0, 0.4082482904638631),\n",
              " (1, 0.75),\n",
              " (2, 0.75),\n",
              " (3, 1.0),\n",
              " (4, 0.5),\n",
              " (5, 0.4472135954999579),\n",
              " (6, 0.4082482904638631),\n",
              " (7, 0.3779644730092272),\n",
              " (8, 0.4082482904638631),\n",
              " (9, 0.5),\n",
              " (10, 0.4082482904638631),\n",
              " (11, 0.3779644730092272),\n",
              " (12, 0.4082482904638631),\n",
              " (13, 0.5),\n",
              " (14, 0.5),\n",
              " (15, 0.5),\n",
              " (16, 0.2672612419124244),\n",
              " (17, 0.4472135954999579),\n",
              " (18, 0.5),\n",
              " (19, 0.4472135954999579)]"
            ]
          },
          "metadata": {
            "tags": []
          },
          "execution_count": 79
        }
      ]
    },
    {
      "cell_type": "code",
      "metadata": {
        "colab": {
          "base_uri": "https://localhost:8080/"
        },
        "id": "XYIZ_WY9mXjr",
        "outputId": "6de1506b-ce55-410c-b7a4-1c5a64f33ea1"
      },
      "source": [
        "#sort the chocos in the list similar_choco. \n",
        "sorted_similar_choco = sorted(similar_choco, key=lambda x:x[1], reverse=True)\n",
        "sorted_similar_choco[:10]"
      ],
      "execution_count": 80,
      "outputs": [
        {
          "output_type": "execute_result",
          "data": {
            "text/plain": [
              "[(3, 1.0),\n",
              " (1, 0.75),\n",
              " (2, 0.75),\n",
              " (4, 0.5),\n",
              " (9, 0.5),\n",
              " (13, 0.5),\n",
              " (14, 0.5),\n",
              " (15, 0.5),\n",
              " (18, 0.5),\n",
              " (5, 0.4472135954999579)]"
            ]
          },
          "metadata": {
            "tags": []
          },
          "execution_count": 80
        }
      ]
    },
    {
      "cell_type": "code",
      "metadata": {
        "colab": {
          "base_uri": "https://localhost:8080/"
        },
        "id": "emifdmDvmt-2",
        "outputId": "66be2686-de4d-46c3-d4f3-d0c763e33511"
      },
      "source": [
        "#define a simple function that takes the index number and covert it into the choco name as in the dataframe.\n",
        "def get_name_from_index(index):\n",
        "    return features[features.index == index]['Name'].values[0]\n",
        "i=0\n",
        "for choco in sorted_similar_choco:\n",
        "    print(get_name_from_index(choco[0]))\n",
        "    i=i+1\n",
        "    if i>10:\n",
        "        break"
      ],
      "execution_count": 81,
      "outputs": [
        {
          "output_type": "stream",
          "text": [
            "Akata\n",
            "Kpime\n",
            "Atsane\n",
            "Quilla\n",
            "Pablino\n",
            "Equateur\n",
            "Colombie\n",
            "Birmanie\n",
            "Piura\n",
            "Carenero\n",
            "Chuao\n"
          ],
          "name": "stdout"
        }
      ]
    },
    {
      "cell_type": "code",
      "metadata": {
        "id": "nsqJA0afuKSr"
      },
      "source": [
        "#all in one function\n",
        "def combined_recommend(cacao_name, N=10):\n",
        "    # Get the index of the chocolate\n",
        "    index = get_index_from_name(cacao_name)\n",
        "    \n",
        "    # Put all the similarity scores in a list with their index\n",
        "    similar_choco = list(enumerate(cosine_sim[index]))\n",
        "    \n",
        "    # Sort the list by the similarity score\n",
        "    sorted_similar_choco = sorted(similar_choco, key=lambda x:x[1], reverse=True)\n",
        "    \n",
        "    # Get the first N items\n",
        "    sim_scores = sorted_similar_choco[1:N+1]\n",
        "    \n",
        "    # Put their indices in a list\n",
        "    cacao_indices = [x[0] for x in sim_scores]\n",
        "    \n",
        "    # Return the chocolate names\n",
        "    return list(features['Name'].iloc[cacao_indices])"
      ],
      "execution_count": 82,
      "outputs": []
    },
    {
      "cell_type": "code",
      "metadata": {
        "colab": {
          "base_uri": "https://localhost:8080/"
        },
        "id": "aoK-ge2TvJU6",
        "outputId": "069cf465-0d1c-4ff5-ee8a-37ae35cb8e64"
      },
      "source": [
        "combined_recommend('Akata')"
      ],
      "execution_count": 83,
      "outputs": [
        {
          "output_type": "execute_result",
          "data": {
            "text/plain": [
              "['Kpime',\n",
              " 'Atsane',\n",
              " 'Quilla',\n",
              " 'Pablino',\n",
              " 'Equateur',\n",
              " 'Colombie',\n",
              " 'Birmanie',\n",
              " 'Piura',\n",
              " 'Carenero',\n",
              " 'Chuao']"
            ]
          },
          "metadata": {
            "tags": []
          },
          "execution_count": 83
        }
      ]
    },
    {
      "cell_type": "markdown",
      "metadata": {
        "id": "Bc8dxlaYmZxy"
      },
      "source": [
        "###based on numeric features"
      ]
    },
    {
      "cell_type": "code",
      "metadata": {
        "id": "2xQmjOExelJC"
      },
      "source": [
        "features_as_array = features.drop(columns=['Name', 'combined_features']).to_numpy()\n",
        "Similarities = cosine_similarity(features_as_array, features_as_array)"
      ],
      "execution_count": 84,
      "outputs": []
    },
    {
      "cell_type": "code",
      "metadata": {
        "colab": {
          "base_uri": "https://localhost:8080/"
        },
        "id": "vafm4k_lfQpb",
        "outputId": "36cf0673-ff1e-4173-e801-add1793acb76"
      },
      "source": [
        "Similarities.shape"
      ],
      "execution_count": 85,
      "outputs": [
        {
          "output_type": "execute_result",
          "data": {
            "text/plain": [
              "(1793, 1793)"
            ]
          },
          "metadata": {
            "tags": []
          },
          "execution_count": 85
        }
      ]
    },
    {
      "cell_type": "code",
      "metadata": {
        "colab": {
          "base_uri": "https://localhost:8080/"
        },
        "id": "HhVRlEq3fadB",
        "outputId": "8fc1bb24-8646-422a-a67c-d0df5c4b66cc"
      },
      "source": [
        "def get_index(cacao_name):\n",
        "    return features.loc[features['Name'] == cacao_name].index[0]\n",
        "\n",
        "print('Index of cacao flavor: {}'.format(get_index('Atsane')))"
      ],
      "execution_count": 86,
      "outputs": [
        {
          "output_type": "stream",
          "text": [
            "Index of cacao flavor: 2\n"
          ],
          "name": "stdout"
        }
      ]
    },
    {
      "cell_type": "code",
      "metadata": {
        "id": "IvWGRBnMfgaY"
      },
      "source": [
        "def recommend(cacao_name, N=10):\n",
        "    # Get the index of the chocolate\n",
        "    index = get_index(cacao_name)\n",
        "    \n",
        "    # Put all the similarity scores in a list with their index\n",
        "    sim_scores = list(enumerate(Similarities[index]))\n",
        "    \n",
        "    # Sort the list by the similarity score\n",
        "    sim_scores = sorted(sim_scores, key=lambda x: x[1], reverse=True)\n",
        "    \n",
        "    # Get the first N items\n",
        "    sim_scores = sim_scores[1:N+1]\n",
        "    \n",
        "    # Put their indices in a list\n",
        "    cacao_indices = [x[0] for x in sim_scores]\n",
        "    \n",
        "    # Return the chocolate names\n",
        "    return list(features['Name'].iloc[cacao_indices])"
      ],
      "execution_count": 87,
      "outputs": []
    },
    {
      "cell_type": "code",
      "metadata": {
        "colab": {
          "base_uri": "https://localhost:8080/"
        },
        "id": "ir1Oof1rfuGR",
        "outputId": "7ba6db26-cd16-47c3-ffce-c69964f4fe07"
      },
      "source": [
        "recommend('Akata')"
      ],
      "execution_count": 88,
      "outputs": [
        {
          "output_type": "execute_result",
          "data": {
            "text/plain": [
              "['Atsane',\n",
              " 'Kpime',\n",
              " 'Quilla',\n",
              " 'Acopagro',\n",
              " 'Villa Andina',\n",
              " 'Gruppo Salinas',\n",
              " 'San Juan',\n",
              " 'Momotombo',\n",
              " 'CIAAB Coop',\n",
              " 'Kokoa Kamili']"
            ]
          },
          "metadata": {
            "tags": []
          },
          "execution_count": 88
        }
      ]
    }
  ]
}